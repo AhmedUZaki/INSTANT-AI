{
 "cells": [
  {
   "cell_type": "code",
   "execution_count": 1,
   "metadata": {
    "ExecuteTime": {
     "end_time": "2022-06-13T17:40:43.087610Z",
     "start_time": "2022-06-13T17:40:43.085612Z"
    }
   },
   "outputs": [],
   "source": [
    "import numpy as np"
   ]
  },
  {
   "cell_type": "code",
   "execution_count": 3,
   "metadata": {
    "ExecuteTime": {
     "end_time": "2022-06-13T17:41:04.557762Z",
     "start_time": "2022-06-13T17:41:04.551762Z"
    }
   },
   "outputs": [
    {
     "data": {
      "text/plain": [
       "array([[0.70559839, 0.335185  , 0.29645069, 0.27919852, 0.20529022],\n",
       "       [0.42793002, 0.37233157, 0.20844357, 0.48522647, 0.37011982],\n",
       "       [0.30016114, 0.22028797, 0.41089286, 0.92305527, 0.73817892],\n",
       "       [0.28236902, 0.55939517, 0.19602215, 0.99969054, 0.10164654],\n",
       "       [0.2316462 , 0.17119903, 0.9679891 , 0.81802477, 0.91677667]])"
      ]
     },
     "execution_count": 3,
     "metadata": {},
     "output_type": "execute_result"
    }
   ],
   "source": [
    "arr = np.random.rand(5,5)\n",
    "arr"
   ]
  },
  {
   "cell_type": "markdown",
   "metadata": {},
   "source": [
    "### element-wise addition, subtraction, multiplication and division"
   ]
  },
  {
   "cell_type": "code",
   "execution_count": 4,
   "metadata": {
    "ExecuteTime": {
     "end_time": "2022-06-13T17:41:24.438784Z",
     "start_time": "2022-06-13T17:41:24.433782Z"
    }
   },
   "outputs": [
    {
     "name": "stdout",
     "output_type": "stream",
     "text": [
      "[[10.70559839 10.335185   10.29645069 10.27919852 10.20529022]\n",
      " [10.42793002 10.37233157 10.20844357 10.48522647 10.37011982]\n",
      " [10.30016114 10.22028797 10.41089286 10.92305527 10.73817892]\n",
      " [10.28236902 10.55939517 10.19602215 10.99969054 10.10164654]\n",
      " [10.2316462  10.17119903 10.9679891  10.81802477 10.91677667]]\n",
      "\n",
      "[[-9.29440161 -9.664815   -9.70354931 -9.72080148 -9.79470978]\n",
      " [-9.57206998 -9.62766843 -9.79155643 -9.51477353 -9.62988018]\n",
      " [-9.69983886 -9.77971203 -9.58910714 -9.07694473 -9.26182108]\n",
      " [-9.71763098 -9.44060483 -9.80397785 -9.00030946 -9.89835346]\n",
      " [-9.7683538  -9.82880097 -9.0320109  -9.18197523 -9.08322333]]\n",
      "\n",
      "[[7.05598395 3.35184996 2.96450686 2.79198523 2.0529022 ]\n",
      " [4.27930016 3.72331574 2.08443573 4.85226466 3.70119818]\n",
      " [3.00161145 2.20287968 4.10892859 9.23055273 7.38178923]\n",
      " [2.82369017 5.59395173 1.96022148 9.99690544 1.01646539]\n",
      " [2.31646197 1.71199032 9.67989095 8.18024771 9.16776666]]\n",
      "\n",
      "[[0.07055984 0.0335185  0.02964507 0.02791985 0.02052902]\n",
      " [0.042793   0.03723316 0.02084436 0.04852265 0.03701198]\n",
      " [0.03001611 0.0220288  0.04108929 0.09230553 0.07381789]\n",
      " [0.0282369  0.05593952 0.01960221 0.09996905 0.01016465]\n",
      " [0.02316462 0.0171199  0.09679891 0.08180248 0.09167767]]\n"
     ]
    }
   ],
   "source": [
    "print(arr + 10)\n",
    "print()\n",
    "print(arr - 10)\n",
    "print()\n",
    "print(arr * 10)\n",
    "print()\n",
    "print(arr / 10)"
   ]
  },
  {
   "cell_type": "code",
   "execution_count": 5,
   "metadata": {
    "ExecuteTime": {
     "end_time": "2022-06-13T17:42:06.164339Z",
     "start_time": "2022-06-13T17:42:06.160339Z"
    }
   },
   "outputs": [
    {
     "name": "stdout",
     "output_type": "stream",
     "text": [
      "[ 9 11 13]\n",
      "[ 7 10  1]\n",
      "[ 7 20  3]\n"
     ]
    }
   ],
   "source": [
    "# the above operations can be performed using numpy built-in functions\n",
    "# which can save memory as the output can be stored in the original array rather than assigning new memory\n",
    "arr1 = np.array([1,2,3])\n",
    "x = np.add(arr1, [8,9,10], out=arr1)\n",
    "print(arr1)\n",
    "\n",
    "np.subtract(arr1, [2,1,12], out=arr1)\n",
    "print(arr1)\n",
    "\n",
    "np.multiply(arr1, [1,2,3], out=arr1)\n",
    "print(arr1)"
   ]
  },
  {
   "cell_type": "markdown",
   "metadata": {},
   "source": [
    "### element-wise exponentiation"
   ]
  },
  {
   "cell_type": "code",
   "execution_count": 6,
   "metadata": {
    "ExecuteTime": {
     "end_time": "2022-06-13T17:42:11.015293Z",
     "start_time": "2022-06-13T17:42:11.012291Z"
    }
   },
   "outputs": [
    {
     "name": "stdout",
     "output_type": "stream",
     "text": [
      "[[2.02505811 1.39819902 1.34507623 1.32206978 1.22788137]\n",
      " [1.53407872 1.45111405 1.23175942 1.62454287 1.44790809]\n",
      " [1.35007635 1.24643561 1.50816376 2.51696868 2.09212213]\n",
      " [1.32626805 1.74961397 1.21655385 2.71744077 1.10699212]\n",
      " [1.26067362 1.18672692 2.63264513 2.26601951 2.50121513]]\n"
     ]
    }
   ],
   "source": [
    "print(np.exp(arr))"
   ]
  },
  {
   "cell_type": "markdown",
   "metadata": {},
   "source": [
    "### element-wise logorithm"
   ]
  },
  {
   "cell_type": "code",
   "execution_count": 9,
   "metadata": {
    "ExecuteTime": {
     "end_time": "2022-06-13T17:42:21.874214Z",
     "start_time": "2022-06-13T17:42:21.870213Z"
    }
   },
   "outputs": [
    {
     "name": "stdout",
     "output_type": "stream",
     "text": [
      "[[-3.48709049e-01 -1.09307267e+00 -1.21587440e+00 -1.27583220e+00\n",
      "  -1.58333059e+00]\n",
      " [-8.48795611e-01 -9.87970494e-01 -1.56808691e+00 -7.23139557e-01\n",
      "  -9.93928493e-01]\n",
      " [-1.20343580e+00 -1.51281964e+00 -8.89422781e-01 -8.00661617e-02\n",
      "  -3.03569041e-01]\n",
      " [-1.26454049e+00 -5.80899126e-01 -1.62952763e+00 -3.09504116e-04\n",
      "  -2.28625378e+00]\n",
      " [-1.46254409e+00 -1.76492847e+00 -3.25344568e-02 -2.00862661e-01\n",
      "  -8.68913847e-02]]\n"
     ]
    }
   ],
   "source": [
    "# natural log ( base e )\n",
    "print(np.log(arr)) "
   ]
  },
  {
   "cell_type": "code",
   "execution_count": 10,
   "metadata": {
    "ExecuteTime": {
     "end_time": "2022-06-13T17:42:23.931411Z",
     "start_time": "2022-06-13T17:42:23.928408Z"
    }
   },
   "outputs": [
    {
     "name": "stdout",
     "output_type": "stream",
     "text": [
      "[[-5.03080816e-01 -1.57697052e+00 -1.75413596e+00 -1.84063679e+00\n",
      "  -2.28426319e+00]\n",
      " [-1.22455322e+00 -1.42534013e+00 -2.26227121e+00 -1.04326985e+00\n",
      "  -1.43393571e+00]\n",
      " [-1.73619086e+00 -2.18253739e+00 -1.28316584e+00 -1.15511054e-01\n",
      "  -4.37957550e-01]\n",
      " [-1.82434630e+00 -8.38060289e-01 -2.35091143e+00 -4.46520053e-04\n",
      "  -3.29836700e+00]\n",
      " [-2.11000510e+00 -2.54625355e+00 -4.69372995e-02 -2.89783565e-01\n",
      "  -1.25357770e-01]]\n"
     ]
    }
   ],
   "source": [
    "# base 2\n",
    "print(np.log2(arr))     "
   ]
  },
  {
   "cell_type": "code",
   "execution_count": 11,
   "metadata": {
    "ExecuteTime": {
     "end_time": "2022-06-13T17:42:25.776911Z",
     "start_time": "2022-06-13T17:42:25.774910Z"
    }
   },
   "outputs": [
    {
     "name": "stdout",
     "output_type": "stream",
     "text": [
      "[[-1.51442416e-01 -4.74715429e-01 -5.28047541e-01 -5.54086884e-01\n",
      "  -6.87631739e-01]\n",
      " [-3.68627250e-01 -4.29070134e-01 -6.81011492e-01 -3.14055519e-01\n",
      "  -4.31657660e-01]\n",
      " [-5.22645527e-01 -6.57009222e-01 -3.86271406e-01 -3.47722922e-02\n",
      "  -1.31838360e-01]\n",
      " [-5.49182957e-01 -2.52281285e-01 -7.07694857e-01 -1.34415930e-04\n",
      "  -9.92907403e-01]\n",
      " [-6.35174826e-01 -7.66498694e-01 -1.41295351e-02 -8.72335452e-02\n",
      "  -3.77364489e-02]]\n"
     ]
    }
   ],
   "source": [
    "# base 10\n",
    "print(np.log10(arr))    "
   ]
  },
  {
   "cell_type": "markdown",
   "metadata": {},
   "source": [
    "### element-wise square root"
   ]
  },
  {
   "cell_type": "code",
   "execution_count": 12,
   "metadata": {
    "ExecuteTime": {
     "end_time": "2022-06-13T17:42:32.733565Z",
     "start_time": "2022-06-13T17:42:32.729566Z"
    }
   },
   "outputs": [
    {
     "name": "stdout",
     "output_type": "stream",
     "text": [
      "[[0.83999904 0.57895164 0.54447285 0.52839239 0.45308964]\n",
      " [0.6541636  0.61018979 0.45655621 0.69658199 0.60837473]\n",
      " [0.54786964 0.46934845 0.64100925 0.96075766 0.85917339]\n",
      " [0.53138406 0.74792725 0.44274389 0.99984526 0.31882054]\n",
      " [0.48129637 0.41376205 0.98386437 0.90444722 0.95748455]]\n"
     ]
    }
   ],
   "source": [
    "print(np.sqrt(arr))"
   ]
  },
  {
   "cell_type": "markdown",
   "metadata": {},
   "source": [
    "### element-wise sine and cosine"
   ]
  },
  {
   "cell_type": "code",
   "execution_count": 13,
   "metadata": {
    "ExecuteTime": {
     "end_time": "2022-06-13T17:42:34.772085Z",
     "start_time": "2022-06-13T17:42:34.767084Z"
    }
   },
   "outputs": [
    {
     "name": "stdout",
     "output_type": "stream",
     "text": [
      "[[0.64848946 0.32894388 0.29212756 0.2755853  0.20385129]\n",
      " [0.41498837 0.36378824 0.20693741 0.4664087  0.36172714]\n",
      " [0.29567415 0.21851064 0.39942803 0.79744885 0.67294199]\n",
      " [0.27863163 0.53067366 0.19476921 0.84130374 0.10147159]\n",
      " [0.22958006 0.17036398 0.82374728 0.72979686 0.79364473]]\n"
     ]
    }
   ],
   "source": [
    "print(np.sin(arr))"
   ]
  },
  {
   "cell_type": "code",
   "execution_count": 14,
   "metadata": {
    "ExecuteTime": {
     "end_time": "2022-06-13T17:42:35.711387Z",
     "start_time": "2022-06-13T17:42:35.708385Z"
    },
    "scrolled": true
   },
   "outputs": [
    {
     "name": "stdout",
     "output_type": "stream",
     "text": [
      "[[0.76122364 0.94434947 0.95637936 0.96127662 0.97900186]\n",
      " [0.90982672 0.93148168 0.97835418 0.88456935 0.93228401]\n",
      " [0.95528886 0.97583457 0.91676456 0.60338655 0.73969526]\n",
      " [0.96039805 0.84757623 0.9808491  0.54056268 0.99483844]\n",
      " [0.97328978 0.9853812  0.56695715 0.68366406 0.60838149]]\n"
     ]
    }
   ],
   "source": [
    "print(np.cos(arr))"
   ]
  },
  {
   "cell_type": "markdown",
   "metadata": {},
   "source": [
    "### sum along a specified axis"
   ]
  },
  {
   "cell_type": "code",
   "execution_count": 15,
   "metadata": {
    "ExecuteTime": {
     "end_time": "2022-06-13T17:42:42.775540Z",
     "start_time": "2022-06-13T17:42:42.773539Z"
    }
   },
   "outputs": [
    {
     "name": "stdout",
     "output_type": "stream",
     "text": [
      "[1.94770477 1.65839874 2.07979836 3.50519558 2.33201217]\n"
     ]
    }
   ],
   "source": [
    "# sum along the row\n",
    "print(np.sum(arr, axis=0))    "
   ]
  },
  {
   "cell_type": "code",
   "execution_count": 16,
   "metadata": {
    "ExecuteTime": {
     "end_time": "2022-06-13T17:42:47.791840Z",
     "start_time": "2022-06-13T17:42:47.789836Z"
    }
   },
   "outputs": [
    {
     "name": "stdout",
     "output_type": "stream",
     "text": [
      "[1.82172282 1.86405145 2.59257617 2.13912342 3.10563576]\n"
     ]
    }
   ],
   "source": [
    "# sum along the column\n",
    "print(np.sum(arr, axis=1))    "
   ]
  },
  {
   "cell_type": "code",
   "execution_count": 17,
   "metadata": {
    "ExecuteTime": {
     "end_time": "2022-06-13T17:42:51.386653Z",
     "start_time": "2022-06-13T17:42:51.383651Z"
    }
   },
   "outputs": [
    {
     "name": "stdout",
     "output_type": "stream",
     "text": [
      "11.523109618079697\n"
     ]
    }
   ],
   "source": [
    "print(np.sum(arr))"
   ]
  },
  {
   "cell_type": "markdown",
   "metadata": {},
   "source": [
    "### compute the min and max along a specified axis"
   ]
  },
  {
   "cell_type": "code",
   "execution_count": 18,
   "metadata": {
    "ExecuteTime": {
     "end_time": "2022-06-13T17:42:57.500339Z",
     "start_time": "2022-06-13T17:42:57.496339Z"
    }
   },
   "outputs": [
    {
     "name": "stdout",
     "output_type": "stream",
     "text": [
      "[0.2316462  0.17119903 0.19602215 0.27919852 0.10164654]\n"
     ]
    }
   ],
   "source": [
    "# calculate min along the row\n",
    "print(np.min(arr, axis=0))"
   ]
  },
  {
   "cell_type": "code",
   "execution_count": 19,
   "metadata": {
    "ExecuteTime": {
     "end_time": "2022-06-13T17:43:02.217186Z",
     "start_time": "2022-06-13T17:43:02.215182Z"
    }
   },
   "outputs": [
    {
     "name": "stdout",
     "output_type": "stream",
     "text": [
      "[0.70559839 0.48522647 0.92305527 0.99969054 0.9679891 ]\n"
     ]
    }
   ],
   "source": [
    "# calculate max along the column\n",
    "print(np.max(arr, axis=1))    "
   ]
  },
  {
   "cell_type": "code",
   "execution_count": 20,
   "metadata": {
    "ExecuteTime": {
     "end_time": "2022-06-13T17:43:07.756744Z",
     "start_time": "2022-06-13T17:43:07.753747Z"
    }
   },
   "outputs": [
    {
     "name": "stdout",
     "output_type": "stream",
     "text": [
      "0.9996905437757506\n",
      "0.10164653937081758\n"
     ]
    }
   ],
   "source": [
    "# if axis not specified, calculate the max/min value of all elements\n",
    "print(np.max(arr))\n",
    "print(np.min(arr))"
   ]
  },
  {
   "cell_type": "markdown",
   "metadata": {},
   "source": [
    "### compute the indices of the min and max along a specified axis"
   ]
  },
  {
   "cell_type": "code",
   "execution_count": 21,
   "metadata": {
    "ExecuteTime": {
     "end_time": "2022-06-13T17:43:10.634053Z",
     "start_time": "2022-06-13T17:43:10.628053Z"
    }
   },
   "outputs": [
    {
     "data": {
      "text/plain": [
       "array([[0.70559839, 0.335185  , 0.29645069, 0.27919852, 0.20529022],\n",
       "       [0.42793002, 0.37233157, 0.20844357, 0.48522647, 0.37011982],\n",
       "       [0.30016114, 0.22028797, 0.41089286, 0.92305527, 0.73817892],\n",
       "       [0.28236902, 0.55939517, 0.19602215, 0.99969054, 0.10164654],\n",
       "       [0.2316462 , 0.17119903, 0.9679891 , 0.81802477, 0.91677667]])"
      ]
     },
     "execution_count": 21,
     "metadata": {},
     "output_type": "execute_result"
    }
   ],
   "source": [
    "arr"
   ]
  },
  {
   "cell_type": "code",
   "execution_count": 19,
   "metadata": {
    "ExecuteTime": {
     "end_time": "2022-06-04T12:35:14.319273Z",
     "start_time": "2022-06-04T12:35:14.310273Z"
    }
   },
   "outputs": [
    {
     "name": "stdout",
     "output_type": "stream",
     "text": [
      "[1 4 3 3 2]\n",
      "[0 1 0 4 1]\n"
     ]
    }
   ],
   "source": [
    "# along the row\n",
    "print(np.argmin(arr, axis=0))\n",
    "print(np.argmax(arr, axis=0))"
   ]
  },
  {
   "cell_type": "code",
   "execution_count": 22,
   "metadata": {
    "ExecuteTime": {
     "end_time": "2022-02-12T19:25:37.190664Z",
     "start_time": "2022-02-12T19:25:37.185665Z"
    }
   },
   "outputs": [
    {
     "name": "stdout",
     "output_type": "stream",
     "text": [
      "[2 1 2 1 2]\n",
      "[4 3 4 4 1]\n"
     ]
    }
   ],
   "source": [
    "# along the column\n",
    "print(np.argmin(arr, axis=1))\n",
    "print(np.argmax(arr, axis=1))"
   ]
  },
  {
   "cell_type": "code",
   "execution_count": 22,
   "metadata": {
    "ExecuteTime": {
     "end_time": "2022-06-13T17:43:14.302154Z",
     "start_time": "2022-06-13T17:43:14.299152Z"
    },
    "scrolled": true
   },
   "outputs": [
    {
     "name": "stdout",
     "output_type": "stream",
     "text": [
      "19\n",
      "18\n"
     ]
    }
   ],
   "source": [
    "# if axis not specified, return the index of the flattened array\n",
    "print(np.argmin(arr))\n",
    "print(np.argmax(arr))"
   ]
  },
  {
   "cell_type": "code",
   "execution_count": 21,
   "metadata": {
    "ExecuteTime": {
     "end_time": "2022-02-18T11:48:54.030953Z",
     "start_time": "2022-02-18T11:48:54.020954Z"
    }
   },
   "outputs": [
    {
     "data": {
      "text/plain": [
       "array([[0.26762104, 0.32633307, 0.38717747, 0.66373861, 0.37342205],\n",
       "       [0.0612703 , 0.86632095, 0.66903482, 0.32633167, 0.21112867],\n",
       "       [0.78140627, 0.64216104, 0.21016427, 0.014947  , 0.95493328],\n",
       "       [0.44526838, 0.02785064, 0.50920261, 0.11466006, 0.89699822],\n",
       "       [0.32762645, 0.09038554, 0.04149125, 0.58866664, 0.66182221]])"
      ]
     },
     "execution_count": 21,
     "metadata": {},
     "output_type": "execute_result"
    }
   ],
   "source": [
    "arr"
   ]
  },
  {
   "cell_type": "markdown",
   "metadata": {},
   "source": [
    "### compute element-wise min and max of two arrays"
   ]
  },
  {
   "cell_type": "code",
   "execution_count": 24,
   "metadata": {
    "ExecuteTime": {
     "end_time": "2022-06-13T17:43:56.165095Z",
     "start_time": "2022-06-13T17:43:56.161090Z"
    }
   },
   "outputs": [
    {
     "name": "stdout",
     "output_type": "stream",
     "text": [
      "[1 4 5 8 9]\n",
      "\n",
      "[0 3 3 7 7]\n"
     ]
    }
   ],
   "source": [
    "arr1 = np.array([1, 3, 5, 7, 9])\n",
    "arr2 = np.array([0, 4, 3, 8, 7])\n",
    "print(np.maximum(arr1, arr2))\n",
    "print()\n",
    "print(np.minimum(arr1, arr2))"
   ]
  },
  {
   "cell_type": "markdown",
   "metadata": {},
   "source": [
    "### split fractional and integral parts of a floating-point array"
   ]
  },
  {
   "cell_type": "code",
   "execution_count": 26,
   "metadata": {
    "ExecuteTime": {
     "end_time": "2021-09-18T10:47:43.047337Z",
     "start_time": "2021-09-18T10:47:43.028388Z"
    },
    "scrolled": false
   },
   "outputs": [
    {
     "name": "stdout",
     "output_type": "stream",
     "text": [
      "6.666666666666667\n",
      "['6', '666666666666667']\n",
      "fraction = 666666666666667\n",
      "666666666666667\n",
      "6\n"
     ]
    }
   ],
   "source": [
    "print(20 / 3)\n",
    "x = 20/3\n",
    "x = str(x)\n",
    "print(x.split(\".\"))\n",
    "anas = x.split(\".\")[1]\n",
    "print(f\"fraction = {anas}\")\n",
    "x = int(x[2:])\n",
    "\n",
    "print(x)\n",
    "print (20 // 3)"
   ]
  },
  {
   "cell_type": "code",
   "execution_count": 27,
   "metadata": {
    "ExecuteTime": {
     "end_time": "2021-09-18T10:48:41.094034Z",
     "start_time": "2021-09-18T10:48:41.076082Z"
    }
   },
   "outputs": [
    {
     "name": "stdout",
     "output_type": "stream",
     "text": [
      "0.666666666666667\n",
      "666666666666667\n"
     ]
    }
   ],
   "source": [
    "y= ((20/3)-(20 // 3))\n",
    "print(y)\n",
    "x = (len(str((20/3)-(20 // 3)))-2)\n",
    "print(int((10**x) * y))"
   ]
  },
  {
   "cell_type": "code",
   "execution_count": 28,
   "metadata": {
    "ExecuteTime": {
     "end_time": "2021-09-18T10:48:59.052720Z",
     "start_time": "2021-09-18T10:48:59.042748Z"
    }
   },
   "outputs": [
    {
     "data": {
      "text/plain": [
       "2"
      ]
     },
     "execution_count": 28,
     "metadata": {},
     "output_type": "execute_result"
    }
   ],
   "source": [
    "20 % 3"
   ]
  },
  {
   "cell_type": "code",
   "execution_count": 26,
   "metadata": {
    "ExecuteTime": {
     "end_time": "2022-02-12T19:27:56.594728Z",
     "start_time": "2022-02-12T19:27:56.586729Z"
    }
   },
   "outputs": [
    {
     "name": "stdout",
     "output_type": "stream",
     "text": [
      "[9.98334473 2.96717368 0.7977923  5.10874603 1.69011241 6.60565561\n",
      " 7.45315441 3.87432335 4.86616336 5.83444669]\n",
      "\n",
      "fractional:  [0.98334473 0.96717368 0.7977923  0.10874603 0.69011241 0.60565561\n",
      " 0.45315441 0.87432335 0.86616336 0.83444669]\n",
      "integral:  [9. 2. 0. 5. 1. 6. 7. 3. 4. 5.]\n"
     ]
    }
   ],
   "source": [
    "arr1 = np.random.rand(10) * 10\n",
    "\n",
    "print(arr1)\n",
    "print()\n",
    "re, intg = np.modf(arr1)\n",
    "print('fractional: ', re)\n",
    "print('integral: ', intg)"
   ]
  },
  {
   "cell_type": "code",
   "execution_count": 24,
   "metadata": {
    "ExecuteTime": {
     "end_time": "2021-09-30T11:53:00.924261Z",
     "start_time": "2021-09-30T11:53:00.911294Z"
    }
   },
   "outputs": [
    {
     "name": "stdout",
     "output_type": "stream",
     "text": [
      "0.23\n",
      "1\n"
     ]
    }
   ],
   "source": [
    "newarr = np.array([1.23,])\n",
    "re , intg  = np.modf(newarr)\n",
    "\n",
    "# rounding the number to get the accurate reuslt\n",
    "fraction = round(float(re), 2)\n",
    "integer = int(intg)\n",
    "print(fraction)\n",
    "print(integer)"
   ]
  },
  {
   "cell_type": "markdown",
   "metadata": {},
   "source": [
    "### compute the mean"
   ]
  },
  {
   "cell_type": "code",
   "execution_count": 25,
   "metadata": {
    "ExecuteTime": {
     "end_time": "2022-06-13T17:44:04.127338Z",
     "start_time": "2022-06-13T17:44:04.124336Z"
    }
   },
   "outputs": [
    {
     "name": "stdout",
     "output_type": "stream",
     "text": [
      "0.4609243847231879\n"
     ]
    }
   ],
   "source": [
    "# compute the overall mean\n",
    "print(np.mean(arr))"
   ]
  },
  {
   "cell_type": "code",
   "execution_count": 26,
   "metadata": {
    "ExecuteTime": {
     "end_time": "2022-06-13T17:44:09.142203Z",
     "start_time": "2022-06-13T17:44:09.139200Z"
    }
   },
   "outputs": [
    {
     "name": "stdout",
     "output_type": "stream",
     "text": [
      "[0.38954095 0.33167975 0.41595967 0.70103912 0.46640243]\n"
     ]
    }
   ],
   "source": [
    "# compute the mean along the row\n",
    "print(np.mean(arr, axis=0))   "
   ]
  },
  {
   "cell_type": "code",
   "execution_count": 27,
   "metadata": {
    "ExecuteTime": {
     "end_time": "2022-06-13T17:44:11.480410Z",
     "start_time": "2022-06-13T17:44:11.477409Z"
    }
   },
   "outputs": [
    {
     "name": "stdout",
     "output_type": "stream",
     "text": [
      "[0.36434456 0.37281029 0.51851523 0.42782468 0.62112715]\n"
     ]
    }
   ],
   "source": [
    "# compute the mean along the column\n",
    "print(np.mean(arr, axis=1)) "
   ]
  },
  {
   "cell_type": "markdown",
   "metadata": {},
   "source": [
    "### compute the median"
   ]
  },
  {
   "cell_type": "code",
   "execution_count": 28,
   "metadata": {
    "ExecuteTime": {
     "end_time": "2022-06-13T17:44:16.669214Z",
     "start_time": "2022-06-13T17:44:16.666213Z"
    }
   },
   "outputs": [
    {
     "name": "stdout",
     "output_type": "stream",
     "text": [
      "7.0\n"
     ]
    }
   ],
   "source": [
    "# compute the overall median\n",
    "x = [1,2,4,6,7,8,9,12, 20]\n",
    "print(np.median(x))"
   ]
  },
  {
   "cell_type": "code",
   "execution_count": 29,
   "metadata": {
    "ExecuteTime": {
     "end_time": "2022-06-13T17:44:20.685152Z",
     "start_time": "2022-06-13T17:44:20.681151Z"
    }
   },
   "outputs": [
    {
     "name": "stdout",
     "output_type": "stream",
     "text": [
      "[0.30016114 0.335185   0.29645069 0.81802477 0.37011982]\n"
     ]
    }
   ],
   "source": [
    "# compute the median along the row\n",
    "print(np.median(arr, axis=0)) "
   ]
  },
  {
   "cell_type": "code",
   "execution_count": 30,
   "metadata": {
    "ExecuteTime": {
     "end_time": "2022-06-13T17:44:22.459404Z",
     "start_time": "2022-06-13T17:44:22.456403Z"
    }
   },
   "outputs": [
    {
     "name": "stdout",
     "output_type": "stream",
     "text": [
      "[0.29645069 0.37233157 0.41089286 0.28236902 0.81802477]\n"
     ]
    }
   ],
   "source": [
    "# compute the median along the column\n",
    "print(np.median(arr, axis=1))"
   ]
  },
  {
   "cell_type": "markdown",
   "metadata": {},
   "source": [
    "### compute the percentile"
   ]
  },
  {
   "cell_type": "code",
   "execution_count": 26,
   "metadata": {
    "ExecuteTime": {
     "end_time": "2022-06-04T12:35:43.208892Z",
     "start_time": "2022-06-04T12:35:43.192892Z"
    }
   },
   "outputs": [
    {
     "name": "stdout",
     "output_type": "stream",
     "text": [
      "[0.06324113 0.68166079 0.98234324]\n"
     ]
    }
   ],
   "source": [
    "arr1 = np.random.rand(100)\n",
    "# compute 5, 65, and 95 percentiles of the array\n",
    "print(np.percentile(arr1, [5, 65, 95]))"
   ]
  },
  {
   "cell_type": "markdown",
   "metadata": {},
   "source": [
    "### compute the standard deviation & variance"
   ]
  },
  {
   "cell_type": "code",
   "execution_count": 27,
   "metadata": {
    "ExecuteTime": {
     "end_time": "2022-06-04T12:35:46.321026Z",
     "start_time": "2022-06-04T12:35:46.318024Z"
    }
   },
   "outputs": [
    {
     "name": "stdout",
     "output_type": "stream",
     "text": [
      "0.31691421921254487\n"
     ]
    }
   ],
   "source": [
    "# compute the overall standard deviation\n",
    "print(np.std(arr))"
   ]
  },
  {
   "cell_type": "code",
   "execution_count": 28,
   "metadata": {
    "ExecuteTime": {
     "end_time": "2022-06-04T12:35:49.415449Z",
     "start_time": "2022-06-04T12:35:49.398449Z"
    }
   },
   "outputs": [
    {
     "name": "stdout",
     "output_type": "stream",
     "text": [
      "[0.40651498 0.22925625 0.24713125 0.37487395 0.16827072]\n"
     ]
    }
   ],
   "source": [
    "# compute the standard deviation along the row\n",
    "print(np.std(arr, axis=0))"
   ]
  },
  {
   "cell_type": "code",
   "execution_count": 29,
   "metadata": {
    "ExecuteTime": {
     "end_time": "2022-06-04T12:35:51.644516Z",
     "start_time": "2022-06-04T12:35:51.635519Z"
    }
   },
   "outputs": [
    {
     "name": "stdout",
     "output_type": "stream",
     "text": [
      "[0.24361673 0.31067439 0.19733453 0.36364029 0.34314561]\n"
     ]
    }
   ],
   "source": [
    "# compute the standard deviation along the column\n",
    "print(np.std(arr, axis=1))"
   ]
  },
  {
   "cell_type": "code",
   "execution_count": 30,
   "metadata": {
    "ExecuteTime": {
     "end_time": "2022-06-04T12:35:54.134032Z",
     "start_time": "2022-06-04T12:35:54.120032Z"
    }
   },
   "outputs": [
    {
     "name": "stdout",
     "output_type": "stream",
     "text": [
      "0.10043462233909695\n"
     ]
    }
   ],
   "source": [
    "# compute the overall variance\n",
    "print(np.var(arr))"
   ]
  },
  {
   "cell_type": "code",
   "execution_count": 31,
   "metadata": {
    "ExecuteTime": {
     "end_time": "2022-06-04T12:35:56.678693Z",
     "start_time": "2022-06-04T12:35:56.660694Z"
    }
   },
   "outputs": [
    {
     "name": "stdout",
     "output_type": "stream",
     "text": [
      "[0.16525443 0.05255843 0.06107385 0.14053048 0.02831504]\n"
     ]
    }
   ],
   "source": [
    "# compute the variance along the row\n",
    "print(np.var(arr, axis=0))"
   ]
  },
  {
   "cell_type": "code",
   "execution_count": 32,
   "metadata": {
    "ExecuteTime": {
     "end_time": "2022-06-04T12:35:58.710204Z",
     "start_time": "2022-06-04T12:35:58.705206Z"
    }
   },
   "outputs": [
    {
     "name": "stdout",
     "output_type": "stream",
     "text": [
      "[0.05934911 0.09651858 0.03894092 0.13223426 0.11774891]\n"
     ]
    }
   ],
   "source": [
    "# compute the variance along the column\n",
    "print(np.var(arr, axis=1))"
   ]
  },
  {
   "cell_type": "markdown",
   "metadata": {},
   "source": [
    "### compute the covariance & correlation"
   ]
  },
  {
   "cell_type": "code",
   "execution_count": 33,
   "metadata": {
    "ExecuteTime": {
     "end_time": "2022-06-04T12:36:34.119095Z",
     "start_time": "2022-06-04T12:36:34.103094Z"
    }
   },
   "outputs": [
    {
     "data": {
      "text/plain": [
       "array([[0.04064895, 0.89118294, 0.29135691, 0.81655582, 0.26134072,\n",
       "        0.36155554, 0.06299668, 0.758472  ],\n",
       "       [0.49546723, 0.76564698, 0.53060514, 0.19441138, 0.41685174,\n",
       "        0.60150772, 0.20362636, 0.44151339],\n",
       "       [0.16392179, 0.59051272, 0.64007483, 0.2882677 , 0.31123202,\n",
       "        0.30392522, 0.1715424 , 0.93755612],\n",
       "       [0.30653595, 0.86487783, 0.09504024, 0.93590822, 0.64106486,\n",
       "        0.81496541, 0.12099329, 0.49363603],\n",
       "       [0.20349274, 0.6386304 , 0.22040807, 0.78094032, 0.95823322,\n",
       "        0.63439705, 0.55598415, 0.18235264]])"
      ]
     },
     "execution_count": 33,
     "metadata": {},
     "output_type": "execute_result"
    }
   ],
   "source": [
    "arr = np.random.rand(5,8)\n",
    "arr"
   ]
  },
  {
   "cell_type": "code",
   "execution_count": 36,
   "metadata": {
    "ExecuteTime": {
     "end_time": "2022-02-18T11:56:56.110050Z",
     "start_time": "2022-02-18T11:56:56.059041Z"
    }
   },
   "outputs": [
    {
     "name": "stdout",
     "output_type": "stream",
     "text": [
      "[[ 0.08567154 -0.02817149  0.00271483 -0.0123241  -0.00098763]\n",
      " [-0.02817149  0.0827715   0.0595721   0.03377884  0.02593071]\n",
      " [ 0.00271483  0.0595721   0.07330257  0.04615029  0.01890943]\n",
      " [-0.0123241   0.03377884  0.04615029  0.08110026  0.02107597]\n",
      " [-0.00098763  0.02593071  0.01890943  0.02107597  0.02630454]]\n"
     ]
    }
   ],
   "source": [
    "print(np.cov(arr))"
   ]
  },
  {
   "cell_type": "code",
   "execution_count": 37,
   "metadata": {
    "ExecuteTime": {
     "end_time": "2022-02-18T11:56:57.981195Z",
     "start_time": "2022-02-18T11:56:57.971196Z"
    }
   },
   "outputs": [
    {
     "name": "stdout",
     "output_type": "stream",
     "text": [
      "[[ 1.         -0.31083632]\n",
      " [-0.31083632  1.        ]]\n"
     ]
    }
   ],
   "source": [
    "print(np.corrcoef(arr[:,0], arr[:,1]))"
   ]
  },
  {
   "cell_type": "markdown",
   "metadata": {},
   "source": [
    "### compute cumulative sum & product"
   ]
  },
  {
   "cell_type": "code",
   "execution_count": 39,
   "metadata": {
    "ExecuteTime": {
     "end_time": "2021-09-24T19:22:45.847615Z",
     "start_time": "2021-09-24T19:22:45.834649Z"
    }
   },
   "outputs": [
    {
     "ename": "SyntaxError",
     "evalue": "invalid syntax (<ipython-input-39-d4a9cd301553>, line 1)",
     "output_type": "error",
     "traceback": [
      "\u001b[1;36m  File \u001b[1;32m\"<ipython-input-39-d4a9cd301553>\"\u001b[1;36m, line \u001b[1;32m1\u001b[0m\n\u001b[1;33m    1 3 5 6 8 9\u001b[0m\n\u001b[1;37m      ^\u001b[0m\n\u001b[1;31mSyntaxError\u001b[0m\u001b[1;31m:\u001b[0m invalid syntax\n"
     ]
    }
   ],
   "source": [
    "       1 3 5 6 8 9\n",
    "csum = 1 4 9 15 23 32\n",
    "cpro = 1 3 15 90 720 ... "
   ]
  },
  {
   "cell_type": "code",
   "execution_count": 38,
   "metadata": {
    "ExecuteTime": {
     "end_time": "2022-02-18T11:57:02.126688Z",
     "start_time": "2022-02-18T11:57:02.109675Z"
    }
   },
   "outputs": [
    {
     "name": "stdout",
     "output_type": "stream",
     "text": [
      "[[0.07699789 0.52920376 0.7749342  0.88254456 0.67506679 0.57745162\n",
      "  0.10032377 0.58024666]\n",
      " [0.59347426 0.78172712 1.45870061 0.94270848 1.43247299 0.75375814\n",
      "  0.78049291 0.67714599]\n",
      " [1.09986086 1.17330089 2.3811652  1.39232364 2.00538267 0.95616065\n",
      "  1.35953669 0.69077561]\n",
      " [1.4647305  1.86065436 3.28595412 1.49693147 2.157208   1.29359436\n",
      "  1.92668225 0.86823552]\n",
      " [1.92426634 2.56012851 4.01952478 1.9937673  2.93777457 2.07162761\n",
      "  2.74670332 1.28881656]]\n"
     ]
    }
   ],
   "source": [
    "# calculate the cumulative sums along the row\n",
    "print(np.cumsum(arr, axis=0))    "
   ]
  },
  {
   "cell_type": "code",
   "execution_count": 39,
   "metadata": {
    "ExecuteTime": {
     "end_time": "2022-02-18T11:57:03.996973Z",
     "start_time": "2022-02-18T11:57:03.988973Z"
    }
   },
   "outputs": [
    {
     "name": "stdout",
     "output_type": "stream",
     "text": [
      "[[0.07699789 0.60620165 1.38113585 2.26368041 2.9387472  3.51619882\n",
      "  3.6165226  4.19676926]\n",
      " [0.51647637 0.76899973 1.45276614 1.51293005 2.27033626 2.44664277\n",
      "  3.12681191 3.22371123]\n",
      " [0.50638659 0.89796037 1.82042495 2.27004012 2.84294979 3.04535231\n",
      "  3.62439609 3.63802571]\n",
      " [0.36486965 1.05222312 1.95701205 2.06161987 2.2134452  2.55087891\n",
      "  3.11802447 3.29548439]\n",
      " [0.45953584 1.15900999 1.89258064 2.38941647 3.16998304 3.94801629\n",
      "  4.76803737 5.18861841]]\n"
     ]
    }
   ],
   "source": [
    "# calculate the cumulative sums along the column\n",
    "print(np.cumsum(arr, axis=1))    "
   ]
  },
  {
   "cell_type": "code",
   "execution_count": 40,
   "metadata": {
    "ExecuteTime": {
     "end_time": "2022-02-18T11:57:05.890977Z",
     "start_time": "2022-02-18T11:57:05.875976Z"
    }
   },
   "outputs": [
    {
     "name": "stdout",
     "output_type": "stream",
     "text": [
      "[[7.69978878e-02 5.29203763e-01 7.74934202e-01 8.82544559e-01\n",
      "  6.75066790e-01 5.77451620e-01 1.00323775e-01 5.80246662e-01]\n",
      " [3.97675900e-02 1.33636309e-01 5.29873976e-01 5.30973373e-02\n",
      "  5.11299774e-01 1.01808483e-01 6.82371348e-02 5.62255095e-02]\n",
      " [2.01377744e-02 5.23284738e-02 4.88789978e-01 2.38733681e-02\n",
      "  2.92928587e-01 2.06062932e-02 3.95122885e-02 7.66332348e-04]\n",
      " [7.34766265e-03 3.59681582e-02 4.42251759e-01 2.49734117e-03\n",
      "  4.44739793e-02 6.95325795e-03 2.24092189e-02 1.35993275e-04]\n",
      " [3.37651432e-03 2.51587968e-02 3.24422912e-01 1.24076856e-03\n",
      "  3.47149018e-02 5.40986586e-03 1.83760318e-02 5.71961928e-05]]\n"
     ]
    }
   ],
   "source": [
    "# calculate the cumulative product along the row\n",
    "print(np.cumprod(arr, axis=0))   "
   ]
  },
  {
   "cell_type": "code",
   "execution_count": 41,
   "metadata": {
    "ExecuteTime": {
     "end_time": "2022-02-18T11:57:07.656773Z",
     "start_time": "2022-02-18T11:57:07.649774Z"
    }
   },
   "outputs": [
    {
     "name": "stdout",
     "output_type": "stream",
     "text": [
      "[[7.69978878e-02 4.07475720e-02 3.15766872e-02 2.78678334e-02\n",
      "  1.88126489e-02 1.08633946e-02 1.08985675e-03 6.32385739e-04]\n",
      " [5.16476375e-01 1.30422346e-01 8.91784193e-02 5.36532299e-03\n",
      "  4.06372891e-03 7.16461884e-04 4.87315259e-04 4.72205193e-05]\n",
      " [5.06386594e-01 1.98287709e-01 1.82913390e-01 8.22406342e-02\n",
      "  4.71164550e-02 9.53648907e-03 5.52204469e-03 7.52633727e-05]\n",
      " [3.64869647e-01 2.50794419e-01 2.26916013e-01 2.37371911e-02\n",
      "  3.60390686e-03 1.21607966e-03 6.89694176e-04 1.22393071e-04]\n",
      " [4.59535838e-01 3.21433439e-01 2.35794138e-01 1.17150975e-01\n",
      "  9.14441359e-02 7.11465780e-02 5.83416937e-02 2.45374102e-02]]\n"
     ]
    }
   ],
   "source": [
    "# calculate the cumulative product along the column\n",
    "print(np.cumprod(arr, axis=1))  "
   ]
  },
  {
   "cell_type": "markdown",
   "metadata": {},
   "source": [
    "### element-wise comparison"
   ]
  },
  {
   "cell_type": "code",
   "execution_count": 42,
   "metadata": {
    "ExecuteTime": {
     "end_time": "2022-02-18T11:58:31.590941Z",
     "start_time": "2022-02-18T11:58:31.581942Z"
    }
   },
   "outputs": [],
   "source": [
    "arr1 = np.array([1,2,3,4,5])\n",
    "arr2 = np.array([5,4,3,2,1])"
   ]
  },
  {
   "cell_type": "code",
   "execution_count": 43,
   "metadata": {
    "ExecuteTime": {
     "end_time": "2022-02-18T11:58:33.122940Z",
     "start_time": "2022-02-18T11:58:33.117940Z"
    }
   },
   "outputs": [
    {
     "name": "stdout",
     "output_type": "stream",
     "text": [
      "[False False  True False False]\n",
      "[ True  True False False False]\n"
     ]
    }
   ],
   "source": [
    "# return an array of bools\n",
    "print(arr1 == arr2)    \n",
    "print(arr1 < 3)"
   ]
  },
  {
   "cell_type": "code",
   "execution_count": null,
   "metadata": {},
   "outputs": [],
   "source": []
  }
 ],
 "metadata": {
  "kernelspec": {
   "display_name": "Python 3",
   "language": "python",
   "name": "python3"
  },
  "language_info": {
   "codemirror_mode": {
    "name": "ipython",
    "version": 3
   },
   "file_extension": ".py",
   "mimetype": "text/x-python",
   "name": "python",
   "nbconvert_exporter": "python",
   "pygments_lexer": "ipython3",
   "version": "3.8.5"
  },
  "toc": {
   "base_numbering": 1,
   "nav_menu": {},
   "number_sections": true,
   "sideBar": true,
   "skip_h1_title": false,
   "title_cell": "Table of Contents",
   "title_sidebar": "Contents",
   "toc_cell": false,
   "toc_position": {},
   "toc_section_display": true,
   "toc_window_display": false
  },
  "varInspector": {
   "cols": {
    "lenName": 16,
    "lenType": 16,
    "lenVar": 40
   },
   "kernels_config": {
    "python": {
     "delete_cmd_postfix": "",
     "delete_cmd_prefix": "del ",
     "library": "var_list.py",
     "varRefreshCmd": "print(var_dic_list())"
    },
    "r": {
     "delete_cmd_postfix": ") ",
     "delete_cmd_prefix": "rm(",
     "library": "var_list.r",
     "varRefreshCmd": "cat(var_dic_list()) "
    }
   },
   "types_to_exclude": [
    "module",
    "function",
    "builtin_function_or_method",
    "instance",
    "_Feature"
   ],
   "window_display": false
  }
 },
 "nbformat": 4,
 "nbformat_minor": 2
}
