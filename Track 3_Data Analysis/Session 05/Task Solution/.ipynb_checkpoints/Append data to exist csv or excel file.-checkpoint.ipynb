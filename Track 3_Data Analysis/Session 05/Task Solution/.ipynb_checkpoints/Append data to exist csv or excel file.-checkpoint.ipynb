{
 "cells": [
  {
   "cell_type": "markdown",
   "id": "4185647c",
   "metadata": {},
   "source": [
    "### How to Append Pandas DataFrame to Existing CSV File?"
   ]
  },
  {
   "cell_type": "markdown",
   "id": "49b33d43",
   "metadata": {},
   "source": [
    "df.to_csv(‘existing.csv’, mode=’a’, index=False, header=False)\n",
    "\n",
    "**Parameters:**\n",
    "\n",
    "- **existing.csv:** Name of the existing CSV file.\n",
    "- **mode:** By default mode is ‘w’ which will overwrite the file. Use ‘a’ to append data into the file.\n",
    "- **index:** False means do not include an index column when appending the new data. True means include an index column when appending the new data.\n",
    "- **header:** False means do not include a header when appending the new data. True means include a header when appending the new data."
   ]
  },
  {
   "cell_type": "code",
   "execution_count": 1,
   "id": "4955c264",
   "metadata": {
    "ExecuteTime": {
     "end_time": "2022-12-04T02:04:32.634346Z",
     "start_time": "2022-12-04T02:04:32.267329Z"
    }
   },
   "outputs": [
    {
     "name": "stdout",
     "output_type": "stream",
     "text": [
      "Data appended successfully.\n"
     ]
    }
   ],
   "source": [
    "# Append Pandas DataFrame to Existing CSV File\n",
    "# importing pandas module\n",
    "import pandas as pd\n",
    " \n",
    "# data of Player and their performance\n",
    "data = {\n",
    "    'Name': ['Hardik', 'Pollard', 'Bravo'],\n",
    "    'Run': [50, 63, 15],\n",
    "    'Wicket': [0, 2, 3],\n",
    "    'Catch': [4, 2, 1]\n",
    "}\n",
    " \n",
    "# Make data frame of above data\n",
    "df = pd.DataFrame(data)\n",
    " \n",
    "# append data frame to CSV file\n",
    "df.to_csv('GFG.csv', mode='a', index=False, header=False)\n",
    " \n",
    "# print message\n",
    "print(\"Data appended successfully.\")"
   ]
  }
 ],
 "metadata": {
  "kernelspec": {
   "display_name": "Python 3",
   "language": "python",
   "name": "python3"
  },
  "language_info": {
   "codemirror_mode": {
    "name": "ipython",
    "version": 3
   },
   "file_extension": ".py",
   "mimetype": "text/x-python",
   "name": "python",
   "nbconvert_exporter": "python",
   "pygments_lexer": "ipython3",
   "version": "3.9.12"
  }
 },
 "nbformat": 4,
 "nbformat_minor": 5
}
