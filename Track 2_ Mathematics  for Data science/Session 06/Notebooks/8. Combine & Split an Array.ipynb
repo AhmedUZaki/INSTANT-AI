{
 "cells": [
  {
   "cell_type": "code",
   "execution_count": 1,
   "metadata": {
    "ExecuteTime": {
     "end_time": "2022-06-13T18:41:15.268263Z",
     "start_time": "2022-06-13T18:41:15.266265Z"
    }
   },
   "outputs": [],
   "source": [
    "import numpy as np"
   ]
  },
  {
   "cell_type": "code",
   "execution_count": 2,
   "metadata": {
    "ExecuteTime": {
     "end_time": "2022-06-13T18:41:16.033260Z",
     "start_time": "2022-06-13T18:41:16.030260Z"
    }
   },
   "outputs": [],
   "source": [
    "arr1 = np.array([[1,2,3,4], [1,2,3,4]])\n",
    "arr2 = np.array([[5,6,7,8], [5,6,7,8]])"
   ]
  },
  {
   "cell_type": "code",
   "execution_count": 3,
   "metadata": {
    "ExecuteTime": {
     "end_time": "2022-06-13T18:41:21.263403Z",
     "start_time": "2022-06-13T18:41:21.255398Z"
    }
   },
   "outputs": [
    {
     "data": {
      "text/plain": [
       "(2, 4)"
      ]
     },
     "execution_count": 3,
     "metadata": {},
     "output_type": "execute_result"
    }
   ],
   "source": [
    "arr1.shape"
   ]
  },
  {
   "cell_type": "markdown",
   "metadata": {},
   "source": [
    "### ```np.concatenate((a, b), axis=0)```"
   ]
  },
  {
   "cell_type": "code",
   "execution_count": 4,
   "metadata": {
    "ExecuteTime": {
     "end_time": "2022-06-13T18:41:53.965661Z",
     "start_time": "2022-06-13T18:41:53.962658Z"
    }
   },
   "outputs": [
    {
     "name": "stdout",
     "output_type": "stream",
     "text": [
      "[[1 2 3 4]\n",
      " [1 2 3 4]\n",
      " [5 6 7 8]\n",
      " [5 6 7 8]]\n"
     ]
    }
   ],
   "source": [
    "# concat along the row\n",
    "cat = np.concatenate((arr1, arr2), axis=0)        \n",
    "print(cat)"
   ]
  },
  {
   "cell_type": "code",
   "execution_count": 5,
   "metadata": {
    "ExecuteTime": {
     "end_time": "2022-06-13T18:42:00.118093Z",
     "start_time": "2022-06-13T18:42:00.114091Z"
    }
   },
   "outputs": [
    {
     "name": "stdout",
     "output_type": "stream",
     "text": [
      "[[1 2 3 4 5 6 7 8]\n",
      " [1 2 3 4 5 6 7 8]]\n"
     ]
    }
   ],
   "source": [
    "# concat along the column\n",
    "cat = np.concatenate((arr1, arr2), axis=1)    \n",
    "print(cat)"
   ]
  },
  {
   "cell_type": "markdown",
   "metadata": {},
   "source": [
    "### ```np.vstack((a, b))``` \n",
    "### ```np.r_[a, b]```"
   ]
  },
  {
   "cell_type": "code",
   "execution_count": 6,
   "metadata": {
    "ExecuteTime": {
     "end_time": "2022-06-13T18:42:13.746462Z",
     "start_time": "2022-06-13T18:42:13.743458Z"
    }
   },
   "outputs": [
    {
     "name": "stdout",
     "output_type": "stream",
     "text": [
      "[[1 2 3 4]\n",
      " [1 2 3 4]\n",
      " [5 6 7 8]\n",
      " [5 6 7 8]]\n"
     ]
    }
   ],
   "source": [
    "# stack arrays vertically\n",
    "cat = np.vstack((arr1, arr2))\n",
    "print(cat)"
   ]
  },
  {
   "cell_type": "code",
   "execution_count": 7,
   "metadata": {
    "ExecuteTime": {
     "end_time": "2022-06-13T18:42:21.974567Z",
     "start_time": "2022-06-13T18:42:21.970567Z"
    }
   },
   "outputs": [
    {
     "name": "stdout",
     "output_type": "stream",
     "text": [
      "[[1 2 3 4]\n",
      " [1 2 3 4]\n",
      " [5 6 7 8]\n",
      " [5 6 7 8]]\n"
     ]
    }
   ],
   "source": [
    "# stack arrays vertically\n",
    "cat = np.r_[arr1, arr2]\n",
    "print(cat)"
   ]
  },
  {
   "cell_type": "markdown",
   "metadata": {},
   "source": [
    "### ```np.hstack((a, b))```\n",
    "### ```np.c_[a, b]```"
   ]
  },
  {
   "cell_type": "code",
   "execution_count": 8,
   "metadata": {
    "ExecuteTime": {
     "end_time": "2022-06-13T18:42:29.428227Z",
     "start_time": "2022-06-13T18:42:29.426228Z"
    }
   },
   "outputs": [
    {
     "name": "stdout",
     "output_type": "stream",
     "text": [
      "[[1 2 3 4 5 6 7 8]\n",
      " [1 2 3 4 5 6 7 8]]\n"
     ]
    }
   ],
   "source": [
    "# stack arrays horizontally\n",
    "cat = np.hstack((arr1, arr2))\n",
    "print(cat)"
   ]
  },
  {
   "cell_type": "code",
   "execution_count": 9,
   "metadata": {
    "ExecuteTime": {
     "end_time": "2022-06-13T18:42:37.546292Z",
     "start_time": "2022-06-13T18:42:37.543292Z"
    }
   },
   "outputs": [
    {
     "name": "stdout",
     "output_type": "stream",
     "text": [
      "[[1 2 3 4 5 6 7 8]\n",
      " [1 2 3 4 5 6 7 8]]\n"
     ]
    }
   ],
   "source": [
    "# stack arrays horizontally\n",
    "cat = np.c_[arr1, arr2]\n",
    "print(cat)"
   ]
  },
  {
   "cell_type": "markdown",
   "metadata": {},
   "source": [
    "### split an array "
   ]
  },
  {
   "cell_type": "code",
   "execution_count": 10,
   "metadata": {
    "ExecuteTime": {
     "end_time": "2022-06-13T18:42:47.546412Z",
     "start_time": "2022-06-13T18:42:47.541411Z"
    }
   },
   "outputs": [
    {
     "data": {
      "text/plain": [
       "array([[0.15262407, 0.26788224, 0.17578691, 0.05610519, 0.90219075,\n",
       "        0.99343207],\n",
       "       [0.23331374, 0.9763724 , 0.69549054, 0.91297765, 0.88022016,\n",
       "        0.48993793],\n",
       "       [0.41478353, 0.25231482, 0.57906975, 0.86871821, 0.82381875,\n",
       "        0.90725826],\n",
       "       [0.49140541, 0.45645579, 0.91862532, 0.98527217, 0.13416617,\n",
       "        0.52726631],\n",
       "       [0.59971821, 0.05751132, 0.03957041, 0.98269629, 0.60551091,\n",
       "        0.78655947],\n",
       "       [0.53101073, 0.80242846, 0.04399549, 0.08324299, 0.87295617,\n",
       "        0.83505251]])"
      ]
     },
     "execution_count": 10,
     "metadata": {},
     "output_type": "execute_result"
    }
   ],
   "source": [
    "arr = np.random.rand(6,6)\n",
    "arr"
   ]
  },
  {
   "cell_type": "code",
   "execution_count": 11,
   "metadata": {
    "ExecuteTime": {
     "end_time": "2022-06-13T18:43:01.425871Z",
     "start_time": "2022-06-13T18:43:01.421867Z"
    }
   },
   "outputs": [
    {
     "name": "stdout",
     "output_type": "stream",
     "text": [
      "[array([[0.15262407, 0.26788224, 0.17578691, 0.05610519, 0.90219075,\n",
      "        0.99343207],\n",
      "       [0.23331374, 0.9763724 , 0.69549054, 0.91297765, 0.88022016,\n",
      "        0.48993793],\n",
      "       [0.41478353, 0.25231482, 0.57906975, 0.86871821, 0.82381875,\n",
      "        0.90725826]]), array([[0.49140541, 0.45645579, 0.91862532, 0.98527217, 0.13416617,\n",
      "        0.52726631],\n",
      "       [0.59971821, 0.05751132, 0.03957041, 0.98269629, 0.60551091,\n",
      "        0.78655947],\n",
      "       [0.53101073, 0.80242846, 0.04399549, 0.08324299, 0.87295617,\n",
      "        0.83505251]])]\n"
     ]
    }
   ],
   "source": [
    "# split the array vertically into n evenly spaced chunks\n",
    "arr1 = np.vsplit(arr, 2)\n",
    "print(arr1)"
   ]
  },
  {
   "cell_type": "code",
   "execution_count": 12,
   "metadata": {
    "ExecuteTime": {
     "end_time": "2022-02-18T12:32:07.407790Z",
     "start_time": "2022-02-18T12:32:07.401788Z"
    }
   },
   "outputs": [
    {
     "name": "stdout",
     "output_type": "stream",
     "text": [
      "[array([[0.86602612, 0.69894752, 0.49505243],\n",
      "       [0.24290156, 0.15886807, 0.47280521],\n",
      "       [0.46378562, 0.00900406, 0.81861885],\n",
      "       [0.93288989, 0.67175988, 0.85892184],\n",
      "       [0.97087744, 0.10269773, 0.3120645 ],\n",
      "       [0.56327139, 0.2586936 , 0.06915866]]), array([[0.21722102, 0.2298318 , 0.51544319],\n",
      "       [0.53718582, 0.89464626, 0.48411814],\n",
      "       [0.72520995, 0.62621882, 0.71314129],\n",
      "       [0.45699002, 0.04938953, 0.06811453],\n",
      "       [0.73021827, 0.50221569, 0.38726495],\n",
      "       [0.37073569, 0.09986957, 0.62240991]])]\n"
     ]
    }
   ],
   "source": [
    "# split the array horizontally into n evenly spaced chunks\n",
    "arr2 = np.hsplit(arr, 2)\n",
    "print(arr2)"
   ]
  },
  {
   "cell_type": "code",
   "execution_count": null,
   "metadata": {},
   "outputs": [],
   "source": []
  }
 ],
 "metadata": {
  "kernelspec": {
   "display_name": "Python 3",
   "language": "python",
   "name": "python3"
  },
  "language_info": {
   "codemirror_mode": {
    "name": "ipython",
    "version": 3
   },
   "file_extension": ".py",
   "mimetype": "text/x-python",
   "name": "python",
   "nbconvert_exporter": "python",
   "pygments_lexer": "ipython3",
   "version": "3.8.5"
  },
  "toc": {
   "base_numbering": 1,
   "nav_menu": {},
   "number_sections": true,
   "sideBar": true,
   "skip_h1_title": false,
   "title_cell": "Table of Contents",
   "title_sidebar": "Contents",
   "toc_cell": false,
   "toc_position": {},
   "toc_section_display": true,
   "toc_window_display": false
  },
  "varInspector": {
   "cols": {
    "lenName": 16,
    "lenType": 16,
    "lenVar": 40
   },
   "kernels_config": {
    "python": {
     "delete_cmd_postfix": "",
     "delete_cmd_prefix": "del ",
     "library": "var_list.py",
     "varRefreshCmd": "print(var_dic_list())"
    },
    "r": {
     "delete_cmd_postfix": ") ",
     "delete_cmd_prefix": "rm(",
     "library": "var_list.r",
     "varRefreshCmd": "cat(var_dic_list()) "
    }
   },
   "types_to_exclude": [
    "module",
    "function",
    "builtin_function_or_method",
    "instance",
    "_Feature"
   ],
   "window_display": false
  }
 },
 "nbformat": 4,
 "nbformat_minor": 2
}
