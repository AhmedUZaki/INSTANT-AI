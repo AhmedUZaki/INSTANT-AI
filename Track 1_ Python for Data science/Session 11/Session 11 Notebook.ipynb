{
 "cells": [
  {
   "cell_type": "markdown",
   "id": "abbf9d14",
   "metadata": {},
   "source": [
    "# Session 11 Notebook\n",
    "\n",
    "## Regular expression (regex)"
   ]
  },
  {
   "cell_type": "markdown",
   "id": "16271645",
   "metadata": {},
   "source": [
    "---\n",
    "### AI:\n",
    "- 80% Data\n",
    "- 20% Model (Actual AI)\n",
    "    \n",
    "### 80% Data:\n",
    "- 90% Data Cleaning, Filtering\n",
    "- 10% Apply Data Analysis Algorithm (i.e. Understand Data)\n",
    "---"
   ]
  },
  {
   "cell_type": "markdown",
   "id": "5f0d1c4c",
   "metadata": {},
   "source": [
    "### Why we clean and filter data?\n",
    "#### These are different types of how can we write the data (e.g. date), So we have to handel these data with Data Cleaning, Data Filtering\n",
    "\n",
    "- e.g.:\n",
    "    - 31/3/1998\n",
    "    - 31/03/1998\n",
    "    - 03/31/1998\n",
    "    - 31.3.1998\n",
    "    - 3131998\n",
    "    - 31st Mar. 1998\n",
    "    \n",
    "---"
   ]
  },
  {
   "cell_type": "markdown",
   "id": "c13bce91",
   "metadata": {},
   "source": [
    "### Rules\n",
    "\n",
    "\n",
    "- .  -->   Any Character Except New Line\n",
    "- \\d   -->   Digit (0-9)\n",
    "- \\D   -->   Not a Digit (0-9)\n",
    "- \\w   -->   Word Character (a-z, A-Z, 0-9, _)\n",
    "- \\W   -->   Not a Word Character\n",
    "- \\s   -->   Whitespace (space, tab, newline)\n",
    "- \\S   -->   Not Whitespace (space, tab, newline)\n",
    "\n",
    "\n",
    "- \\b   -->   Word Boundary\n",
    "- \\B   -->   Not a Word Boundary\n",
    "- ^   -->   Beginning of a String\n",
    "- $   -->   End of a String\n",
    "\n",
    "\n",
    "- []   -->   Matches Characters in brackets\n",
    "- [^ ]   -->   Matches Characters NOT in brackets\n",
    "- |   -->   Either Or\n",
    "- ( )   -->   Group\n",
    "\n",
    "\n",
    "#### Quantifiers\n",
    "\n",
    "- {*} -->  0 or More\n",
    "- {+} --> 1 or More \n",
    "- ? --> 0 or One \n",
    "- {3} --> Exact Number\n",
    "- {3,4} --> Range of Numbers (Minimum, Maximum)"
   ]
  },
  {
   "cell_type": "code",
   "execution_count": 4,
   "id": "7b278b35",
   "metadata": {
    "ExecuteTime": {
     "end_time": "2022-09-08T19:43:00.635941Z",
     "start_time": "2022-09-08T19:43:00.619984Z"
    }
   },
   "outputs": [
    {
     "name": "stdout",
     "output_type": "stream",
     "text": [
      "\t tab = 8 spaces\n",
      "tab\n",
      "\\t Tab\n"
     ]
    }
   ],
   "source": [
    "print(\"\\t tab = 8 spaces\") # special characters \\t, \\n\n",
    "print(\"tab\")\n",
    "print(r\"\\t Tab\") # raw print"
   ]
  },
  {
   "cell_type": "code",
   "execution_count": 5,
   "id": "dc9f6612",
   "metadata": {
    "ExecuteTime": {
     "end_time": "2022-09-08T19:43:10.212225Z",
     "start_time": "2022-09-08T19:43:10.195245Z"
    }
   },
   "outputs": [
    {
     "name": "stdout",
     "output_type": "stream",
     "text": [
      "Ahmed\n",
      "Ahmed\n",
      "------------\n",
      "Ahmed\\nAhmed\n"
     ]
    }
   ],
   "source": [
    "print(\"Ahmed\\nAhmed\")\n",
    "print(\"------------\")\n",
    "print(r\"Ahmed\\nAhmed\")"
   ]
  },
  {
   "cell_type": "code",
   "execution_count": 7,
   "id": "f5a8b639",
   "metadata": {
    "ExecuteTime": {
     "end_time": "2022-09-08T19:43:39.139021Z",
     "start_time": "2022-09-08T19:43:39.131040Z"
    }
   },
   "outputs": [
    {
     "data": {
      "text/plain": [
       "6"
      ]
     },
     "execution_count": 7,
     "metadata": {},
     "output_type": "execute_result"
    }
   ],
   "source": [
    "string = \"ahmed amr ali hossam amr\"  #string\n",
    "string.find(\"amr\") #search substring return index first \"amr\""
   ]
  },
  {
   "cell_type": "code",
   "execution_count": 8,
   "id": "4435b9ad",
   "metadata": {
    "ExecuteTime": {
     "end_time": "2022-09-08T19:44:33.926529Z",
     "start_time": "2022-09-08T19:44:33.907581Z"
    },
    "scrolled": true
   },
   "outputs": [
    {
     "data": {
      "text/plain": [
       "-1"
      ]
     },
     "execution_count": 8,
     "metadata": {},
     "output_type": "execute_result"
    }
   ],
   "source": [
    "string = \"ahm5d\"\n",
    "string.find(\"med\") # -1 = not found"
   ]
  },
  {
   "cell_type": "code",
   "execution_count": 16,
   "id": "0dcec030",
   "metadata": {
    "ExecuteTime": {
     "end_time": "2022-09-08T19:56:33.248400Z",
     "start_time": "2022-09-08T19:56:33.235432Z"
    }
   },
   "outputs": [],
   "source": [
    "# Regular Expressions ! (Advanced String Manipulation)\n",
    "\n",
    "text_to_search = '''abcdefghkjhcormsncomrstvuxyz\n",
    "ABCDEFGHIJKLMNOPPQRSTVWXYZ\n",
    "12345678910\n",
    "Ha HaHa\n",
    "MetaCharacters (Need to be escaped)\n",
    ". ^ $ * + ! {} [] \\ | ()\n",
    "abc\n",
    "cat\n",
    "mat\n",
    "hat\n",
    "bat\n",
    "fat\n",
    "sat\n",
    "01092329340\n",
    "01123234355\n",
    "Ms Davis\n",
    "Mrs Robinson\n",
    "Mr. T\n",
    "'''"
   ]
  },
  {
   "cell_type": "code",
   "execution_count": 17,
   "id": "f6e1eb28",
   "metadata": {
    "ExecuteTime": {
     "end_time": "2022-09-08T19:56:37.470626Z",
     "start_time": "2022-09-08T19:56:37.466636Z"
    }
   },
   "outputs": [
    {
     "name": "stdout",
     "output_type": "stream",
     "text": [
      "<re.Match object; span=(0, 3), match='abc'>\n",
      "<re.Match object; span=(137, 140), match='abc'>\n"
     ]
    }
   ],
   "source": [
    "import re \n",
    "pattern = re.compile(r\"abc\") #search for \"abc\"\n",
    "matches = pattern.finditer(text_to_search) #store result in matches\n",
    "\n",
    "for match in matches:\n",
    "    print(match)"
   ]
  },
  {
   "cell_type": "code",
   "execution_count": 18,
   "id": "d39c1367",
   "metadata": {
    "ExecuteTime": {
     "end_time": "2022-09-08T19:57:18.358399Z",
     "start_time": "2022-09-08T19:57:18.348430Z"
    }
   },
   "outputs": [
    {
     "name": "stdout",
     "output_type": "stream",
     "text": [
      "0 3\n",
      "137 140\n",
      "Number of matches:  2\n"
     ]
    }
   ],
   "source": [
    "pattern = re.compile(r\"abc\") #search for \"abc\"\n",
    "matches = pattern.finditer(text_to_search) #store result in matches\n",
    "counter = 0\n",
    "\n",
    "for elment in matches:\n",
    "    print(elment.span()[0], elment.span()[1])\n",
    "    counter +=1\n",
    "print (\"Number of matches: \", counter)    "
   ]
  },
  {
   "cell_type": "code",
   "execution_count": 19,
   "id": "01cf8a59",
   "metadata": {
    "ExecuteTime": {
     "end_time": "2022-09-08T19:58:00.230279Z",
     "start_time": "2022-09-08T19:58:00.212517Z"
    }
   },
   "outputs": [
    {
     "name": "stdout",
     "output_type": "stream",
     "text": [
      "Found 0 matches\n"
     ]
    }
   ],
   "source": [
    "pattern = re.compile(r\"bca\") #search for \"abc\"\n",
    "matches = pattern.finditer(text_to_search) #store result in matches\n",
    "counter = 0\n",
    "\n",
    "for elment in matches:\n",
    "    print(elment.span()[0], elment.span()[1])\n",
    "    counter +=1\n",
    "print (f\"Found {counter} matches\")  "
   ]
  },
  {
   "cell_type": "code",
   "execution_count": 20,
   "id": "99897284",
   "metadata": {
    "ExecuteTime": {
     "end_time": "2022-09-08T19:59:52.428382Z",
     "start_time": "2022-09-08T19:59:52.420405Z"
    }
   },
   "outputs": [
    {
     "name": "stdout",
     "output_type": "stream",
     "text": [
      "<re.Match object; span=(0, 1), match='a'>\n",
      "<re.Match object; span=(1, 2), match='b'>\n",
      "<re.Match object; span=(2, 3), match='c'>\n",
      "<re.Match object; span=(3, 4), match='d'>\n",
      "<re.Match object; span=(4, 5), match='e'>\n",
      "<re.Match object; span=(5, 6), match='f'>\n",
      "<re.Match object; span=(6, 7), match='g'>\n",
      "<re.Match object; span=(7, 8), match='h'>\n",
      "<re.Match object; span=(8, 9), match='k'>\n",
      "<re.Match object; span=(9, 10), match='j'>\n",
      "<re.Match object; span=(10, 11), match='h'>\n",
      "<re.Match object; span=(11, 12), match='c'>\n",
      "<re.Match object; span=(12, 13), match='o'>\n",
      "<re.Match object; span=(13, 14), match='r'>\n",
      "<re.Match object; span=(14, 15), match='m'>\n",
      "<re.Match object; span=(15, 16), match='s'>\n",
      "<re.Match object; span=(16, 17), match='n'>\n",
      "<re.Match object; span=(17, 18), match='c'>\n",
      "<re.Match object; span=(18, 19), match='o'>\n",
      "<re.Match object; span=(19, 20), match='m'>\n",
      "<re.Match object; span=(20, 21), match='r'>\n",
      "<re.Match object; span=(21, 22), match='s'>\n",
      "<re.Match object; span=(22, 23), match='t'>\n",
      "<re.Match object; span=(23, 24), match='v'>\n",
      "<re.Match object; span=(24, 25), match='u'>\n",
      "<re.Match object; span=(25, 26), match='x'>\n",
      "<re.Match object; span=(26, 27), match='y'>\n",
      "<re.Match object; span=(27, 28), match='z'>\n",
      "<re.Match object; span=(29, 30), match='A'>\n",
      "<re.Match object; span=(30, 31), match='B'>\n",
      "<re.Match object; span=(31, 32), match='C'>\n",
      "<re.Match object; span=(32, 33), match='D'>\n",
      "<re.Match object; span=(33, 34), match='E'>\n",
      "<re.Match object; span=(34, 35), match='F'>\n",
      "<re.Match object; span=(35, 36), match='G'>\n",
      "<re.Match object; span=(36, 37), match='H'>\n",
      "<re.Match object; span=(37, 38), match='I'>\n",
      "<re.Match object; span=(38, 39), match='J'>\n",
      "<re.Match object; span=(39, 40), match='K'>\n",
      "<re.Match object; span=(40, 41), match='L'>\n",
      "<re.Match object; span=(41, 42), match='M'>\n",
      "<re.Match object; span=(42, 43), match='N'>\n",
      "<re.Match object; span=(43, 44), match='O'>\n",
      "<re.Match object; span=(44, 45), match='P'>\n",
      "<re.Match object; span=(45, 46), match='P'>\n",
      "<re.Match object; span=(46, 47), match='Q'>\n",
      "<re.Match object; span=(47, 48), match='R'>\n",
      "<re.Match object; span=(48, 49), match='S'>\n",
      "<re.Match object; span=(49, 50), match='T'>\n",
      "<re.Match object; span=(50, 51), match='V'>\n",
      "<re.Match object; span=(51, 52), match='W'>\n",
      "<re.Match object; span=(52, 53), match='X'>\n",
      "<re.Match object; span=(53, 54), match='Y'>\n",
      "<re.Match object; span=(54, 55), match='Z'>\n",
      "<re.Match object; span=(56, 57), match='1'>\n",
      "<re.Match object; span=(57, 58), match='2'>\n",
      "<re.Match object; span=(58, 59), match='3'>\n",
      "<re.Match object; span=(59, 60), match='4'>\n",
      "<re.Match object; span=(60, 61), match='5'>\n",
      "<re.Match object; span=(61, 62), match='6'>\n",
      "<re.Match object; span=(62, 63), match='7'>\n",
      "<re.Match object; span=(63, 64), match='8'>\n",
      "<re.Match object; span=(64, 65), match='9'>\n",
      "<re.Match object; span=(65, 66), match='1'>\n",
      "<re.Match object; span=(66, 67), match='0'>\n",
      "<re.Match object; span=(68, 69), match='H'>\n",
      "<re.Match object; span=(69, 70), match='a'>\n",
      "<re.Match object; span=(70, 71), match=' '>\n",
      "<re.Match object; span=(71, 72), match='H'>\n",
      "<re.Match object; span=(72, 73), match='a'>\n",
      "<re.Match object; span=(73, 74), match='H'>\n",
      "<re.Match object; span=(74, 75), match='a'>\n",
      "<re.Match object; span=(76, 77), match='M'>\n",
      "<re.Match object; span=(77, 78), match='e'>\n",
      "<re.Match object; span=(78, 79), match='t'>\n",
      "<re.Match object; span=(79, 80), match='a'>\n",
      "<re.Match object; span=(80, 81), match='C'>\n",
      "<re.Match object; span=(81, 82), match='h'>\n",
      "<re.Match object; span=(82, 83), match='a'>\n",
      "<re.Match object; span=(83, 84), match='r'>\n",
      "<re.Match object; span=(84, 85), match='a'>\n",
      "<re.Match object; span=(85, 86), match='c'>\n",
      "<re.Match object; span=(86, 87), match='t'>\n",
      "<re.Match object; span=(87, 88), match='e'>\n",
      "<re.Match object; span=(88, 89), match='r'>\n",
      "<re.Match object; span=(89, 90), match='s'>\n",
      "<re.Match object; span=(90, 91), match=' '>\n",
      "<re.Match object; span=(91, 92), match='('>\n",
      "<re.Match object; span=(92, 93), match='N'>\n",
      "<re.Match object; span=(93, 94), match='e'>\n",
      "<re.Match object; span=(94, 95), match='e'>\n",
      "<re.Match object; span=(95, 96), match='d'>\n",
      "<re.Match object; span=(96, 97), match=' '>\n",
      "<re.Match object; span=(97, 98), match='t'>\n",
      "<re.Match object; span=(98, 99), match='o'>\n",
      "<re.Match object; span=(99, 100), match=' '>\n",
      "<re.Match object; span=(100, 101), match='b'>\n",
      "<re.Match object; span=(101, 102), match='e'>\n",
      "<re.Match object; span=(102, 103), match=' '>\n",
      "<re.Match object; span=(103, 104), match='e'>\n",
      "<re.Match object; span=(104, 105), match='s'>\n",
      "<re.Match object; span=(105, 106), match='c'>\n",
      "<re.Match object; span=(106, 107), match='a'>\n",
      "<re.Match object; span=(107, 108), match='p'>\n",
      "<re.Match object; span=(108, 109), match='e'>\n",
      "<re.Match object; span=(109, 110), match='d'>\n",
      "<re.Match object; span=(110, 111), match=')'>\n",
      "<re.Match object; span=(112, 113), match='.'>\n",
      "<re.Match object; span=(113, 114), match=' '>\n",
      "<re.Match object; span=(114, 115), match='^'>\n",
      "<re.Match object; span=(115, 116), match=' '>\n",
      "<re.Match object; span=(116, 117), match='$'>\n",
      "<re.Match object; span=(117, 118), match=' '>\n",
      "<re.Match object; span=(118, 119), match='*'>\n",
      "<re.Match object; span=(119, 120), match=' '>\n",
      "<re.Match object; span=(120, 121), match='+'>\n",
      "<re.Match object; span=(121, 122), match=' '>\n",
      "<re.Match object; span=(122, 123), match='!'>\n",
      "<re.Match object; span=(123, 124), match=' '>\n",
      "<re.Match object; span=(124, 125), match='{'>\n",
      "<re.Match object; span=(125, 126), match='}'>\n",
      "<re.Match object; span=(126, 127), match=' '>\n",
      "<re.Match object; span=(127, 128), match='['>\n",
      "<re.Match object; span=(128, 129), match=']'>\n",
      "<re.Match object; span=(129, 130), match=' '>\n",
      "<re.Match object; span=(130, 131), match='\\\\'>\n",
      "<re.Match object; span=(131, 132), match=' '>\n",
      "<re.Match object; span=(132, 133), match='|'>\n",
      "<re.Match object; span=(133, 134), match=' '>\n",
      "<re.Match object; span=(134, 135), match='('>\n",
      "<re.Match object; span=(135, 136), match=')'>\n",
      "<re.Match object; span=(137, 138), match='a'>\n",
      "<re.Match object; span=(138, 139), match='b'>\n",
      "<re.Match object; span=(139, 140), match='c'>\n",
      "<re.Match object; span=(141, 142), match='c'>\n",
      "<re.Match object; span=(142, 143), match='a'>\n",
      "<re.Match object; span=(143, 144), match='t'>\n",
      "<re.Match object; span=(145, 146), match='m'>\n",
      "<re.Match object; span=(146, 147), match='a'>\n",
      "<re.Match object; span=(147, 148), match='t'>\n",
      "<re.Match object; span=(149, 150), match='h'>\n",
      "<re.Match object; span=(150, 151), match='a'>\n",
      "<re.Match object; span=(151, 152), match='t'>\n",
      "<re.Match object; span=(153, 154), match='b'>\n",
      "<re.Match object; span=(154, 155), match='a'>\n",
      "<re.Match object; span=(155, 156), match='t'>\n",
      "<re.Match object; span=(157, 158), match='f'>\n",
      "<re.Match object; span=(158, 159), match='a'>\n",
      "<re.Match object; span=(159, 160), match='t'>\n",
      "<re.Match object; span=(161, 162), match='s'>\n",
      "<re.Match object; span=(162, 163), match='a'>\n",
      "<re.Match object; span=(163, 164), match='t'>\n",
      "<re.Match object; span=(165, 166), match='0'>\n",
      "<re.Match object; span=(166, 167), match='1'>\n",
      "<re.Match object; span=(167, 168), match='0'>\n",
      "<re.Match object; span=(168, 169), match='9'>\n",
      "<re.Match object; span=(169, 170), match='2'>\n",
      "<re.Match object; span=(170, 171), match='3'>\n",
      "<re.Match object; span=(171, 172), match='2'>\n",
      "<re.Match object; span=(172, 173), match='9'>\n",
      "<re.Match object; span=(173, 174), match='3'>\n",
      "<re.Match object; span=(174, 175), match='4'>\n",
      "<re.Match object; span=(175, 176), match='0'>\n",
      "<re.Match object; span=(177, 178), match='0'>\n",
      "<re.Match object; span=(178, 179), match='1'>\n",
      "<re.Match object; span=(179, 180), match='1'>\n",
      "<re.Match object; span=(180, 181), match='2'>\n",
      "<re.Match object; span=(181, 182), match='3'>\n",
      "<re.Match object; span=(182, 183), match='2'>\n",
      "<re.Match object; span=(183, 184), match='3'>\n",
      "<re.Match object; span=(184, 185), match='4'>\n",
      "<re.Match object; span=(185, 186), match='3'>\n",
      "<re.Match object; span=(186, 187), match='5'>\n",
      "<re.Match object; span=(187, 188), match='5'>\n",
      "<re.Match object; span=(189, 190), match='M'>\n",
      "<re.Match object; span=(190, 191), match='s'>\n",
      "<re.Match object; span=(191, 192), match=' '>\n",
      "<re.Match object; span=(192, 193), match='D'>\n",
      "<re.Match object; span=(193, 194), match='a'>\n",
      "<re.Match object; span=(194, 195), match='v'>\n",
      "<re.Match object; span=(195, 196), match='i'>\n",
      "<re.Match object; span=(196, 197), match='s'>\n",
      "<re.Match object; span=(198, 199), match='M'>\n",
      "<re.Match object; span=(199, 200), match='r'>\n",
      "<re.Match object; span=(200, 201), match='s'>\n",
      "<re.Match object; span=(201, 202), match=' '>\n",
      "<re.Match object; span=(202, 203), match='R'>\n",
      "<re.Match object; span=(203, 204), match='o'>\n",
      "<re.Match object; span=(204, 205), match='b'>\n",
      "<re.Match object; span=(205, 206), match='i'>\n",
      "<re.Match object; span=(206, 207), match='n'>\n",
      "<re.Match object; span=(207, 208), match='s'>\n",
      "<re.Match object; span=(208, 209), match='o'>\n",
      "<re.Match object; span=(209, 210), match='n'>\n",
      "<re.Match object; span=(211, 212), match='M'>\n",
      "<re.Match object; span=(212, 213), match='r'>\n",
      "<re.Match object; span=(213, 214), match='.'>\n",
      "<re.Match object; span=(214, 215), match=' '>\n",
      "<re.Match object; span=(215, 216), match='T'>\n"
     ]
    }
   ],
   "source": [
    "pattern = re.compile(r\".\") # matches everything, except(\\n)\n",
    "matches = pattern.finditer(text_to_search) #store result in matches\n",
    "\n",
    "for match in matches:\n",
    "    print(match)"
   ]
  },
  {
   "cell_type": "code",
   "execution_count": 21,
   "id": "7d94eed7",
   "metadata": {
    "ExecuteTime": {
     "end_time": "2022-09-08T20:01:54.432708Z",
     "start_time": "2022-09-08T20:01:54.425727Z"
    }
   },
   "outputs": [
    {
     "name": "stdout",
     "output_type": "stream",
     "text": [
      "Srart index:  112 and the end is:  113\n",
      "Srart index:  213 and the end is:  214\n",
      ".\n",
      "4\n"
     ]
    }
   ],
   "source": [
    "pattern = re.compile(r\"\\.\") # matches only dot\n",
    "matches = pattern.finditer(text_to_search) #store result in matches\n",
    "\n",
    "for match in matches:\n",
    "    print(\"Srart index: \", match.span()[0], \"and the end is: \", match.span()[1])\n",
    "\n",
    "print(text_to_search[112])\n",
    "print(text_to_search[59])"
   ]
  },
  {
   "cell_type": "code",
   "execution_count": null,
   "id": "cb18eb7c",
   "metadata": {},
   "outputs": [],
   "source": []
  },
  {
   "cell_type": "code",
   "execution_count": null,
   "id": "aab732bf",
   "metadata": {},
   "outputs": [],
   "source": []
  },
  {
   "cell_type": "code",
   "execution_count": null,
   "id": "3e54ce5a",
   "metadata": {},
   "outputs": [],
   "source": []
  }
 ],
 "metadata": {
  "kernelspec": {
   "display_name": "Python 3",
   "language": "python",
   "name": "python3"
  },
  "language_info": {
   "codemirror_mode": {
    "name": "ipython",
    "version": 3
   },
   "file_extension": ".py",
   "mimetype": "text/x-python",
   "name": "python",
   "nbconvert_exporter": "python",
   "pygments_lexer": "ipython3",
   "version": "3.8.12"
  }
 },
 "nbformat": 4,
 "nbformat_minor": 5
}
