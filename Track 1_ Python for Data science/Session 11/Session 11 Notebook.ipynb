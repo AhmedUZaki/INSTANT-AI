{
 "cells": [
  {
   "cell_type": "markdown",
   "id": "abbf9d14",
   "metadata": {},
   "source": [
    "# Session 11 Notebook\n",
    "\n",
    "## Regular expression (regex)"
   ]
  },
  {
   "cell_type": "markdown",
   "id": "16271645",
   "metadata": {},
   "source": [
    "---\n",
    "### AI:\n",
    "- 80% Data\n",
    "- 20% Model (Actual AI)\n",
    "    \n",
    "### 80% Data:\n",
    "- 90% Data Cleaning, Filtering\n",
    "- 10% Apply Data Analysis Algorithm (i.e. Understand Data)\n",
    "---"
   ]
  },
  {
   "cell_type": "markdown",
   "id": "5f0d1c4c",
   "metadata": {},
   "source": [
    "### Why we clean and filter data?\n",
    "#### These are different types of how can we write the data (e.g. date), So we have to handel these data with Data Cleaning, Data Filtering\n",
    "\n",
    "- e.g.:\n",
    "    - 31/3/1998\n",
    "    - 31/03/1998\n",
    "    - 03/31/1998\n",
    "    - 31.3.1998\n",
    "    - 3131998\n",
    "    - 31st Mar. 1998\n",
    "    \n",
    "---"
   ]
  },
  {
   "cell_type": "code",
   "execution_count": 1,
   "id": "7b278b35",
   "metadata": {
    "ExecuteTime": {
     "end_time": "2022-09-09T00:00:34.250453Z",
     "start_time": "2022-09-09T00:00:34.236489Z"
    }
   },
   "outputs": [
    {
     "name": "stdout",
     "output_type": "stream",
     "text": [
      "\t tab = 8 spaces\n",
      "tab\n",
      "\\t Tab\n"
     ]
    }
   ],
   "source": [
    "print(\"\\t tab = 8 spaces\") # special characters \\t, \\n\n",
    "print(\"tab\")\n",
    "print(r\"\\t Tab\") # raw print"
   ]
  },
  {
   "cell_type": "code",
   "execution_count": 2,
   "id": "dc9f6612",
   "metadata": {
    "ExecuteTime": {
     "end_time": "2022-09-09T00:00:34.266409Z",
     "start_time": "2022-09-09T00:00:34.252446Z"
    }
   },
   "outputs": [
    {
     "name": "stdout",
     "output_type": "stream",
     "text": [
      "Ahmed\n",
      "Ahmed\n",
      "------------\n",
      "Ahmed\\nAhmed\n"
     ]
    }
   ],
   "source": [
    "print(\"Ahmed\\nAhmed\")\n",
    "print(\"------------\")\n",
    "print(r\"Ahmed\\nAhmed\")"
   ]
  },
  {
   "cell_type": "code",
   "execution_count": 3,
   "id": "f5a8b639",
   "metadata": {
    "ExecuteTime": {
     "end_time": "2022-09-09T00:00:34.281369Z",
     "start_time": "2022-09-09T00:00:34.267406Z"
    }
   },
   "outputs": [
    {
     "data": {
      "text/plain": [
       "6"
      ]
     },
     "execution_count": 3,
     "metadata": {},
     "output_type": "execute_result"
    }
   ],
   "source": [
    "string = \"ahmed amr ali hossam amr\"  #string\n",
    "string.find(\"amr\") #search substring return index first \"amr\""
   ]
  },
  {
   "cell_type": "code",
   "execution_count": 4,
   "id": "4435b9ad",
   "metadata": {
    "ExecuteTime": {
     "end_time": "2022-09-09T00:00:34.297326Z",
     "start_time": "2022-09-09T00:00:34.282366Z"
    },
    "scrolled": true
   },
   "outputs": [
    {
     "data": {
      "text/plain": [
       "-1"
      ]
     },
     "execution_count": 4,
     "metadata": {},
     "output_type": "execute_result"
    }
   ],
   "source": [
    "string = \"ahm5d\"\n",
    "string.find(\"med\") # -1 = not found"
   ]
  },
  {
   "cell_type": "markdown",
   "id": "51cd96fb",
   "metadata": {
    "ExecuteTime": {
     "end_time": "2022-09-08T22:26:40.780536Z",
     "start_time": "2022-09-08T22:26:40.773555Z"
    }
   },
   "source": [
    "### Rules\n",
    "\n",
    "\n",
    "- .  -->   Any Character Except New Line\n",
    "- \\d   -->   Digit (0-9)\n",
    "- \\D   -->   Not a Digit (0-9)\n",
    "- \\w   -->   Word Character (a-z, A-Z, 0-9, _)\n",
    "- \\W   -->   Not a Word Character\n",
    "- \\s   -->   Whitespace (space, tab, newline)\n",
    "- \\S   -->   Not Whitespace (space, tab, newline)\n",
    "\n",
    "\n",
    "- \\b   -->   Word Boundary\n",
    "- \\B   -->   Not a Word Boundary\n",
    "- ^   -->   Beginning of a String\n",
    "- $   -->   End of a String\n",
    "\n",
    "\n",
    "- []   -->   Matches Characters in brackets\n",
    "- [^ ]   -->   Matches Characters NOT in brackets\n",
    "- |   -->   Either Or\n",
    "- ( )   -->   Group\n",
    "\n",
    "\n",
    "#### Quantifiers\n",
    "\n",
    "- {*} -->  0 or More\n",
    "- {+} --> 1 or More \n",
    "- ? --> 0 or One \n",
    "- {3} --> Exact Number\n",
    "- {3,4} --> Range of Numbers (Minimum, Maximum)"
   ]
  },
  {
   "cell_type": "code",
   "execution_count": 5,
   "id": "f4792bae",
   "metadata": {
    "ExecuteTime": {
     "end_time": "2022-09-09T00:00:34.313283Z",
     "start_time": "2022-09-09T00:00:34.298325Z"
    },
    "scrolled": false
   },
   "outputs": [],
   "source": [
    "## to get decomentation \n",
    "#help(re)"
   ]
  },
  {
   "cell_type": "code",
   "execution_count": 6,
   "id": "b9432cee",
   "metadata": {
    "ExecuteTime": {
     "end_time": "2022-09-09T00:00:34.329241Z",
     "start_time": "2022-09-09T00:00:34.314282Z"
    }
   },
   "outputs": [],
   "source": [
    "# Regular Expressions ! (Advanced String Manipulation)\n",
    "\n",
    "text_to_search = '''abcdefghkjhcormsncomrstvuxyz\n",
    "ABCDEFGHIJKLMNOPPQRSTVWXYZ\n",
    "12345678910\n",
    "Ha HaHa\n",
    "MetaCharacters (Need to be escaped)\n",
    ". ^ $ * + ! {} [] \\ | ()\n",
    "abc\n",
    "cat\n",
    "mat\n",
    "hat\n",
    "bat\n",
    "fat\n",
    "corems.com\n",
    "corems-com\n",
    "0109232934026\n",
    "sat\n",
    "01092329340\n",
    "01123234355\n",
    "Ms Davis\n",
    "011.323.3555\n",
    "Mrs Robinson\n",
    "264-555-5554\n",
    "757-657-7855\n",
    "011232343555\n",
    "011/323/3555\n",
    "011-323-3555\n",
    "464x661a6421\n",
    "800-548-4564\n",
    "900.754-4564\n",
    "800-548.4564\n",
    "264.555*5554\n",
    "010694766758\n",
    "Mr. T\n",
    "Mr. Smhx\n",
    "Mr Smhx\n",
    "Mr _Smhx\n",
    "Mr Sklmerf\n",
    "Mr. Sklmerf\n",
    "Mr .Smhx\n",
    "'''"
   ]
  },
  {
   "cell_type": "code",
   "execution_count": 7,
   "id": "f6e1eb28",
   "metadata": {
    "ExecuteTime": {
     "end_time": "2022-09-09T00:00:34.344205Z",
     "start_time": "2022-09-09T00:00:34.330240Z"
    }
   },
   "outputs": [
    {
     "name": "stdout",
     "output_type": "stream",
     "text": [
      "<re.Match object; span=(0, 3), match='abc'>\n",
      "<re.Match object; span=(137, 140), match='abc'>\n"
     ]
    }
   ],
   "source": [
    "import re \n",
    "pattern = re.compile(r\"abc\") #search for \"abc\"\n",
    "matches = pattern.finditer(text_to_search) #store result in matches\n",
    "\n",
    "for match in matches:\n",
    "    print(match)"
   ]
  },
  {
   "cell_type": "code",
   "execution_count": 8,
   "id": "d39c1367",
   "metadata": {
    "ExecuteTime": {
     "end_time": "2022-09-09T00:00:34.360188Z",
     "start_time": "2022-09-09T00:00:34.345199Z"
    }
   },
   "outputs": [
    {
     "name": "stdout",
     "output_type": "stream",
     "text": [
      "0 3\n",
      "137 140\n",
      "Number of matches:  2\n"
     ]
    }
   ],
   "source": [
    "pattern = re.compile(r\"abc\") #search for \"abc\"\n",
    "matches = pattern.finditer(text_to_search) #store result in matches\n",
    "counter = 0\n",
    "\n",
    "for elment in matches:\n",
    "    print(elment.span()[0], elment.span()[1])\n",
    "    counter +=1\n",
    "print (\"Number of matches: \", counter)    "
   ]
  },
  {
   "cell_type": "code",
   "execution_count": 9,
   "id": "01cf8a59",
   "metadata": {
    "ExecuteTime": {
     "end_time": "2022-09-09T00:00:34.376141Z",
     "start_time": "2022-09-09T00:00:34.362178Z"
    }
   },
   "outputs": [
    {
     "name": "stdout",
     "output_type": "stream",
     "text": [
      "Found 0 matches\n"
     ]
    }
   ],
   "source": [
    "pattern = re.compile(r\"bca\") #search for \"abc\"\n",
    "matches = pattern.finditer(text_to_search) #store result in matches\n",
    "counter = 0\n",
    "\n",
    "for elment in matches:\n",
    "    print(elment.span()[0], elment.span()[1])\n",
    "    counter +=1\n",
    "print (f\"Found {counter} matches\")  "
   ]
  },
  {
   "cell_type": "code",
   "execution_count": null,
   "id": "0a62059c",
   "metadata": {
    "ExecuteTime": {
     "end_time": "2022-09-09T00:00:34.391101Z",
     "start_time": "2022-09-09T00:00:34.377138Z"
    }
   },
   "outputs": [],
   "source": [
    "pattern = re.compile(r\".\") # matches everything, except(\\n)\n",
    "matches = pattern.finditer(text_to_search) #store result in matches\n",
    "\n",
    "for match in matches:\n",
    "    print(match)"
   ]
  },
  {
   "cell_type": "code",
   "execution_count": 11,
   "id": "7d94eed7",
   "metadata": {
    "ExecuteTime": {
     "end_time": "2022-09-09T00:00:34.407058Z",
     "start_time": "2022-09-09T00:00:34.392098Z"
    },
    "scrolled": true
   },
   "outputs": [
    {
     "name": "stdout",
     "output_type": "stream",
     "text": [
      "Srart index:  112 and the end is:  113\n",
      "Srart index:  167 and the end is:  168\n",
      "Srart index:  237 and the end is:  238\n",
      "Srart index:  241 and the end is:  242\n",
      "Srart index:  354 and the end is:  355\n",
      "Srart index:  371 and the end is:  372\n",
      "Srart index:  380 and the end is:  381\n",
      "Srart index:  405 and the end is:  406\n",
      "Srart index:  411 and the end is:  412\n",
      "Srart index:  448 and the end is:  449\n",
      "Srart index:  461 and the end is:  462\n",
      ".\n",
      "4\n"
     ]
    }
   ],
   "source": [
    "pattern = re.compile(r\"\\.\") # matches only dot\n",
    "matches = pattern.finditer(text_to_search) \n",
    "\n",
    "for match in matches:\n",
    "    print(\"Srart index: \", match.span()[0], \"and the end is: \", match.span()[1])\n",
    "\n",
    "print(text_to_search[112])\n",
    "print(text_to_search[59])"
   ]
  },
  {
   "cell_type": "code",
   "execution_count": 12,
   "id": "e13cff6e",
   "metadata": {
    "ExecuteTime": {
     "end_time": "2022-09-09T00:00:34.423016Z",
     "start_time": "2022-09-09T00:00:34.409053Z"
    }
   },
   "outputs": [
    {
     "name": "stdout",
     "output_type": "stream",
     "text": [
      "<re.Match object; span=(161, 171), match='corems.com'>\n",
      "<re.Match object; span=(172, 182), match='corems-com'>\n"
     ]
    }
   ],
   "source": [
    "pattern = re.compile(r\"corems.com\") # matches \"corems\"( . = anything)\"com\"\n",
    "matches = pattern.finditer(text_to_search) #store result in matches\n",
    "\n",
    "for match in matches:\n",
    "    print(match)"
   ]
  },
  {
   "cell_type": "code",
   "execution_count": 13,
   "id": "cb18eb7c",
   "metadata": {
    "ExecuteTime": {
     "end_time": "2022-09-09T00:00:34.438004Z",
     "start_time": "2022-09-09T00:00:34.424013Z"
    }
   },
   "outputs": [
    {
     "name": "stdout",
     "output_type": "stream",
     "text": [
      "<re.Match object; span=(161, 171), match='corems.com'>\n"
     ]
    }
   ],
   "source": [
    "pattern = re.compile(r\"corems\\.com\")  # to search for only(corems.com)\n",
    "matches = pattern.finditer(text_to_search) \n",
    "\n",
    "for match in matches:\n",
    "    print(match)"
   ]
  },
  {
   "cell_type": "code",
   "execution_count": 14,
   "id": "aab732bf",
   "metadata": {
    "ExecuteTime": {
     "end_time": "2022-09-09T00:00:34.452960Z",
     "start_time": "2022-09-09T00:00:34.438998Z"
    }
   },
   "outputs": [
    {
     "name": "stdout",
     "output_type": "stream",
     "text": [
      "<re.Match object; span=(3, 4), match='d'>\n",
      "<re.Match object; span=(95, 96), match='d'>\n",
      "<re.Match object; span=(109, 110), match='d'>\n"
     ]
    }
   ],
   "source": [
    "pattern = re.compile(r\"d\")  # to match \"d\"\n",
    "matches = pattern.finditer(text_to_search) \n",
    "\n",
    "for match in matches:\n",
    "    print(match)"
   ]
  },
  {
   "cell_type": "code",
   "execution_count": null,
   "id": "57258f05",
   "metadata": {
    "ExecuteTime": {
     "end_time": "2022-09-09T00:00:34.467920Z",
     "start_time": "2022-09-09T00:00:34.453958Z"
    }
   },
   "outputs": [],
   "source": [
    "pattern = re.compile(r\"\\d\")  # to match all numbers in \"text_to_search\"\n",
    "matches = pattern.finditer(text_to_search) \n",
    "\n",
    "for match in matches:\n",
    "    print(match)"
   ]
  },
  {
   "cell_type": "code",
   "execution_count": null,
   "id": "65b82aa7",
   "metadata": {
    "ExecuteTime": {
     "end_time": "2022-09-09T00:00:34.483878Z",
     "start_time": "2022-09-09T00:00:34.469916Z"
    }
   },
   "outputs": [],
   "source": [
    "pattern = re.compile(r\"\\d\\d\")  # matches only two digits in \"text_to_search\"\n",
    "matches = pattern.finditer(text_to_search) \n",
    "l = []\n",
    "for match in matches:\n",
    "    print(match)"
   ]
  },
  {
   "cell_type": "code",
   "execution_count": null,
   "id": "eeeafd2e",
   "metadata": {
    "ExecuteTime": {
     "end_time": "2022-09-09T00:00:34.499836Z",
     "start_time": "2022-09-09T00:00:34.484875Z"
    }
   },
   "outputs": [],
   "source": [
    "pattern = re.compile(r\"\\D\")  # matches only (not a digit)  in \"text_to_search\"\n",
    "matches = pattern.finditer(text_to_search) \n",
    "\n",
    "for match in matches:\n",
    "    print(match)"
   ]
  },
  {
   "cell_type": "code",
   "execution_count": null,
   "id": "9bd3c5fe",
   "metadata": {
    "ExecuteTime": {
     "end_time": "2022-09-09T00:00:34.514795Z",
     "start_time": "2022-09-09T00:00:34.500833Z"
    }
   },
   "outputs": [],
   "source": [
    "pattern = re.compile(r\"\\w\")  # matches lower, uppercase, digits, underscore \n",
    "matches = pattern.finditer(text_to_search) \n",
    "\n",
    "for match in matches:\n",
    "    print(match)"
   ]
  },
  {
   "cell_type": "code",
   "execution_count": null,
   "id": "f0bc2089",
   "metadata": {
    "ExecuteTime": {
     "end_time": "2022-09-09T00:00:34.530752Z",
     "start_time": "2022-09-09T00:00:34.515793Z"
    }
   },
   "outputs": [],
   "source": [
    "pattern = re.compile(\"\\d\\d\\d\")  # matches only 3 digits in \"text_to_search\"\n",
    "matches = pattern.finditer(text_to_search) \n",
    "\n",
    "for match in matches:\n",
    "    print(match)"
   ]
  },
  {
   "cell_type": "code",
   "execution_count": 20,
   "id": "78aeab69",
   "metadata": {
    "ExecuteTime": {
     "end_time": "2022-09-09T00:00:34.545713Z",
     "start_time": "2022-09-09T00:00:34.531750Z"
    }
   },
   "outputs": [
    {
     "name": "stdout",
     "output_type": "stream",
     "text": [
      "<re.Match object; span=(183, 195), match='010923293402'>\n",
      "<re.Match object; span=(234, 246), match='011.323.3555'>\n",
      "<re.Match object; span=(260, 272), match='264-555-5554'>\n",
      "<re.Match object; span=(273, 285), match='757-657-7855'>\n",
      "<re.Match object; span=(286, 298), match='011232343555'>\n",
      "<re.Match object; span=(299, 311), match='011/323/3555'>\n",
      "<re.Match object; span=(312, 324), match='011-323-3555'>\n",
      "<re.Match object; span=(325, 337), match='464x661a6421'>\n",
      "<re.Match object; span=(338, 350), match='800-548-4564'>\n",
      "<re.Match object; span=(351, 363), match='900.754-4564'>\n",
      "<re.Match object; span=(364, 376), match='800-548.4564'>\n",
      "<re.Match object; span=(377, 389), match='264.555*5554'>\n",
      "<re.Match object; span=(390, 402), match='010694766758'>\n"
     ]
    }
   ],
   "source": [
    "pattern = re.compile(r\"\\d\\d\\d.\\d\\d\\d.\\d\\d\\d\\d\")  \n",
    "# matches 2 digits(anything),3digits(anything),4digits in \"text_to_search\"\n",
    "matches = pattern.finditer(text_to_search) \n",
    "\n",
    "for match in matches:\n",
    "    print(match)"
   ]
  },
  {
   "cell_type": "code",
   "execution_count": 21,
   "id": "45fe65e6",
   "metadata": {
    "ExecuteTime": {
     "end_time": "2022-09-09T00:00:34.561670Z",
     "start_time": "2022-09-09T00:00:34.546711Z"
    }
   },
   "outputs": [
    {
     "name": "stdout",
     "output_type": "stream",
     "text": [
      "<re.Match object; span=(234, 246), match='011.323.3555'>\n",
      "<re.Match object; span=(260, 272), match='264-555-5554'>\n",
      "<re.Match object; span=(273, 285), match='757-657-7855'>\n",
      "<re.Match object; span=(312, 324), match='011-323-3555'>\n",
      "<re.Match object; span=(338, 350), match='800-548-4564'>\n",
      "<re.Match object; span=(351, 363), match='900.754-4564'>\n",
      "<re.Match object; span=(364, 376), match='800-548.4564'>\n"
     ]
    }
   ],
   "source": [
    "# character set\n",
    "pattern = re.compile(r\"\\d\\d\\d[-.]\\d\\d\\d[-.]\\d\\d\\d\\d\") # matches 3 Digits and (- or .) + 3 Digits (- or .) + 4 Digits\n",
    "matches = pattern.finditer(text_to_search) \n",
    "\n",
    "for match in matches:\n",
    "    print(match)"
   ]
  },
  {
   "cell_type": "code",
   "execution_count": 22,
   "id": "6868f5a9",
   "metadata": {
    "ExecuteTime": {
     "end_time": "2022-09-09T00:00:34.577626Z",
     "start_time": "2022-09-09T00:00:34.562698Z"
    }
   },
   "outputs": [
    {
     "name": "stdout",
     "output_type": "stream",
     "text": [
      "<re.Match object; span=(338, 350), match='800-548-4564'>\n",
      "<re.Match object; span=(351, 363), match='900.754-4564'>\n",
      "<re.Match object; span=(364, 376), match='800-548.4564'>\n"
     ]
    }
   ],
   "source": [
    "# character set\n",
    "pattern = re.compile(r\"[89]00[-.]\\d\\d\\d[-.]\\d\\d\\d\\d\") # matches (8 or 9) + 00 + (- or .) + 3 Digits + (- or .) + 4 digits\n",
    "matches = pattern.finditer(text_to_search)              # nums starts with 800 or 900\n",
    "\n",
    "for match in matches:\n",
    "    print(match)"
   ]
  },
  {
   "cell_type": "code",
   "execution_count": 23,
   "id": "35f099b2",
   "metadata": {
    "ExecuteTime": {
     "end_time": "2022-09-09T00:00:34.593611Z",
     "start_time": "2022-09-09T00:00:34.578637Z"
    }
   },
   "outputs": [
    {
     "name": "stdout",
     "output_type": "stream",
     "text": [
      "<re.Match object; span=(260, 271), match='264-555-555'>\n",
      "<re.Match object; span=(377, 388), match='264.555*555'>\n"
     ]
    }
   ],
   "source": [
    "pattern = re.compile(r\"\\d\\d\\d[-.*]555[-.*]\\d\\d\\d\") #matches 3 Digits  + (- or . or *)+ 555 + (- or. or *) + 4 digits\n",
    "matches = pattern.finditer(text_to_search) \n",
    "\n",
    "for match in matches:\n",
    "    print(match)"
   ]
  },
  {
   "cell_type": "code",
   "execution_count": 24,
   "id": "eee255af",
   "metadata": {
    "ExecuteTime": {
     "end_time": "2022-09-09T00:00:34.609593Z",
     "start_time": "2022-09-09T00:00:34.594605Z"
    }
   },
   "outputs": [
    {
     "name": "stdout",
     "output_type": "stream",
     "text": [
      "<re.Match object; span=(183, 193), match='0109232934'>\n",
      "<re.Match object; span=(201, 211), match='0109232934'>\n",
      "<re.Match object; span=(390, 400), match='0106947667'>\n"
     ]
    }
   ],
   "source": [
    "pattern = re.compile(r\"010\\d\\d\\d\\d\\d\\d\\d\") # matches any num starts with 010\n",
    "matches = pattern.finditer(text_to_search) \n",
    "for match in matches:\n",
    "    print(match)"
   ]
  },
  {
   "cell_type": "code",
   "execution_count": 25,
   "id": "cf5f1de9",
   "metadata": {
    "ExecuteTime": {
     "end_time": "2022-09-09T00:00:34.625547Z",
     "start_time": "2022-09-09T00:00:34.610586Z"
    }
   },
   "outputs": [
    {
     "data": {
      "text/plain": [
       "['0109232934', '0109232934', '0106947667']"
      ]
     },
     "execution_count": 25,
     "metadata": {},
     "output_type": "execute_result"
    }
   ],
   "source": [
    "# Taking all vodafone numbers (starts with 010) and putting them in a list called vodafonenumbers\n",
    "pattern = re.compile(r\"010\\d\\d\\d\\d\\d\\d\\d\") \n",
    "matches = pattern.finditer(text_to_search) \n",
    "\n",
    "vodafonenumbers = []\n",
    "for match in matches:\n",
    "    vodafonenumbers.append(text_to_search[match.span()[0] : match.span()[1]])\n",
    "                                            #match's Start         #match's End\n",
    "vodafonenumbers    "
   ]
  },
  {
   "cell_type": "code",
   "execution_count": null,
   "id": "445c3a4d",
   "metadata": {
    "ExecuteTime": {
     "end_time": "2022-09-09T00:00:34.641508Z",
     "start_time": "2022-09-09T00:00:34.626544Z"
    }
   },
   "outputs": [],
   "source": [
    "pattern = re.compile(r\"[1-5]\") # matches any num in range 1:5 [1, 2, 3, 4, 5]\n",
    "matches = pattern.finditer(text_to_search) \n",
    "\n",
    "for match in matches:\n",
    "    print(match)"
   ]
  },
  {
   "cell_type": "code",
   "execution_count": null,
   "id": "9034cb30",
   "metadata": {
    "ExecuteTime": {
     "end_time": "2022-09-09T00:00:34.657490Z",
     "start_time": "2022-09-09T00:00:34.644496Z"
    }
   },
   "outputs": [],
   "source": [
    "pattern = re.compile(r\"[-15]\") # matches - or 1 or 15 \n",
    "matches = pattern.finditer(text_to_search) \n",
    "\n",
    "for match in matches:\n",
    "    print(match)"
   ]
  },
  {
   "cell_type": "code",
   "execution_count": null,
   "id": "7aec691f",
   "metadata": {
    "ExecuteTime": {
     "end_time": "2022-09-09T00:00:34.672450Z",
     "start_time": "2022-09-09T00:00:34.658483Z"
    }
   },
   "outputs": [],
   "source": [
    "pattern = re.compile(r\"[1-5-]\") # matches any (num in range 1:5 [1, 2, 3, 4, 5]) or - \n",
    "matches = pattern.finditer(text_to_search) \n",
    "\n",
    "for match in matches:\n",
    "    print(match)"
   ]
  },
  {
   "cell_type": "code",
   "execution_count": null,
   "id": "a840fdf6",
   "metadata": {
    "ExecuteTime": {
     "end_time": "2022-09-09T00:00:34.687410Z",
     "start_time": "2022-09-09T00:00:34.673443Z"
    }
   },
   "outputs": [],
   "source": [
    "pattern = re.compile(r\"[az-]\") # matches a or z or - \n",
    "matches = pattern.finditer(text_to_search) \n",
    "\n",
    "for match in matches:\n",
    "    print(match)"
   ]
  },
  {
   "cell_type": "code",
   "execution_count": null,
   "id": "cd504435",
   "metadata": {
    "ExecuteTime": {
     "end_time": "2022-09-09T00:00:34.702366Z",
     "start_time": "2022-09-09T00:00:34.688404Z"
    }
   },
   "outputs": [],
   "source": [
    "pattern = re.compile(r\"[a-z]\") # matches a:z according to ASCII CODE\n",
    "matches = pattern.finditer(text_to_search) \n",
    "\n",
    "for match in matches:\n",
    "    print(match)"
   ]
  },
  {
   "cell_type": "markdown",
   "id": "9bc62463",
   "metadata": {
    "ExecuteTime": {
     "end_time": "2022-09-09T00:00:34.717326Z",
     "start_time": "2022-09-09T00:00:34.703364Z"
    }
   },
   "source": [
    "pattern = re.compile(r\"[A-z]\") # matches a:z and A:Z && some symbols betwwen them according to ASCII CODE\n",
    "matches = pattern.finditer(text_to_search) \n",
    "\n",
    "for match in matches:\n",
    "    print(match)"
   ]
  },
  {
   "cell_type": "code",
   "execution_count": null,
   "id": "31261f19",
   "metadata": {
    "ExecuteTime": {
     "end_time": "2022-09-09T00:00:34.732286Z",
     "start_time": "2022-09-09T00:00:34.718323Z"
    }
   },
   "outputs": [],
   "source": [
    "pattern = re.compile(r\"[a-zA-Z]\") # matches a:z and A:Z without any symbols between them\n",
    "matches = pattern.finditer(text_to_search) \n",
    "\n",
    "for match in matches:\n",
    "    print(match)"
   ]
  },
  {
   "cell_type": "code",
   "execution_count": null,
   "id": "ae1f45ad",
   "metadata": {
    "ExecuteTime": {
     "end_time": "2022-09-09T00:00:34.748243Z",
     "start_time": "2022-09-09T00:00:34.733284Z"
    }
   },
   "outputs": [],
   "source": [
    "pattern = re.compile(r\"[^a-zA-Z]\") # matches anything but not in range (a:z) and (A:Z)\n",
    "matches = pattern.finditer(text_to_search)     # ^ = not\n",
    "\n",
    "for match in matches:\n",
    "    print(match)"
   ]
  },
  {
   "cell_type": "code",
   "execution_count": 34,
   "id": "f34f8bb2",
   "metadata": {
    "ExecuteTime": {
     "end_time": "2022-09-09T00:00:34.764200Z",
     "start_time": "2022-09-09T00:00:34.749241Z"
    }
   },
   "outputs": [
    {
     "name": "stdout",
     "output_type": "stream",
     "text": [
      "<re.Match object; span=(145, 148), match='mat'>\n",
      "<re.Match object; span=(149, 152), match='hat'>\n",
      "<re.Match object; span=(153, 156), match='bat'>\n",
      "<re.Match object; span=(157, 160), match='fat'>\n",
      "<re.Match object; span=(197, 200), match='sat'>\n"
     ]
    }
   ],
   "source": [
    "pattern = re.compile(r\"[^c]at\") # matches anything but c +(at)\n",
    "matches = pattern.finditer(text_to_search) \n",
    "\n",
    "for match in matches:\n",
    "    print(match)"
   ]
  },
  {
   "cell_type": "code",
   "execution_count": 35,
   "id": "58cbfacd",
   "metadata": {
    "ExecuteTime": {
     "end_time": "2022-09-09T00:00:34.779164Z",
     "start_time": "2022-09-09T00:00:34.765198Z"
    }
   },
   "outputs": [
    {
     "name": "stdout",
     "output_type": "stream",
     "text": [
      "<re.Match object; span=(260, 272), match='264-555-5554'>\n",
      "<re.Match object; span=(273, 285), match='757-657-7855'>\n",
      "<re.Match object; span=(312, 324), match='011-323-3555'>\n",
      "<re.Match object; span=(338, 350), match='800-548-4564'>\n"
     ]
    }
   ],
   "source": [
    "# character set (Quantifier)\n",
    "pattern = re.compile(r\"\\d{3}-\\d{3}-\\d{4}\") # matches 3digits-3digits-4digits, like 321-564-8989\n",
    "matches = pattern.finditer(text_to_search) \n",
    "\n",
    "for match in matches:\n",
    "    print(match)"
   ]
  },
  {
   "cell_type": "code",
   "execution_count": 36,
   "id": "31a97055",
   "metadata": {
    "ExecuteTime": {
     "end_time": "2022-09-09T00:00:34.795118Z",
     "start_time": "2022-09-09T00:00:34.780159Z"
    }
   },
   "outputs": [
    {
     "name": "stdout",
     "output_type": "stream",
     "text": [
      "<re.Match object; span=(260, 272), match='264-555-5554'>\n",
      "<re.Match object; span=(273, 285), match='757-657-7855'>\n",
      "<re.Match object; span=(312, 324), match='011-323-3555'>\n",
      "<re.Match object; span=(338, 350), match='800-548-4564'>\n"
     ]
    }
   ],
   "source": [
    "pattern = re.compile(r\"\\d{3}[-*]\\d{3}[-*]\\d{4}\") # matches 3digits-||*3digits-||*4digits\n",
    "matches = pattern.finditer(text_to_search)                                                 \n",
    "\n",
    "for match in matches:\n",
    "    print(match)"
   ]
  },
  {
   "cell_type": "code",
   "execution_count": 37,
   "id": "02fc13b6",
   "metadata": {
    "ExecuteTime": {
     "end_time": "2022-09-09T00:00:34.811081Z",
     "start_time": "2022-09-09T00:00:34.796116Z"
    }
   },
   "outputs": [
    {
     "name": "stdout",
     "output_type": "stream",
     "text": [
      "<re.Match object; span=(247, 250), match='Mrs'>\n",
      "<re.Match object; span=(403, 406), match='Mr.'>\n",
      "<re.Match object; span=(409, 412), match='Mr.'>\n",
      "<re.Match object; span=(418, 421), match='Mr '>\n",
      "<re.Match object; span=(426, 429), match='Mr '>\n",
      "<re.Match object; span=(435, 438), match='Mr '>\n",
      "<re.Match object; span=(446, 449), match='Mr.'>\n",
      "<re.Match object; span=(458, 461), match='Mr '>\n"
     ]
    }
   ],
   "source": [
    "pattern = re.compile(r\"Mr.\") # matches Mr anything\n",
    "matches = pattern.finditer(text_to_search) \n",
    "\n",
    "for match in matches:\n",
    "    print(match)"
   ]
  },
  {
   "cell_type": "code",
   "execution_count": 38,
   "id": "366b6165",
   "metadata": {
    "ExecuteTime": {
     "end_time": "2022-09-09T00:00:34.827039Z",
     "start_time": "2022-09-09T00:00:34.812079Z"
    }
   },
   "outputs": [
    {
     "name": "stdout",
     "output_type": "stream",
     "text": [
      "<re.Match object; span=(403, 406), match='Mr.'>\n",
      "<re.Match object; span=(409, 412), match='Mr.'>\n",
      "<re.Match object; span=(446, 449), match='Mr.'>\n"
     ]
    }
   ],
   "source": [
    "pattern = re.compile(r\"Mr\\.\") # matches Mr.\n",
    "matches = pattern.finditer(text_to_search) \n",
    "\n",
    "for match in matches:\n",
    "    print(match)"
   ]
  },
  {
   "cell_type": "code",
   "execution_count": 39,
   "id": "8966cd6b",
   "metadata": {
    "ExecuteTime": {
     "end_time": "2022-09-09T00:00:34.842999Z",
     "start_time": "2022-09-09T00:00:34.828037Z"
    }
   },
   "outputs": [
    {
     "name": "stdout",
     "output_type": "stream",
     "text": [
      "<re.Match object; span=(247, 249), match='Mr'>\n",
      "<re.Match object; span=(403, 406), match='Mr.'>\n",
      "<re.Match object; span=(409, 412), match='Mr.'>\n",
      "<re.Match object; span=(418, 420), match='Mr'>\n",
      "<re.Match object; span=(426, 428), match='Mr'>\n",
      "<re.Match object; span=(435, 437), match='Mr'>\n",
      "<re.Match object; span=(446, 449), match='Mr.'>\n",
      "<re.Match object; span=(458, 460), match='Mr'>\n"
     ]
    }
   ],
   "source": [
    "pattern = re.compile(r\"Mr\\.?\") # matches Mr + (.or \" \")\n",
    "matches = pattern.finditer(text_to_search) \n",
    "\n",
    "for match in matches:\n",
    "    print(match)"
   ]
  },
  {
   "cell_type": "code",
   "execution_count": 40,
   "id": "8630f3df",
   "metadata": {
    "ExecuteTime": {
     "end_time": "2022-09-09T00:00:34.858043Z",
     "start_time": "2022-09-09T00:00:34.843993Z"
    }
   },
   "outputs": [
    {
     "name": "stdout",
     "output_type": "stream",
     "text": [
      "<re.Match object; span=(409, 417), match='Mr. Smhx'>\n",
      "<re.Match object; span=(418, 425), match='Mr Smhx'>\n",
      "<re.Match object; span=(426, 432), match='Mr _Sm'>\n",
      "<re.Match object; span=(435, 442), match='Mr Sklm'>\n",
      "<re.Match object; span=(446, 454), match='Mr. Sklm'>\n"
     ]
    }
   ],
   "source": [
    "pattern = re.compile(r\"Mr\\.?\\s[A-Z]?\\w{3}\") \n",
    "matches = pattern.finditer(text_to_search) \n",
    "\n",
    "for match in matches:\n",
    "    print(match)\n",
    "# \\s --> Space    \n",
    "#\\w  --> (uppwe or lower or digits or underscores) like: (Mr. Smhx) or (Mr Smhx)..."
   ]
  },
  {
   "cell_type": "code",
   "execution_count": 41,
   "id": "3005cc42",
   "metadata": {
    "ExecuteTime": {
     "end_time": "2022-09-09T00:00:34.873000Z",
     "start_time": "2022-09-09T00:00:34.859037Z"
    }
   },
   "outputs": [
    {
     "name": "stdout",
     "output_type": "stream",
     "text": [
      "<re.Match object; span=(403, 408), match='Mr. T'>\n",
      "<re.Match object; span=(409, 417), match='Mr. Smhx'>\n",
      "<re.Match object; span=(418, 425), match='Mr Smhx'>\n",
      "<re.Match object; span=(426, 434), match='Mr _Smhx'>\n",
      "<re.Match object; span=(435, 445), match='Mr Sklmerf'>\n",
      "<re.Match object; span=(446, 457), match='Mr. Sklmerf'>\n"
     ]
    }
   ],
   "source": [
    "pattern = re.compile(r\"Mr\\.?\\s[A-Z]?\\w+\") # /+ --> manytimes\n",
    "matches = pattern.finditer(text_to_search) \n",
    "\n",
    "for match in matches:\n",
    "    print(match)\n",
    "# Mr[.]\" \"[A-Z]? (uppwe or lower or digits or underscores) like: (Mr. Smhx) or (Mr Smnrefu) or (Mr. T).....  "
   ]
  },
  {
   "cell_type": "code",
   "execution_count": 42,
   "id": "953c0e67",
   "metadata": {
    "ExecuteTime": {
     "end_time": "2022-09-09T00:00:34.888961Z",
     "start_time": "2022-09-09T00:00:34.873997Z"
    }
   },
   "outputs": [
    {
     "name": "stdout",
     "output_type": "stream",
     "text": [
      "<re.Match object; span=(225, 233), match='Ms Davis'>\n",
      "<re.Match object; span=(247, 259), match='Mrs Robinson'>\n",
      "<re.Match object; span=(403, 408), match='Mr. T'>\n",
      "<re.Match object; span=(409, 417), match='Mr. Smhx'>\n",
      "<re.Match object; span=(418, 425), match='Mr Smhx'>\n",
      "<re.Match object; span=(426, 434), match='Mr _Smhx'>\n",
      "<re.Match object; span=(435, 445), match='Mr Sklmerf'>\n",
      "<re.Match object; span=(446, 457), match='Mr. Sklmerf'>\n"
     ]
    }
   ],
   "source": [
    "pattern = re.compile(r\"M(s|r|rs)\\.?\\s[A-Z]?\\w+\") \n",
    "matches = pattern.finditer(text_to_search) \n",
    "\n",
    "for match in matches:\n",
    "    print(match)\n",
    "# op: (Mr. Sklmerf), (Mr Sklmerf), (Mr Sklmerf), (Mr Sklmerf), (Mrs. Vkf)..."
   ]
  },
  {
   "cell_type": "code",
   "execution_count": 43,
   "id": "94038035",
   "metadata": {
    "ExecuteTime": {
     "end_time": "2022-09-09T00:00:34.904941Z",
     "start_time": "2022-09-09T00:00:34.889954Z"
    }
   },
   "outputs": [
    {
     "name": "stdout",
     "output_type": "stream",
     "text": [
      "<re.Match object; span=(0, 17), match='Ahmed Ali Mohamed'>\n",
      "<re.Match object; span=(20, 35), match='Awad Zaki Eslam'>\n",
      "<re.Match object; span=(38, 56), match='Samy Mohamed Ahmed'>\n"
     ]
    }
   ],
   "source": [
    "s=\"Ahmed Ali Mohamed , Awad Zaki Eslam , Samy Mohamed Ahmed , Elam ahmed\"\n",
    "pattern = re.compile(r\"\\w+\\s\\w+\\s\\w+\") # matches any num of digits\" \"any num of digits\" \"any num of digits\n",
    "matches = pattern.finditer(s) #like: Ahmed Ali Ebrahim , Ahmed Essam Mohamed\n",
    "\n",
    "for match in matches:\n",
    "    print(match)"
   ]
  },
  {
   "cell_type": "code",
   "execution_count": 44,
   "id": "91922933",
   "metadata": {
    "ExecuteTime": {
     "end_time": "2022-09-09T00:00:34.920923Z",
     "start_time": "2022-09-09T00:00:34.905935Z"
    }
   },
   "outputs": [
    {
     "name": "stdout",
     "output_type": "stream",
     "text": [
      "<re.Match object; span=(1, 24), match='CoreyMSchafer@gmail.com'>\n"
     ]
    }
   ],
   "source": [
    "emails = '''\n",
    "CoreyMSchafer@gmail.com\n",
    "corey.schafer@university.edu\n",
    "corey-321-schafer@my-work.net\n",
    "'''\n",
    "pattern = re.compile(r\"[a-zA-Z]+@[a-zA-Z]+\\.com\") # email(.com)\n",
    "matches = pattern.finditer(emails) \n",
    "\n",
    "for match in matches:\n",
    "    print(match)"
   ]
  },
  {
   "cell_type": "code",
   "execution_count": 45,
   "id": "02318c1d",
   "metadata": {
    "ExecuteTime": {
     "end_time": "2022-09-09T00:00:34.936910Z",
     "start_time": "2022-09-09T00:00:34.921922Z"
    }
   },
   "outputs": [
    {
     "name": "stdout",
     "output_type": "stream",
     "text": [
      "<re.Match object; span=(1, 24), match='CoreyMSchafer@gmail.com'>\n",
      "<re.Match object; span=(25, 53), match='corey.schafer@university.edu'>\n",
      "<re.Match object; span=(63, 83), match='-schafer@my-work.net'>\n"
     ]
    }
   ],
   "source": [
    "emails = '''\n",
    "CoreyMSchafer@gmail.com\n",
    "corey.schafer@university.edu\n",
    "corey-123-schafer@my-work.net\n",
    "'''\n",
    "pattern = re.compile(r\"[a-zA-Z.-]+@[a-zA-Z-]+\\.(com|edu|net)\") # email(.com) or # email(.edu) or # email(.net)\n",
    "matches = pattern.finditer(emails) \n",
    "\n",
    "for match in matches:\n",
    "    print(match)"
   ]
  },
  {
   "cell_type": "code",
   "execution_count": 46,
   "id": "7abef143",
   "metadata": {
    "ExecuteTime": {
     "end_time": "2022-09-09T00:00:34.951867Z",
     "start_time": "2022-09-09T00:00:34.937904Z"
    }
   },
   "outputs": [
    {
     "name": "stdout",
     "output_type": "stream",
     "text": [
      "<re.Match object; span=(1, 24), match='CoreyMSchafer@gmail.com'>\n",
      "<re.Match object; span=(25, 53), match='corey.schafer@university.edu'>\n",
      "<re.Match object; span=(54, 83), match='corey-321-schafer@my-work.net'>\n",
      "<re.Match object; span=(84, 99), match='ahmed@gmail.myw'>\n"
     ]
    }
   ],
   "source": [
    "emails = '''\n",
    "CoreyMSchafer@gmail.com\n",
    "corey.schafer@university.edu\n",
    "corey-321-schafer@my-work.net\n",
    "ahmed@gmail.mywork\n",
    "'''\n",
    "pattern = re.compile(r\"[a-zA-Z0-9-.]+@[a-zA-Z-]+\\.\\w{3}\") #will get all emails excpt email(.mywork)\n",
    "matches = pattern.finditer(emails) \n",
    "\n",
    "for match in matches:\n",
    "    print(match)"
   ]
  },
  {
   "cell_type": "code",
   "execution_count": 47,
   "id": "de6a2eae",
   "metadata": {
    "ExecuteTime": {
     "end_time": "2022-09-09T00:00:34.967823Z",
     "start_time": "2022-09-09T00:00:34.952864Z"
    }
   },
   "outputs": [
    {
     "name": "stdout",
     "output_type": "stream",
     "text": [
      "<re.Match object; span=(1, 24), match='CoreyMSchafer@gmail.com'>\n",
      "<re.Match object; span=(25, 53), match='corey.schafer@university.edu'>\n",
      "<re.Match object; span=(54, 83), match='corey-321-schafer@my-work.net'>\n"
     ]
    }
   ],
   "source": [
    "emails = '''\n",
    "CoreyMSchafer@gmail.com\n",
    "corey.schafer@university.edu\n",
    "corey-321-schafer@my-work.net\n",
    "'''\n",
    "pattern = re.compile(r\"[a-zA-Z0-9_.+-]+@[a-zA-Z0-9-]+\\.[a-zA-Z0-9-.]+\") # to check any eamil (will get any email)\n",
    "matches = pattern.finditer(emails) \n",
    "\n",
    "for match in matches:\n",
    "    print(match)"
   ]
  },
  {
   "cell_type": "code",
   "execution_count": 48,
   "id": "6e8f5609",
   "metadata": {
    "ExecuteTime": {
     "end_time": "2022-09-09T00:00:34.983807Z",
     "start_time": "2022-09-09T00:00:34.968822Z"
    }
   },
   "outputs": [
    {
     "name": "stdout",
     "output_type": "stream",
     "text": [
      "3\n"
     ]
    }
   ],
   "source": [
    "emails = '''\n",
    "CoreyMSchafer@gmail.com\n",
    "corey.schafer@university.edu\n",
    "corey-321-schafer@my-work.net\n",
    "CoreyMSchafer@gmail.c\n",
    "'''\n",
    "pattern = re.compile(r\"[a-zA-Z0-9_.+-]+@[a-zA-Z0-9-]+\\.[a-zA-Z0-9-.]{2,}\")\n",
    "matches = pattern.finditer(emails) \n",
    "\n",
    "lenght = sum  (1 for i in matches)\n",
    "print(lenght)\n",
    "if lenght < 1 :\n",
    "    print('Sorry, invalid email')"
   ]
  }
 ],
 "metadata": {
  "kernelspec": {
   "display_name": "Python 3",
   "language": "python",
   "name": "python3"
  },
  "language_info": {
   "codemirror_mode": {
    "name": "ipython",
    "version": 3
   },
   "file_extension": ".py",
   "mimetype": "text/x-python",
   "name": "python",
   "nbconvert_exporter": "python",
   "pygments_lexer": "ipython3",
   "version": "3.8.12"
  }
 },
 "nbformat": 4,
 "nbformat_minor": 5
}
