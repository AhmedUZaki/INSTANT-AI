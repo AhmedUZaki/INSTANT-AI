{
 "cells": [
  {
   "cell_type": "markdown",
   "id": "abbf9d14",
   "metadata": {},
   "source": [
    "# Session 11 Notebook\n",
    "\n",
    "## Regular expression (regex)"
   ]
  },
  {
   "cell_type": "markdown",
   "id": "16271645",
   "metadata": {},
   "source": [
    "---\n",
    "### AI:\n",
    "- 80% Data\n",
    "- 20% Model (Actual AI)\n",
    "    \n",
    "### 80% Data:\n",
    "- 90% Data Cleaning, Filtering\n",
    "- 10% Apply Data Analysis Algorithm (i.e. Understand Data)\n",
    "---"
   ]
  },
  {
   "cell_type": "markdown",
   "id": "5f0d1c4c",
   "metadata": {},
   "source": [
    "### Why we clean and filter data?\n",
    "#### These are different types of how can we write the data (e.g. date), So we have to handel these data with Data Cleaning, Data Filtering\n",
    "\n",
    "- e.g.:\n",
    "    - 31/3/1998\n",
    "    - 31/03/1998\n",
    "    - 03/31/1998\n",
    "    - 31.3.1998\n",
    "    - 3131998\n",
    "    - 31st Mar. 1998\n",
    "    \n",
    "---"
   ]
  },
  {
   "cell_type": "markdown",
   "id": "24751c1c",
   "metadata": {},
   "source": [
    "### Rules\n",
    "\n",
    "\n",
    "- .  -->   Any Character Except New Line\n",
    "- \\d   -->   Digit (0-9)\n",
    "- \\D   -->   Not a Digit (0-9)\n",
    "- \\w   -->   Word Character (a-z, A-Z, 0-9, _)\n",
    "- \\W   -->   Not a Word Character\n",
    "- \\s   -->   Whitespace (space, tab, newline)\n",
    "- \\S   -->   Not Whitespace (space, tab, newline)\n",
    "\n",
    "\n",
    "- \\b   -->   Word Boundary\n",
    "- \\B   -->   Not a Word Boundary\n",
    "- ^   -->   Beginning of a String\n",
    "- $   -->   End of a String\n",
    "\n",
    "\n",
    "- []   -->   Matches Characters in brackets\n",
    "- [^ ]   -->   Matches Characters NOT in brackets\n",
    "- |   -->   Either Or\n",
    "- ( )   -->   Group\n",
    "\n",
    "\n",
    "#### Quantifiers\n",
    "\n",
    "- {*} -->  0 or More\n",
    "- {+} --> 1 or More \n",
    "- ? --> 0 or One \n",
    "- {3} --> Exact Number\n",
    "- {3,4} --> Range of Numbers (Minimum, Maximum)"
   ]
  },
  {
   "cell_type": "code",
   "execution_count": 4,
   "id": "7b278b35",
   "metadata": {
    "ExecuteTime": {
     "end_time": "2022-09-08T19:43:00.635941Z",
     "start_time": "2022-09-08T19:43:00.619984Z"
    }
   },
   "outputs": [
    {
     "name": "stdout",
     "output_type": "stream",
     "text": [
      "\t tab = 8 spaces\n",
      "tab\n",
      "\\t Tab\n"
     ]
    }
   ],
   "source": [
    "print(\"\\t tab = 8 spaces\") # special characters \\t, \\n\n",
    "print(\"tab\")\n",
    "print(r\"\\t Tab\") # raw print"
   ]
  },
  {
   "cell_type": "code",
   "execution_count": 5,
   "id": "dc9f6612",
   "metadata": {
    "ExecuteTime": {
     "end_time": "2022-09-08T19:43:10.212225Z",
     "start_time": "2022-09-08T19:43:10.195245Z"
    }
   },
   "outputs": [
    {
     "name": "stdout",
     "output_type": "stream",
     "text": [
      "Ahmed\n",
      "Ahmed\n",
      "------------\n",
      "Ahmed\\nAhmed\n"
     ]
    }
   ],
   "source": [
    "print(\"Ahmed\\nAhmed\")\n",
    "print(\"------------\")\n",
    "print(r\"Ahmed\\nAhmed\")"
   ]
  },
  {
   "cell_type": "code",
   "execution_count": 7,
   "id": "f5a8b639",
   "metadata": {
    "ExecuteTime": {
     "end_time": "2022-09-08T19:43:39.139021Z",
     "start_time": "2022-09-08T19:43:39.131040Z"
    }
   },
   "outputs": [
    {
     "data": {
      "text/plain": [
       "6"
      ]
     },
     "execution_count": 7,
     "metadata": {},
     "output_type": "execute_result"
    }
   ],
   "source": [
    "string = \"ahmed amr ali hossam amr\"  #string\n",
    "string.find(\"amr\") #search substring return index first \"amr\""
   ]
  },
  {
   "cell_type": "code",
   "execution_count": 8,
   "id": "15575168",
   "metadata": {
    "ExecuteTime": {
     "end_time": "2022-09-08T19:44:33.926529Z",
     "start_time": "2022-09-08T19:44:33.907581Z"
    },
    "scrolled": true
   },
   "outputs": [
    {
     "data": {
      "text/plain": [
       "-1"
      ]
     },
     "execution_count": 8,
     "metadata": {},
     "output_type": "execute_result"
    }
   ],
   "source": [
    "string = \"ahm5d\"\n",
    "string.find(\"med\") # -1 = not found"
   ]
  },
  {
   "cell_type": "code",
   "execution_count": null,
   "id": "e36f40ad",
   "metadata": {},
   "outputs": [],
   "source": [
    "# Regular Expressions ! (Advanced String Manipulation)\n",
    "\n",
    "text_to_search = '''abcdefghkjhcormsncomrstvuxyz\n",
    "ABCDEFGHIJKLMNOPPQRSTVWXYZ\n",
    "12345678910\n",
    "Ha HaHa\n",
    "MetaCharacters (Need to be escaped)\n",
    ". ^ $ * + ! {} [] \\ | ()\n",
    "abc\n",
    "cat\n",
    "mat\n",
    "hat\n",
    "bat\n",
    "fat\n",
    "sat\n",
    "01092329340\n",
    "01123234355\n",
    "Ms Davis\n",
    "Mrs Robinson\n",
    "Mr. T\n",
    "'''"
   ]
  },
  {
   "cell_type": "code",
   "execution_count": 10,
   "id": "7cd6b527",
   "metadata": {
    "ExecuteTime": {
     "end_time": "2022-09-08T19:48:18.518743Z",
     "start_time": "2022-09-08T19:48:18.501789Z"
    }
   },
   "outputs": [
    {
     "name": "stdout",
     "output_type": "stream",
     "text": [
      "<re.Match object; span=(0, 3), match='abc'>\n",
      "<re.Match object; span=(137, 140), match='abc'>\n"
     ]
    }
   ],
   "source": [
    "pattern = re.compile(r\"abc\") #search for \"abc\"\n",
    "matches = pattern.finditer(text_to_search) #store result in matches\n",
    "\n",
    "for match in matches:\n",
    "    print(match)"
   ]
  },
  {
   "cell_type": "code",
   "execution_count": null,
   "id": "f5025a2d",
   "metadata": {},
   "outputs": [],
   "source": []
  },
  {
   "cell_type": "code",
   "execution_count": null,
   "id": "f0e517ab",
   "metadata": {},
   "outputs": [],
   "source": []
  },
  {
   "cell_type": "code",
   "execution_count": null,
   "id": "cc93ade1",
   "metadata": {},
   "outputs": [],
   "source": []
  },
  {
   "cell_type": "code",
   "execution_count": null,
   "id": "00a55424",
   "metadata": {},
   "outputs": [],
   "source": []
  },
  {
   "cell_type": "code",
   "execution_count": null,
   "id": "d6901161",
   "metadata": {},
   "outputs": [],
   "source": []
  },
  {
   "cell_type": "code",
   "execution_count": null,
   "id": "fe1c92b7",
   "metadata": {},
   "outputs": [],
   "source": []
  }
 ],
 "metadata": {
  "kernelspec": {
   "display_name": "Python 3",
   "language": "python",
   "name": "python3"
  },
  "language_info": {
   "codemirror_mode": {
    "name": "ipython",
    "version": 3
   },
   "file_extension": ".py",
   "mimetype": "text/x-python",
   "name": "python",
   "nbconvert_exporter": "python",
   "pygments_lexer": "ipython3",
   "version": "3.8.12"
  }
 },
 "nbformat": 4,
 "nbformat_minor": 5
}
