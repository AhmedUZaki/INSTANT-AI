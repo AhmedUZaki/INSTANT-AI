{
 "cells": [
  {
   "cell_type": "markdown",
   "id": "de243186",
   "metadata": {},
   "source": [
    "# Session 11 Tasks solution"
   ]
  },
  {
   "cell_type": "markdown",
   "id": "e3cc657f",
   "metadata": {},
   "source": [
    "## Tasks:\n",
    "\n",
    "#### - Read txt file and list each name, phone number and email separately in lists."
   ]
  },
  {
   "cell_type": "code",
   "execution_count": 1,
   "id": "02469834",
   "metadata": {
    "ExecuteTime": {
     "end_time": "2022-09-09T12:00:13.120691Z",
     "start_time": "2022-09-09T12:00:13.107725Z"
    },
    "scrolled": true
   },
   "outputs": [
    {
     "name": "stdout",
     "output_type": "stream",
     "text": [
      "Ahmed Mohamed Zaki,AhmedUZaki@gmail.com,+20 (10) 69476758\n",
      "Abigail,chanel.upton@orn.net,+20 (12) 15941754\n",
      "Alexandra,gkerluke@mann.com,+20 (10) 82753795\n",
      "Alison,mweimann@gaylord.org,+20 (11) 49603436\n",
      "Amanda,hulda.wiegand@walsh.com,+20 (10) 33408051\n",
      "Amelia,jonatan.schiller@gmail.com,+20 (10) 94407621\n",
      "Anne,vstracke@gmail.com,+20 (12) 27615463\n",
      "Audrey,kuvalis.else@cronin.com,+20 (12) 97776502\n",
      "Ava,marge.daugherty@hotmail.com,+20 (10) 01625052\n",
      "Carol$eduardo30@gmail.com$+20 (10) 94731090\n",
      "Caroline$gaylord.isadore@yahoo.com$+20 (10) 32545187\n",
      "Cameron Grant=cade.swift@gmail.com=+20 (10) 72028604\n",
      "Joseph Keeling Anne=kattie.weimann@yahoo.com=01040777958\n",
      "Darren Bailey I Audrey=aletha15@schneider.com[]%+201053875055\n",
      "Colin James[]%natalie.buckridge@dietrich.com[]%+201130460217\n",
      "Charles Lyman[]%abel81@hermann.com[]$+201013814147\n",
      "Alison Clark[]$murray.moshe@gmail.com[]$+201120450341\n",
      "Leah Manning[]bettie16@yahoo.com[]+201242526743\n",
      "Natalie Davies,devan.beatty@gmail.com,+201165448674\n",
      "\n"
     ]
    }
   ],
   "source": [
    "fileObject = open(\"Random Data.txt\", \"r\" )  #To open sample file\n",
    "data = fileObject.read() #To read from sample file\n",
    "\n",
    "print(data)"
   ]
  },
  {
   "cell_type": "code",
   "execution_count": 2,
   "id": "168069f2",
   "metadata": {
    "ExecuteTime": {
     "end_time": "2022-09-09T12:00:13.136647Z",
     "start_time": "2022-09-09T12:00:13.122686Z"
    }
   },
   "outputs": [],
   "source": [
    "import re"
   ]
  },
  {
   "cell_type": "code",
   "execution_count": 3,
   "id": "bc109ce0",
   "metadata": {
    "ExecuteTime": {
     "end_time": "2022-09-09T12:00:13.166568Z",
     "start_time": "2022-09-09T12:00:13.138642Z"
    }
   },
   "outputs": [
    {
     "data": {
      "text/plain": [
       "['Ahmed Mohamed Zaki',\n",
       " 'Cameron Grant',\n",
       " 'Joseph Keeling Anne',\n",
       " 'Darren Bailey',\n",
       " 'Colin James',\n",
       " 'Charles Lyman',\n",
       " 'Alison Clark',\n",
       " 'Leah Manning',\n",
       " 'Natalie Davies']"
      ]
     },
     "execution_count": 3,
     "metadata": {},
     "output_type": "execute_result"
    }
   ],
   "source": [
    "pattern = re.compile(r'[A-Z]?[a-z]+\\s[A-Z]?[a-z]+\\s?[A-Z]?[a-z]+')\n",
    "matches = pattern.finditer(data)\n",
    "Names=[]\n",
    "\n",
    "for match in matches:\n",
    "    Names.append(data[match.span()[0]:match.span()[1]])\n",
    "    \n",
    "Names"
   ]
  },
  {
   "cell_type": "code",
   "execution_count": 4,
   "id": "e6d8405e",
   "metadata": {
    "ExecuteTime": {
     "end_time": "2022-09-09T12:00:13.182525Z",
     "start_time": "2022-09-09T12:00:13.167565Z"
    },
    "scrolled": true
   },
   "outputs": [
    {
     "data": {
      "text/plain": [
       "['+20 (10) 69476758',\n",
       " '+20 (12) 15941754',\n",
       " '+20 (10) 82753795',\n",
       " '+20 (11) 49603436',\n",
       " '+20 (10) 33408051',\n",
       " '+20 (10) 94407621',\n",
       " '+20 (12) 27615463',\n",
       " '+20 (12) 97776502',\n",
       " '+20 (10) 01625052',\n",
       " '+20 (10) 94731090',\n",
       " '+20 (10) 32545187',\n",
       " '+20 (10) 72028604',\n",
       " '+201053875055',\n",
       " '+201130460217',\n",
       " '+201013814147',\n",
       " '+201120450341',\n",
       " '+201242526743',\n",
       " '+201165448674']"
      ]
     },
     "execution_count": 4,
     "metadata": {},
     "output_type": "execute_result"
    }
   ],
   "source": [
    "#https://pythex.org\n",
    "#https://www.debuggex.com/cheatsheet/regex/python\n",
    "\n",
    "pattern = re.compile('(\\+\\d{2})\\s?(\\(?\\d{2}\\)?)\\s?(\\d{8,})')\n",
    "\n",
    "\n",
    "matches = pattern.finditer(data)\n",
    "PhoneNumbers = []\n",
    "\n",
    "for match in matches:\n",
    "    PhoneNumbers.append(data[match.span()[0]:match.span()[1]])\n",
    "    \n",
    "PhoneNumbers"
   ]
  },
  {
   "cell_type": "code",
   "execution_count": 5,
   "id": "57b9c712",
   "metadata": {
    "ExecuteTime": {
     "end_time": "2022-09-09T12:00:13.198481Z",
     "start_time": "2022-09-09T12:00:13.183523Z"
    }
   },
   "outputs": [
    {
     "data": {
      "text/plain": [
       "['AhmedUZaki@gmail.com',\n",
       " 'chanel.upton@orn.net',\n",
       " 'gkerluke@mann.com',\n",
       " 'mweimann@gaylord.org',\n",
       " 'hulda.wiegand@walsh.com',\n",
       " 'jonatan.schiller@gmail.com',\n",
       " 'vstracke@gmail.com',\n",
       " 'kuvalis.else@cronin.com',\n",
       " 'marge.daugherty@hotmail.com',\n",
       " 'eduardo30@gmail.com',\n",
       " 'gaylord.isadore@yahoo.com',\n",
       " 'cade.swift@gmail.com',\n",
       " 'kattie.weimann@yahoo.com',\n",
       " 'aletha15@schneider.com',\n",
       " 'natalie.buckridge@dietrich.com',\n",
       " 'abel81@hermann.com',\n",
       " 'murray.moshe@gmail.com',\n",
       " 'bettie16@yahoo.com',\n",
       " 'devan.beatty@gmail.com']"
      ]
     },
     "execution_count": 5,
     "metadata": {},
     "output_type": "execute_result"
    }
   ],
   "source": [
    "pattern = re.compile(r\"[a-zA-Z0-9_.+-]+@[a-zA-Z0-9-]+\\.[a-zA-Z0-9-.]+\")\n",
    "matches = pattern.finditer(data)\n",
    "Emails = []\n",
    "\n",
    "for match in matches:\n",
    "    Emails.append(data[match.span()[0]:match.span()[1]])\n",
    "    \n",
    "Emails"
   ]
  }
 ],
 "metadata": {
  "kernelspec": {
   "display_name": "Python 3",
   "language": "python",
   "name": "python3"
  },
  "language_info": {
   "codemirror_mode": {
    "name": "ipython",
    "version": 3
   },
   "file_extension": ".py",
   "mimetype": "text/x-python",
   "name": "python",
   "nbconvert_exporter": "python",
   "pygments_lexer": "ipython3",
   "version": "3.8.12"
  }
 },
 "nbformat": 4,
 "nbformat_minor": 5
}
