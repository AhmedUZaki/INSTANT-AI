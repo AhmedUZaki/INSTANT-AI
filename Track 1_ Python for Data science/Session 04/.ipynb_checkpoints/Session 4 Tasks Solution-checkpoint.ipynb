{
 "cells": [
  {
   "cell_type": "markdown",
   "id": "0827d038",
   "metadata": {},
   "source": [
    "##  Session 4 Tasks solution\n"
   ]
  },
  {
   "cell_type": "code",
   "execution_count": 1,
   "id": "6a587d6f",
   "metadata": {
    "ExecuteTime": {
     "end_time": "2022-08-05T23:26:34.630553Z",
     "start_time": "2022-08-05T23:26:34.608644Z"
    },
    "scrolled": true
   },
   "outputs": [
    {
     "data": {
      "text/plain": [
       "[1505, 1540, 1575, 1610, 1645, 1680, 1715, 1750, 1785, 1820]"
      ]
     },
     "execution_count": 1,
     "metadata": {},
     "output_type": "execute_result"
    }
   ],
   "source": [
    "\"\"\"\n",
    "1. Write a Python program to find those numbers which are divisible by 7 and multiple of 5,\n",
    "between 1500 and 2700 (both included).\n",
    "\"\"\"\n",
    "\n",
    "lst=[]\n",
    "\n",
    "for x in range (1500,2700):\n",
    "    if x%7==0 and x%5==0:\n",
    "        lst.append(x)\n",
    "lst[:10]      "
   ]
  },
  {
   "cell_type": "code",
   "execution_count": 2,
   "id": "83fdb653",
   "metadata": {
    "ExecuteTime": {
     "end_time": "2022-08-05T23:26:38.551033Z",
     "start_time": "2022-08-05T23:26:34.632550Z"
    }
   },
   "outputs": [
    {
     "name": "stdout",
     "output_type": "stream",
     "text": [
      "Choose the conversion process \n",
      " celsius2fahrenheit:1 \n",
      " fahrenheit2celsius:2\n",
      " 1\n",
      "Enter the celsius temp.20\n",
      "The fahrenheit temp. is 68.0\n"
     ]
    }
   ],
   "source": [
    "\"\"\"\n",
    "2. Write a Python program to convert temperatures to and from celsius, fahrenheit. \n",
    "[ Formula : c/5 = (f-32)/9 [ where c = temperature in celsius and f = temperature in fahrenheit ]\n",
    "\n",
    "\"\"\"\n",
    "# °F = 1.8°C + 32°\n",
    "# °C =5/9(°F-32°)\n",
    "\n",
    "while True:\n",
    "    x=int(input('Choose the conversion process \\n celsius2fahrenheit:1 \\n fahrenheit2celsius:2\\n '))\n",
    "    if x == 1 or x==2:\n",
    "        if x == 1:\n",
    "            c=int(input(\"Enter the celsius temp.\"))\n",
    "            f = 1.8*c + 32\n",
    "            print(f\"The fahrenheit temp. is {f}\")\n",
    "            break\n",
    "            \n",
    "        elif x == 2:\n",
    "            f=int(input(\"Enter the fahrenheit temp.\"))\n",
    "            c =(5/9)*(f-32)\n",
    "            print(f\"The celsius temp. is {c}\")\n",
    "            break\n",
    "            \n",
    "    else:\n",
    "        print(\"Invalid  #, please enter 1 or 2 ! :( \")\n",
    "        \n",
    "    "
   ]
  },
  {
   "cell_type": "code",
   "execution_count": 3,
   "id": "6960e5c1",
   "metadata": {
    "ExecuteTime": {
     "end_time": "2022-08-05T23:26:38.566000Z",
     "start_time": "2022-08-05T23:26:38.552028Z"
    }
   },
   "outputs": [
    {
     "name": "stdout",
     "output_type": "stream",
     "text": [
      "\n",
      "* \n",
      "* * \n",
      "* * * \n",
      "* * * * \n",
      "* * * * * \n",
      "* * * * \n",
      "* * * \n",
      "* * \n",
      "* \n",
      "\n",
      "\n",
      "* \n",
      "* * \n",
      "* * * \n",
      "* * * * \n",
      "* * * * * \n",
      "* * * * \n",
      "* * * \n",
      "* * \n",
      "* \n"
     ]
    }
   ],
   "source": [
    "\"\"\"\n",
    "3. Write a Python program to construct the following pattern, using a nested for loop.\n",
    "\n",
    "* \n",
    "* * \n",
    "* * * \n",
    "* * * * \n",
    "* * * * * \n",
    "* * * * \n",
    "* * * \n",
    "* * \n",
    "* \n",
    "\"\"\"\n",
    "# without nested for loop.\n",
    "n=5\n",
    "for i in range(n+1):\n",
    "    print(\"* \" * i )\n",
    "\n",
    "for j in range(n-1,-1,-1):\n",
    "    print(\"* \" * j )\n",
    "    \n",
    "#using a nested for loop.\n",
    "n=5\n",
    "\n",
    "for i in range(n+1):\n",
    "    for j in range(i):\n",
    "        print(\"* \", end=\"\")\n",
    "    print()\n",
    "\n",
    "for i in range(n-1,0,-1):\n",
    "    for j in range(i):\n",
    "        print(\"* \",end=\"\")\n",
    "    print()  \n",
    "    "
   ]
  },
  {
   "cell_type": "code",
   "execution_count": 4,
   "id": "abc60b5d",
   "metadata": {
    "ExecuteTime": {
     "end_time": "2022-08-05T23:26:46.643381Z",
     "start_time": "2022-08-05T23:26:38.567755Z"
    },
    "scrolled": true
   },
   "outputs": [
    {
     "name": "stdout",
     "output_type": "stream",
     "text": [
      "AhmedZaki123\n",
      "321ikaZdemhA"
     ]
    }
   ],
   "source": [
    "\"\"\"\n",
    "4. Write a Python program that accepts a word from the user and reverse it.\n",
    "\"\"\"\n",
    "x=list(input())\n",
    "    \n",
    "for i in range (len(x)-1,-1,-1):\n",
    "    print(x[i], end=\"\")    "
   ]
  },
  {
   "cell_type": "code",
   "execution_count": 5,
   "id": "7770356d",
   "metadata": {
    "ExecuteTime": {
     "end_time": "2022-08-05T23:26:50.877243Z",
     "start_time": "2022-08-05T23:26:46.644375Z"
    },
    "scrolled": true
   },
   "outputs": [
    {
     "name": "stdout",
     "output_type": "stream",
     "text": [
      "Enter the Nums 20\n",
      "Enter the Nums 10\n",
      "Enter the Nums 5\n",
      "Your inputs are [20, 10, 5]\n",
      "\n",
      "Maxumum is 20\n"
     ]
    }
   ],
   "source": [
    "\"\"\"\n",
    "5. Write a Python function to find the Max of three numbers.\n",
    "\"\"\"\n",
    "\n",
    "lst=[]\n",
    "\n",
    "for i in range(3):\n",
    "    x=int(input(\"Enter the Nums \"))\n",
    "    lst.append(x)\n",
    "\n",
    "print(f\"Your inputs are {lst}\")  \n",
    "\n",
    "\n",
    "def Maximum(lst):\n",
    "    print()\n",
    "    Max =lst[0]\n",
    "    if lst[0] < lst[1] and lst[2] < lst[1]:\n",
    "        Max =lst[1]\n",
    "    elif  lst[0]<  lst[2] and lst[1]<  lst[2]:\n",
    "        Max =lst[2]    \n",
    "    y=print(f\"Maxumum is {Max}\" )\n",
    "    return y \n",
    "    \n",
    "Maximum(lst)"
   ]
  },
  {
   "cell_type": "code",
   "execution_count": 6,
   "id": "8358b965",
   "metadata": {
    "ExecuteTime": {
     "end_time": "2022-08-05T23:26:54.039286Z",
     "start_time": "2022-08-05T23:26:50.877876Z"
    },
    "scrolled": true
   },
   "outputs": [
    {
     "name": "stdout",
     "output_type": "stream",
     "text": [
      "Enter the Nums 10\n",
      "Enter the Nums 20\n",
      "Enter the Nums 30\n",
      "Your inputs are [10, 20, 30]\n",
      "\n",
      "Summation is  60\n"
     ]
    }
   ],
   "source": [
    "\"\"\"\n",
    "6. Write a Python function to sum all the numbers in a list.\n",
    "\"\"\"\n",
    "lst=[]\n",
    "\n",
    "for i in range(3):\n",
    "    x=int(input(\"Enter the Nums \"))\n",
    "    lst.append(x)\n",
    "\n",
    "print(f\"Your inputs are {lst}\")  \n",
    "\n",
    "\n",
    "def summation(lst):\n",
    "    print()\n",
    "    c=0\n",
    "    for i in range(0,len(lst)):\n",
    "        c= c+ lst[i]  \n",
    "        \n",
    "    y=print(\"Summation is  \" + str (c))   \n",
    "    return y\n",
    "\n",
    "summation(lst)"
   ]
  },
  {
   "cell_type": "code",
   "execution_count": 7,
   "id": "61124bc0",
   "metadata": {
    "ExecuteTime": {
     "end_time": "2022-08-05T23:26:54.086538Z",
     "start_time": "2022-08-05T23:26:54.072480Z"
    }
   },
   "outputs": [
    {
     "name": "stdout",
     "output_type": "stream",
     "text": [
      "0\n",
      "1\n",
      "2\n",
      "4\n",
      "5\n"
     ]
    }
   ],
   "source": [
    "\"\"\"\n",
    "7. Write a Python program that prints all the numbers from 0 to 6 except 3 and 6.\n",
    "Note : Use 'continue' statement.\n",
    "\"\"\"\n",
    "i = -1\n",
    "while i<6:\n",
    "    i+=1\n",
    "    if (i in [3,6]):\n",
    "        continue\n",
    "    print(i)\n",
    "        \n"
   ]
  },
  {
   "cell_type": "code",
   "execution_count": 8,
   "id": "79107be9",
   "metadata": {
    "ExecuteTime": {
     "end_time": "2022-08-05T23:26:54.086538Z",
     "start_time": "2022-08-05T23:26:54.072480Z"
    }
   },
   "outputs": [
    {
     "data": {
      "text/plain": [
       "120"
      ]
     },
     "execution_count": 8,
     "metadata": {},
     "output_type": "execute_result"
    }
   ],
   "source": [
    "\"\"\"\n",
    "8. Write a Python function to calculate the factorial of a number (a non-negative integer). T\n",
    "he function accepts the number as an argument.\n",
    "\"\"\"\n",
    "def factorial(num):\n",
    "    fact = 1\n",
    "    for i in range(1,num+1):\n",
    "        fact = i*fact\n",
    "    return fact\n",
    "\n",
    "factorial(5) \n",
    "\n",
    "#factorial(5) = 1*2*3*4*5 (Ascending order)"
   ]
  },
  {
   "cell_type": "code",
   "execution_count": 9,
   "id": "8f32ad42",
   "metadata": {
    "ExecuteTime": {
     "end_time": "2022-08-05T23:26:54.086538Z",
     "start_time": "2022-08-05T23:26:54.072480Z"
    }
   },
   "outputs": [
    {
     "data": {
      "text/plain": [
       "[1, 2, 5, 4, 60]"
      ]
     },
     "execution_count": 9,
     "metadata": {},
     "output_type": "execute_result"
    }
   ],
   "source": [
    "\"\"\"\n",
    "9. Write a Python function that takes a list and returns \n",
    "a new list with unique elements of the first list.\n",
    "\"\"\"\n",
    "\n",
    "l=[1,1,2,2,2,5,4,60,60,60]\n",
    "\n",
    "def unique(l):\n",
    "    u=[]\n",
    "    for i in range(len (l)):\n",
    "        if l[i] not in u:\n",
    "            u.append(l[i])\n",
    "    return u        \n",
    "    \n",
    "unique(l)"
   ]
  },
  {
   "cell_type": "code",
   "execution_count": 10,
   "id": "874f3ecb",
   "metadata": {
    "ExecuteTime": {
     "end_time": "2022-08-05T23:26:54.101805Z",
     "start_time": "2022-08-05T23:26:54.088531Z"
    }
   },
   "outputs": [
    {
     "name": "stdout",
     "output_type": "stream",
     "text": [
      "25\n",
      "20\n"
     ]
    }
   ],
   "source": [
    "\"\"\"\n",
    "10. Write a Python program to create \n",
    "a lambda function that adds 15 to a given number passed in as an argument, \n",
    "also create a lambda function that multiplies argument x with argument y and print the result. Bonus\n",
    "\"\"\"\n",
    "\n",
    "u = lambda a : a + 15\n",
    "print(u(10))\n",
    "\n",
    "\n",
    "u = lambda x, y : x * y\n",
    "print(u(2, 10))"
   ]
  }
 ],
 "metadata": {
  "kernelspec": {
   "display_name": "Python 3",
   "language": "python",
   "name": "python3"
  },
  "language_info": {
   "codemirror_mode": {
    "name": "ipython",
    "version": 3
   },
   "file_extension": ".py",
   "mimetype": "text/x-python",
   "name": "python",
   "nbconvert_exporter": "python",
   "pygments_lexer": "ipython3",
   "version": "3.8.12"
  }
 },
 "nbformat": 4,
 "nbformat_minor": 5
}
