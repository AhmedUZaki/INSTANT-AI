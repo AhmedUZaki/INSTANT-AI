{
 "cells": [
  {
   "cell_type": "markdown",
   "id": "de243186",
   "metadata": {},
   "source": [
    "# Session 7 Tasks"
   ]
  },
  {
   "cell_type": "markdown",
   "id": "e3cc657f",
   "metadata": {},
   "source": [
    "### Tasks:\n",
    "- Implement destructors in Python."
   ]
  },
  {
   "cell_type": "markdown",
   "id": "130a47c6",
   "metadata": {},
   "source": [
    "### Destructors:\n",
    "- are called when an object gets destroyed. In Python, destructors are not needed as much as in C++ because Python has a garbage collector that handles memory management automatically. \n",
    "- The `__del__()` method is a known as a destructor method in Python.\n",
    "- It is called when all references to the object have been deleted i.e when an object is garbage collected. "
   ]
  },
  {
   "cell_type": "code",
   "execution_count": 1,
   "id": "546862f7",
   "metadata": {
    "ExecuteTime": {
     "end_time": "2022-08-17T12:09:10.917169Z",
     "start_time": "2022-08-17T12:09:10.897535Z"
    }
   },
   "outputs": [
    {
     "name": "stdout",
     "output_type": "stream",
     "text": [
      "Welcome to VIP zone\n",
      "Access denied\n"
     ]
    }
   ],
   "source": [
    "# Implemention of destructors in Python.\n",
    "class VIP:\n",
    "     # Initializing\n",
    "    def __init__(self):\n",
    "        print('Welcome to VIP zone')\n",
    " \n",
    "    # Deleting (Calling destructor)\n",
    "    def __del__(self):\n",
    "        print('Access denied')\n",
    " \n",
    "obj = VIP()\n",
    "del obj"
   ]
  }
 ],
 "metadata": {
  "kernelspec": {
   "display_name": "Python 3",
   "language": "python",
   "name": "python3"
  },
  "language_info": {
   "codemirror_mode": {
    "name": "ipython",
    "version": 3
   },
   "file_extension": ".py",
   "mimetype": "text/x-python",
   "name": "python",
   "nbconvert_exporter": "python",
   "pygments_lexer": "ipython3",
   "version": "3.8.12"
  }
 },
 "nbformat": 4,
 "nbformat_minor": 5
}
