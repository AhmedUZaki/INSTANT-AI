{
 "cells": [
  {
   "cell_type": "markdown",
   "id": "de243186",
   "metadata": {},
   "source": [
    "# Session 7 Tasks solution"
   ]
  },
  {
   "cell_type": "markdown",
   "id": "e3cc657f",
   "metadata": {},
   "source": [
    "### Tasks:\n",
    "- Implement destructors in Python."
   ]
  },
  {
   "cell_type": "markdown",
   "id": "130a47c6",
   "metadata": {},
   "source": [
    "### Destructors:\n",
    "- are called when an object gets destroyed. In Python, destructors are not needed as much as in C++ because Python has a garbage collector that handles memory management automatically. \n",
    "- The `__del__()` method is a known as a destructor method in Python.\n",
    "- It is called when all references to the object have been deleted i.e when an object is garbage collected. "
   ]
  },
  {
   "cell_type": "code",
   "execution_count": 1,
   "id": "546862f7",
   "metadata": {
    "ExecuteTime": {
     "end_time": "2022-09-10T22:25:13.103540Z",
     "start_time": "2022-09-10T22:25:13.096579Z"
    },
    "scrolled": true
   },
   "outputs": [],
   "source": [
    "# Implemention of destructors in Python.\n",
    "class VIP:\n",
    "     # Initializing\n",
    "    def __init__(self):\n",
    "        print('Welcome to VIP zone')\n",
    "        \n",
    "    def printtest(self):\n",
    "        print('test')\n",
    " \n",
    "    # Deleting (Calling destructor)\n",
    "    def __del__(self):\n",
    "        print('Access denied')"
   ]
  },
  {
   "cell_type": "code",
   "execution_count": 2,
   "id": "e58e9d2e",
   "metadata": {
    "ExecuteTime": {
     "end_time": "2022-09-10T22:25:14.368474Z",
     "start_time": "2022-09-10T22:25:14.351547Z"
    }
   },
   "outputs": [
    {
     "name": "stdout",
     "output_type": "stream",
     "text": [
      "Welcome to VIP zone\n",
      "Access denied\n"
     ]
    }
   ],
   "source": [
    "obj = VIP()\n",
    "del obj"
   ]
  }
 ],
 "metadata": {
  "kernelspec": {
   "display_name": "Python 3",
   "language": "python",
   "name": "python3"
  },
  "language_info": {
   "codemirror_mode": {
    "name": "ipython",
    "version": 3
   },
   "file_extension": ".py",
   "mimetype": "text/x-python",
   "name": "python",
   "nbconvert_exporter": "python",
   "pygments_lexer": "ipython3",
   "version": "3.8.12"
  }
 },
 "nbformat": 4,
 "nbformat_minor": 5
}
