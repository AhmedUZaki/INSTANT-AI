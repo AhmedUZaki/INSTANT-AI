{
 "cells": [
  {
   "cell_type": "markdown",
   "id": "03bc1e5f",
   "metadata": {},
   "source": [
    "# Session 7 Notebook\n",
    "\n",
    "## Object-Oriented Programming (OOP)"
   ]
  },
  {
   "cell_type": "markdown",
   "id": "ade27d43",
   "metadata": {
    "ExecuteTime": {
     "end_time": "2022-08-20T17:25:57.634606Z",
     "start_time": "2022-08-20T17:25:57.614658Z"
    }
   },
   "source": [
    "- **OOP Basic Concepts:**\n",
    "\n",
    "    1. **Abstraction**\n",
    "       - **User** -> Use the application in fewest # of steps (e.g. ATM withdraw process).\n",
    "       - **Coding** -> Make the `Class` very basic (generalized) (e.g. Default Pes6 new player).\n",
    "    2. **Encapsulation**\n",
    "       - Hide some information (Attributes / Functions) from the user temporarily, until he proves that he has the right to access it, for Security or Business reasons.\n",
    "    3. Inheritance\n",
    "    4. Polymorphism\n",
    "    5. Composition"
   ]
  },
  {
   "cell_type": "markdown",
   "id": "63863b44",
   "metadata": {},
   "source": [
    "### 1st Example"
   ]
  },
  {
   "cell_type": "code",
   "execution_count": 1,
   "id": "3cc0520c",
   "metadata": {
    "ExecuteTime": {
     "end_time": "2022-08-20T17:19:54.368124Z",
     "start_time": "2022-08-20T17:19:54.354163Z"
    }
   },
   "outputs": [],
   "source": [
    "class Human:\n",
    "    name = None\n",
    "    nationalid = None\n",
    "    age = None\n",
    "    phonenumber = None"
   ]
  },
  {
   "cell_type": "code",
   "execution_count": 2,
   "id": "1426dd7d",
   "metadata": {
    "ExecuteTime": {
     "end_time": "2022-08-20T17:19:54.384112Z",
     "start_time": "2022-08-20T17:19:54.369121Z"
    }
   },
   "outputs": [],
   "source": [
    "a = Human()  # object , instance"
   ]
  },
  {
   "cell_type": "code",
   "execution_count": 3,
   "id": "81b5bfe9",
   "metadata": {
    "ExecuteTime": {
     "end_time": "2022-08-20T17:19:54.400038Z",
     "start_time": "2022-08-20T17:19:54.386086Z"
    }
   },
   "outputs": [],
   "source": [
    "a.name = \"Ahmed\"\n",
    "a.age = 23\n",
    "a.phonenumber = 123\n",
    "a.nationalid = 1234"
   ]
  },
  {
   "cell_type": "code",
   "execution_count": 4,
   "id": "7897fabf",
   "metadata": {
    "ExecuteTime": {
     "end_time": "2022-08-20T17:19:54.414998Z",
     "start_time": "2022-08-20T17:19:54.401036Z"
    }
   },
   "outputs": [],
   "source": [
    "b = Human()"
   ]
  },
  {
   "cell_type": "code",
   "execution_count": 5,
   "id": "9e3d5ead",
   "metadata": {
    "ExecuteTime": {
     "end_time": "2022-08-20T17:19:54.429958Z",
     "start_time": "2022-08-20T17:19:54.415996Z"
    }
   },
   "outputs": [],
   "source": [
    "b.name = \"Ali\"\n",
    "b.age = 24\n",
    "b.phonenumber = 234\n",
    "b.nationalid = 123456"
   ]
  },
  {
   "cell_type": "code",
   "execution_count": 6,
   "id": "54423be6",
   "metadata": {
    "ExecuteTime": {
     "end_time": "2022-08-20T17:19:54.445916Z",
     "start_time": "2022-08-20T17:19:54.430956Z"
    }
   },
   "outputs": [],
   "source": [
    "class Human:\n",
    "    # Constructor\n",
    "    def __init__(self):\n",
    "        print(\"Welcome new human\")\n",
    "\n",
    "    name = None\n",
    "    nationalid = None\n",
    "    age = None\n",
    "    phonenumber = None"
   ]
  },
  {
   "cell_type": "code",
   "execution_count": 7,
   "id": "e28c1391",
   "metadata": {
    "ExecuteTime": {
     "end_time": "2022-08-20T17:19:54.461873Z",
     "start_time": "2022-08-20T17:19:54.446913Z"
    }
   },
   "outputs": [
    {
     "name": "stdout",
     "output_type": "stream",
     "text": [
      "Welcome new human\n"
     ]
    }
   ],
   "source": [
    "a = Human()"
   ]
  },
  {
   "cell_type": "code",
   "execution_count": 8,
   "id": "3fd3d469",
   "metadata": {
    "ExecuteTime": {
     "end_time": "2022-08-20T17:19:54.476833Z",
     "start_time": "2022-08-20T17:19:54.462870Z"
    }
   },
   "outputs": [],
   "source": [
    "class Human:\n",
    "\n",
    "    # Constructor\n",
    "    def __init__(self):\n",
    "        print(\"Welcome new human\")\n",
    "\n",
    "    # attributes\n",
    "    name = None\n",
    "    nationalid = None\n",
    "    age = None\n",
    "    phonenumber = None\n",
    "\n",
    "    # functions , methods\n",
    "    def cry(self):  # (self) isn't the only allowed keyword to represent object.\n",
    "        print(\"Waaaaa\")"
   ]
  },
  {
   "cell_type": "code",
   "execution_count": 9,
   "id": "710e5598",
   "metadata": {
    "ExecuteTime": {
     "end_time": "2022-08-20T17:19:54.492791Z",
     "start_time": "2022-08-20T17:19:54.478829Z"
    }
   },
   "outputs": [
    {
     "name": "stdout",
     "output_type": "stream",
     "text": [
      "Welcome new human\n"
     ]
    }
   ],
   "source": [
    "a = Human()"
   ]
  },
  {
   "cell_type": "code",
   "execution_count": 10,
   "id": "86434fea",
   "metadata": {
    "ExecuteTime": {
     "end_time": "2022-08-20T17:19:54.507752Z",
     "start_time": "2022-08-20T17:19:54.493789Z"
    },
    "scrolled": true
   },
   "outputs": [
    {
     "name": "stdout",
     "output_type": "stream",
     "text": [
      "Waaaaa\n"
     ]
    }
   ],
   "source": [
    "a.cry()"
   ]
  },
  {
   "cell_type": "markdown",
   "id": "80088e47",
   "metadata": {},
   "source": [
    "### 2nd Example"
   ]
  },
  {
   "cell_type": "code",
   "execution_count": 11,
   "id": "fa167758",
   "metadata": {
    "ExecuteTime": {
     "end_time": "2022-08-20T17:19:54.522711Z",
     "start_time": "2022-08-20T17:19:54.508749Z"
    }
   },
   "outputs": [],
   "source": [
    "class BankAccount:\n",
    "\n",
    "    # Constructor\n",
    "    def __init__(self):\n",
    "        print(\"Welcome to our bank\")\n",
    "        # attributes\n",
    "        self.name = input(\"please enter your name: \")\n",
    "        self.nationalid = int(input(\"please enter your national id: \"))\n",
    "        self.password = int(input(\"please enter your password: \"))\n",
    "        self.phone = input(\"please enter your phone number: \")\n",
    "        self.credit = 0\n",
    "\n",
    "    def deposit(self):\n",
    "        amount = float(input(\"please enter how much: \"))\n",
    "        self.credit = self.credit + amount\n",
    "\n",
    "    def withdraw(self):\n",
    "        amount = float(input(\"please enter how much: \"))\n",
    "        self.credit = self.credit - amount\n",
    "\n",
    "    def changepassword(self):\n",
    "        nid = int(input(\"please enter your national id: \"))\n",
    "        if nid == self.nationalid:\n",
    "            self.password = int(input(\"please enter your new password: \"))"
   ]
  },
  {
   "cell_type": "code",
   "execution_count": 12,
   "id": "3acbecc2",
   "metadata": {
    "ExecuteTime": {
     "end_time": "2022-08-20T17:20:01.586824Z",
     "start_time": "2022-08-20T17:19:54.523707Z"
    },
    "scrolled": true
   },
   "outputs": [
    {
     "name": "stdout",
     "output_type": "stream",
     "text": [
      "Welcome to our bank\n",
      "please enter your name: Ahmed\n",
      "please enter your national id: 123\n",
      "please enter your password: 123\n",
      "please enter your phone number: 123\n"
     ]
    }
   ],
   "source": [
    "b = BankAccount()"
   ]
  },
  {
   "cell_type": "code",
   "execution_count": 13,
   "id": "1a633af6",
   "metadata": {
    "ExecuteTime": {
     "end_time": "2022-08-20T17:20:05.419579Z",
     "start_time": "2022-08-20T17:20:01.587822Z"
    }
   },
   "outputs": [
    {
     "name": "stdout",
     "output_type": "stream",
     "text": [
      "please enter how much: 1000\n"
     ]
    }
   ],
   "source": [
    "b.deposit()"
   ]
  },
  {
   "cell_type": "code",
   "execution_count": 14,
   "id": "9c5b1388",
   "metadata": {
    "ExecuteTime": {
     "end_time": "2022-08-20T17:20:05.435537Z",
     "start_time": "2022-08-20T17:20:05.420576Z"
    }
   },
   "outputs": [
    {
     "data": {
      "text/plain": [
       "1000.0"
      ]
     },
     "execution_count": 14,
     "metadata": {},
     "output_type": "execute_result"
    }
   ],
   "source": [
    "b.credit"
   ]
  },
  {
   "cell_type": "code",
   "execution_count": 15,
   "id": "253a97ad",
   "metadata": {
    "ExecuteTime": {
     "end_time": "2022-08-20T17:20:15.226360Z",
     "start_time": "2022-08-20T17:20:05.436534Z"
    }
   },
   "outputs": [
    {
     "name": "stdout",
     "output_type": "stream",
     "text": [
      "please enter how much: 500\n"
     ]
    }
   ],
   "source": [
    "b.deposit()"
   ]
  },
  {
   "cell_type": "code",
   "execution_count": 16,
   "id": "cde24490",
   "metadata": {
    "ExecuteTime": {
     "end_time": "2022-08-20T17:20:15.242317Z",
     "start_time": "2022-08-20T17:20:15.227357Z"
    }
   },
   "outputs": [
    {
     "data": {
      "text/plain": [
       "1500.0"
      ]
     },
     "execution_count": 16,
     "metadata": {},
     "output_type": "execute_result"
    }
   ],
   "source": [
    "b.credit"
   ]
  },
  {
   "cell_type": "code",
   "execution_count": 17,
   "id": "6d247732",
   "metadata": {
    "ExecuteTime": {
     "end_time": "2022-08-20T17:20:19.133914Z",
     "start_time": "2022-08-20T17:20:15.243315Z"
    },
    "scrolled": true
   },
   "outputs": [
    {
     "name": "stdout",
     "output_type": "stream",
     "text": [
      "please enter how much: 500\n"
     ]
    }
   ],
   "source": [
    "b.withdraw()"
   ]
  },
  {
   "cell_type": "code",
   "execution_count": 18,
   "id": "5bf73e38",
   "metadata": {
    "ExecuteTime": {
     "end_time": "2022-08-20T17:20:19.148913Z",
     "start_time": "2022-08-20T17:20:19.134911Z"
    }
   },
   "outputs": [
    {
     "data": {
      "text/plain": [
       "1000.0"
      ]
     },
     "execution_count": 18,
     "metadata": {},
     "output_type": "execute_result"
    }
   ],
   "source": [
    "b.credit"
   ]
  },
  {
   "cell_type": "code",
   "execution_count": 19,
   "id": "54137853",
   "metadata": {
    "ExecuteTime": {
     "end_time": "2022-08-20T17:20:22.866934Z",
     "start_time": "2022-08-20T17:20:19.149871Z"
    }
   },
   "outputs": [
    {
     "name": "stdout",
     "output_type": "stream",
     "text": [
      "please enter how much: 2000\n"
     ]
    }
   ],
   "source": [
    "b.withdraw()"
   ]
  },
  {
   "cell_type": "code",
   "execution_count": 20,
   "id": "32eeef8a",
   "metadata": {
    "ExecuteTime": {
     "end_time": "2022-08-20T17:20:22.882891Z",
     "start_time": "2022-08-20T17:20:22.867931Z"
    },
    "scrolled": true
   },
   "outputs": [
    {
     "data": {
      "text/plain": [
       "-1000.0"
      ]
     },
     "execution_count": 20,
     "metadata": {},
     "output_type": "execute_result"
    }
   ],
   "source": [
    "b.credit\n",
    "# -1000 ! Error\n",
    "# We'll modifiy the `withdraw` function to prevent withdraw if (withdraw value > credit)"
   ]
  },
  {
   "cell_type": "code",
   "execution_count": 21,
   "id": "52a9cfac",
   "metadata": {
    "ExecuteTime": {
     "end_time": "2022-08-20T17:20:28.517983Z",
     "start_time": "2022-08-20T17:20:22.883889Z"
    }
   },
   "outputs": [
    {
     "name": "stdout",
     "output_type": "stream",
     "text": [
      "please enter your national id: 123\n",
      "please enter your new password: 1234\n"
     ]
    }
   ],
   "source": [
    "b.changepassword()"
   ]
  },
  {
   "cell_type": "markdown",
   "id": "b5dc97a4",
   "metadata": {},
   "source": [
    "### Same example (Class) but:\n",
    "- Modifing `withdraw` function.\n",
    "- Adding `directDeposit` function."
   ]
  },
  {
   "cell_type": "code",
   "execution_count": 22,
   "id": "581fabec",
   "metadata": {
    "ExecuteTime": {
     "end_time": "2022-08-20T17:20:28.533910Z",
     "start_time": "2022-08-20T17:20:28.518950Z"
    }
   },
   "outputs": [],
   "source": [
    "class BankAccount:\n",
    "\n",
    "    # Constructor\n",
    "    def __init__(self):\n",
    "        print(\"Welcome to our bank\")\n",
    "        # attributes\n",
    "        self.name = input(\"please enter your name: \")\n",
    "        self.nationalid = int(input(\"please enter your national id: \"))\n",
    "        self.password = int(input(\"please enter your password: \"))\n",
    "        self.phone = input(\"please enter your phone number: \")\n",
    "        self.credit = 0\n",
    "\n",
    "    def deposit(self):\n",
    "        amount = float(input(\"please enter how much: \"))\n",
    "        self.credit = self.credit + amount\n",
    "\n",
    "    def directDeposit(self, amount):\n",
    "        self.credit += self.credit + amount\n",
    "        print(\"Done, your cridit is:\", self.credit)\n",
    "\n",
    "    def withdraw(self):\n",
    "        amount = float(input(\"please enter how much: \"))\n",
    "        if self.credit-amount < 0:\n",
    "            print(\"You don't have enough money\")\n",
    "        else:\n",
    "            self.credit = self.credit - amount\n",
    "            print(\"Successful operation, your credit now is \", self.credit)\n",
    "\n",
    "    def changepassword(self):\n",
    "        nid = int(input(\"please enter your national id: \"))\n",
    "        if nid == self.nationalid:\n",
    "            self.password = int(input(\"please enter your new password: \"))"
   ]
  },
  {
   "cell_type": "code",
   "execution_count": 23,
   "id": "5a33662c",
   "metadata": {
    "ExecuteTime": {
     "end_time": "2022-08-20T17:20:37.465032Z",
     "start_time": "2022-08-20T17:20:28.534907Z"
    },
    "scrolled": true
   },
   "outputs": [
    {
     "name": "stdout",
     "output_type": "stream",
     "text": [
      "Welcome to our bank\n",
      "please enter your name: Ahmed\n",
      "please enter your national id: 123\n",
      "please enter your password: 123\n",
      "please enter your phone number: 123\n"
     ]
    }
   ],
   "source": [
    "c = BankAccount()"
   ]
  },
  {
   "cell_type": "code",
   "execution_count": 24,
   "id": "621297ec",
   "metadata": {
    "ExecuteTime": {
     "end_time": "2022-08-20T17:20:43.678456Z",
     "start_time": "2022-08-20T17:20:37.466029Z"
    },
    "scrolled": true
   },
   "outputs": [
    {
     "name": "stdout",
     "output_type": "stream",
     "text": [
      "please enter how much: 1000\n"
     ]
    }
   ],
   "source": [
    "c.deposit()"
   ]
  },
  {
   "cell_type": "code",
   "execution_count": 25,
   "id": "8a49acd9",
   "metadata": {
    "ExecuteTime": {
     "end_time": "2022-08-20T17:20:43.694379Z",
     "start_time": "2022-08-20T17:20:43.679419Z"
    }
   },
   "outputs": [
    {
     "data": {
      "text/plain": [
       "1000.0"
      ]
     },
     "execution_count": 25,
     "metadata": {},
     "output_type": "execute_result"
    }
   ],
   "source": [
    "c.credit"
   ]
  },
  {
   "cell_type": "code",
   "execution_count": 26,
   "id": "51cb8dfb",
   "metadata": {
    "ExecuteTime": {
     "end_time": "2022-08-20T17:20:50.240878Z",
     "start_time": "2022-08-20T17:20:43.695377Z"
    }
   },
   "outputs": [
    {
     "name": "stdout",
     "output_type": "stream",
     "text": [
      "please enter how much: 500\n",
      "Successful operation, your credit now is  500.0\n"
     ]
    }
   ],
   "source": [
    "c.withdraw()"
   ]
  },
  {
   "cell_type": "code",
   "execution_count": 27,
   "id": "aba6b20c",
   "metadata": {
    "ExecuteTime": {
     "end_time": "2022-08-20T17:20:55.374185Z",
     "start_time": "2022-08-20T17:20:50.243871Z"
    },
    "scrolled": false
   },
   "outputs": [
    {
     "name": "stdout",
     "output_type": "stream",
     "text": [
      "please enter how much: 600\n",
      "You don't have enough money\n"
     ]
    }
   ],
   "source": [
    "c.withdraw()"
   ]
  },
  {
   "cell_type": "code",
   "execution_count": 28,
   "id": "48d0a43b",
   "metadata": {
    "ExecuteTime": {
     "end_time": "2022-08-20T17:20:55.390148Z",
     "start_time": "2022-08-20T17:20:55.375288Z"
    },
    "scrolled": true
   },
   "outputs": [
    {
     "name": "stdout",
     "output_type": "stream",
     "text": [
      "Done, your cridit is: 1500.0\n"
     ]
    }
   ],
   "source": [
    "c.directDeposit(500)"
   ]
  },
  {
   "cell_type": "markdown",
   "id": "37b95926",
   "metadata": {
    "ExecuteTime": {
     "end_time": "2022-08-20T16:42:30.272794Z",
     "start_time": "2022-08-20T16:42:30.265811Z"
    }
   },
   "source": [
    "## Applying Encapsulation Concept\n",
    "### Same example (Class) but:\n",
    "- Make some attributes private:\n",
    "    -`__nationalid`\n",
    "    -`__password`\n",
    "    -`__credit`\n",
    "- Adding `showcredit` function to print credit when user enter the password."
   ]
  },
  {
   "cell_type": "code",
   "execution_count": 29,
   "id": "be18a1d5",
   "metadata": {
    "ExecuteTime": {
     "end_time": "2022-08-20T17:20:55.406074Z",
     "start_time": "2022-08-20T17:20:55.391107Z"
    }
   },
   "outputs": [],
   "source": [
    "class BankAccount:\n",
    "\n",
    "    # Constructor\n",
    "    def __init__(self):\n",
    "        print(\"Welcome to our bank\")\n",
    "        # attributes\n",
    "        self.name = input(\"please enter your name: \")\n",
    "        self.__nationalid = int(input(\"please enter your national id: \"))\n",
    "        self.__password = int(input(\"please enter your password: \"))\n",
    "        self.phone = input(\"please enter your phone number: \")\n",
    "        self.__credit = 0\n",
    "\n",
    "    def deposit(self):\n",
    "        amount = float(input(\"please enter how much: \"))\n",
    "        self.__credit = self.__credit + amount\n",
    "\n",
    "    def directDeposit(self, amount):\n",
    "        self.__credit += self.__credit + amount\n",
    "        print(\"Done, your cridit is:\", self.__credit)\n",
    "        \n",
    "    def showcredit(self):\n",
    "        userpassword=int(input(\"please enter your new password: \"))\n",
    "        if userpassword==self.__password:\n",
    "            print(\" your cridit is:\", self.__credit)        \n",
    "\n",
    "    def withdraw(self):\n",
    "        amount = float(input(\"please enter how much: \"))\n",
    "        if self.__credit-amount < 0:\n",
    "            print(\"You don't have enough money\")\n",
    "        else:\n",
    "            self.__credit = self.__credit - amount\n",
    "            print(\"Successful operation, your credit now is \", self.__credit)\n",
    "\n",
    "    def changepassword(self):\n",
    "        nid = int(input(\"please enter your national id: \"))\n",
    "        if nid == self.nationalid:\n",
    "            self.password = int(input(\"please enter your new password: \"))"
   ]
  },
  {
   "cell_type": "code",
   "execution_count": 30,
   "id": "11b53f31",
   "metadata": {
    "ExecuteTime": {
     "end_time": "2022-08-20T17:21:19.962418Z",
     "start_time": "2022-08-20T17:20:55.407066Z"
    },
    "scrolled": true
   },
   "outputs": [
    {
     "name": "stdout",
     "output_type": "stream",
     "text": [
      "Welcome to our bank\n",
      "please enter your name: Ahmed\n",
      "please enter your national id: 123\n",
      "please enter your password: 123\n",
      "please enter your phone number: 123\n"
     ]
    }
   ],
   "source": [
    "d=BankAccount()"
   ]
  },
  {
   "cell_type": "code",
   "execution_count": 31,
   "id": "1e9b804d",
   "metadata": {
    "ExecuteTime": {
     "end_time": "2022-08-20T17:21:20.103042Z",
     "start_time": "2022-08-20T17:21:19.963416Z"
    },
    "scrolled": true
   },
   "outputs": [
    {
     "ename": "AttributeError",
     "evalue": "'BankAccount' object has no attribute 'password'",
     "output_type": "error",
     "traceback": [
      "\u001b[1;31m---------------------------------------------------------------------------\u001b[0m",
      "\u001b[1;31mAttributeError\u001b[0m                            Traceback (most recent call last)",
      "\u001b[1;32m~\\AppData\\Local\\Temp/ipykernel_15024/3415312545.py\u001b[0m in \u001b[0;36m<module>\u001b[1;34m\u001b[0m\n\u001b[1;32m----> 1\u001b[1;33m \u001b[0md\u001b[0m\u001b[1;33m.\u001b[0m\u001b[0mpassword\u001b[0m \u001b[1;31m#Because we make it privete.\u001b[0m\u001b[1;33m\u001b[0m\u001b[1;33m\u001b[0m\u001b[0m\n\u001b[0m",
      "\u001b[1;31mAttributeError\u001b[0m: 'BankAccount' object has no attribute 'password'"
     ]
    }
   ],
   "source": [
    "d.password #Because we make it privete."
   ]
  },
  {
   "cell_type": "code",
   "execution_count": 32,
   "id": "4e6c6b7d",
   "metadata": {
    "ExecuteTime": {
     "end_time": "2022-08-20T17:21:26.460048Z",
     "start_time": "2022-08-20T17:21:26.454062Z"
    }
   },
   "outputs": [
    {
     "ename": "AttributeError",
     "evalue": "'BankAccount' object has no attribute '__password'",
     "output_type": "error",
     "traceback": [
      "\u001b[1;31m---------------------------------------------------------------------------\u001b[0m",
      "\u001b[1;31mAttributeError\u001b[0m                            Traceback (most recent call last)",
      "\u001b[1;32m~\\AppData\\Local\\Temp/ipykernel_15024/107339621.py\u001b[0m in \u001b[0;36m<module>\u001b[1;34m\u001b[0m\n\u001b[1;32m----> 1\u001b[1;33m \u001b[0md\u001b[0m\u001b[1;33m.\u001b[0m\u001b[0m__password\u001b[0m \u001b[1;31m#Because we make it privete.\u001b[0m\u001b[1;33m\u001b[0m\u001b[1;33m\u001b[0m\u001b[0m\n\u001b[0m",
      "\u001b[1;31mAttributeError\u001b[0m: 'BankAccount' object has no attribute '__password'"
     ]
    }
   ],
   "source": [
    "d.__password #Because we make it privete."
   ]
  },
  {
   "cell_type": "code",
   "execution_count": 33,
   "id": "4bc0d559",
   "metadata": {
    "ExecuteTime": {
     "end_time": "2022-08-20T17:21:28.252256Z",
     "start_time": "2022-08-20T17:21:28.247269Z"
    }
   },
   "outputs": [
    {
     "ename": "AttributeError",
     "evalue": "'BankAccount' object has no attribute '__credit'",
     "output_type": "error",
     "traceback": [
      "\u001b[1;31m---------------------------------------------------------------------------\u001b[0m",
      "\u001b[1;31mAttributeError\u001b[0m                            Traceback (most recent call last)",
      "\u001b[1;32m~\\AppData\\Local\\Temp/ipykernel_15024/3022831186.py\u001b[0m in \u001b[0;36m<module>\u001b[1;34m\u001b[0m\n\u001b[1;32m----> 1\u001b[1;33m \u001b[0md\u001b[0m\u001b[1;33m.\u001b[0m\u001b[0m__credit\u001b[0m\u001b[1;33m\u001b[0m\u001b[1;33m\u001b[0m\u001b[0m\n\u001b[0m",
      "\u001b[1;31mAttributeError\u001b[0m: 'BankAccount' object has no attribute '__credit'"
     ]
    }
   ],
   "source": [
    "d.__credit #Because we make it privete."
   ]
  },
  {
   "cell_type": "code",
   "execution_count": 34,
   "id": "e0395b19",
   "metadata": {
    "ExecuteTime": {
     "end_time": "2022-08-20T17:21:41.185680Z",
     "start_time": "2022-08-20T17:21:38.542744Z"
    }
   },
   "outputs": [
    {
     "name": "stdout",
     "output_type": "stream",
     "text": [
      "please enter your new password: 123\n",
      " your cridit is: 0\n"
     ]
    }
   ],
   "source": [
    "d.showcredit() \n",
    "#Print privite the attribute `__credit` \n",
    "#because any function in `Class` can access any thing (neither private nor public)."
   ]
  },
  {
   "cell_type": "code",
   "execution_count": null,
   "id": "af4b11ad",
   "metadata": {},
   "outputs": [],
   "source": []
  }
 ],
 "metadata": {
  "kernelspec": {
   "display_name": "Python 3",
   "language": "python",
   "name": "python3"
  },
  "language_info": {
   "codemirror_mode": {
    "name": "ipython",
    "version": 3
   },
   "file_extension": ".py",
   "mimetype": "text/x-python",
   "name": "python",
   "nbconvert_exporter": "python",
   "pygments_lexer": "ipython3",
   "version": "3.8.12"
  }
 },
 "nbformat": 4,
 "nbformat_minor": 5
}
