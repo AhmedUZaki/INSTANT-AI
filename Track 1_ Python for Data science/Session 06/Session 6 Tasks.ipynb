{
 "cells": [
  {
   "cell_type": "markdown",
   "id": "8df7b9b5",
   "metadata": {},
   "source": [
    "# Session 6 Tasks"
   ]
  },
  {
   "cell_type": "markdown",
   "id": "e2808a69",
   "metadata": {},
   "source": [
    "#### Tasks:\n",
    "1. How to sort dictionary by keys.\n",
    "1. How to sort dictionary by Values [Added by me]\n",
    "2. Compare between Adjacency Matrix/List.\n",
    "3. How does DFS and BFS work?\n",
    "4. Create your own library and use it.\n",
    "5. Create a function receives stack elements as inputs from user while not equal to zero.\n",
    "6. Implement Unordered/Multi set in Python."
   ]
  },
  {
   "cell_type": "code",
   "execution_count": 1,
   "id": "dd2b327d",
   "metadata": {
    "ExecuteTime": {
     "end_time": "2022-08-23T21:15:49.744585Z",
     "start_time": "2022-08-23T21:15:49.730581Z"
    },
    "scrolled": false
   },
   "outputs": [
    {
     "data": {
      "text/plain": [
       "{'brand': 50, 'day': 13, 'model': 10, 'year': 20}"
      ]
     },
     "execution_count": 1,
     "metadata": {},
     "output_type": "execute_result"
    }
   ],
   "source": [
    "# 1. How to sort dictionary by Keys.\n",
    "\n",
    "thisdict = {\"brand\":50,\"model\":10,\"day\": 13,\"year\": 20}\n",
    "\n",
    "#Sort our Keys.\n",
    "\"\"\"\n",
    "for x in sorted(thisdict) :\n",
    "    print(x)   \n",
    "\"\"\"   \n",
    "\n",
    "#Print Sorted dict,Value\n",
    "\"\"\"\n",
    "for x in sorted(thisdict):\n",
    "    print(x,thisdict[x]) \n",
    "\"\"\"\n",
    "\n",
    "#Print result in dictionary form    \n",
    "newdict=dict()   \n",
    "\n",
    "for x in sorted(thisdict):\n",
    "    newdict[x]=thisdict[x]\n",
    "    \n",
    "newdict"
   ]
  },
  {
   "cell_type": "code",
   "execution_count": 2,
   "id": "0a02df6f",
   "metadata": {
    "ExecuteTime": {
     "end_time": "2022-08-23T21:15:49.760611Z",
     "start_time": "2022-08-23T21:15:49.745082Z"
    },
    "scrolled": true
   },
   "outputs": [
    {
     "name": "stdout",
     "output_type": "stream",
     "text": [
      "model\n",
      "day\n",
      "year\n",
      "brand\n"
     ]
    }
   ],
   "source": [
    "# 2. How to sort dictionary by Values.\n",
    "\n",
    "thisdict = {\"brand\":50,\"model\":10,\"day\": 13,\"year\": 20}\n",
    "\n",
    "#Sort our values.\n",
    "\"\"\"\n",
    "for x in sorted(thisdict.values()) :\n",
    "    print(x)   \n",
    "\"\"\"    \n",
    "\n",
    "# Print all Keys \n",
    "\"\"\"\n",
    "for i in thisdict:\n",
    "    print(i)\n",
    "\"\"\"   \n",
    "\n",
    "# Print the key if its Value matchs the sorted_value.\n",
    "for sorted_value in sorted(thisdict.values()):\n",
    "    for i in thisdict:\n",
    "        if thisdict[i]==sorted_value:\n",
    "            print(i)    "
   ]
  },
  {
   "cell_type": "markdown",
   "id": "05c10ea4",
   "metadata": {
    "ExecuteTime": {
     "end_time": "2022-08-14T15:48:44.518209Z",
     "start_time": "2022-08-14T15:47:52.820446Z"
    }
   },
   "source": [
    "## 2. Compare between Adjacency Matrix/List.\n",
    "1. **Adjacency List:** An Adjacency list is an array consisting of the address of all the [linked lists](https://www.geeksforgeeks.org/data-structures/linked-list/). The first node of the linked list represents the vertex and the remaining lists connected to this node represents the vertices to which this node is connected. This representation can also be used to represent a weighted graph. The linked list can slightly be changed to even store the weight of the edge.\n",
    "2. **Adjacency Matrix:** Adjacency Matrix is a [2D array](https://www.geeksforgeeks.org/multidimensional-arrays-in-java/) of size V x V where V is the number of vertices in a graph. Let the 2D array be adj[][], a slot adj[i][j] = 1 indicates that there is an edge from vertex i to vertex j. Adjacency matrix for undirected graph is always symmetric. Adjacency Matrix is also used to represent weighted graphs. If adj[i][j] = w, then there is an edge from vertex i to vertex j with weight w.\n",
    "\n",
    "#### Arabic resources :\n",
    "\n",
    "1. [Introduction To Graph,Types Of Graph and Representation](https://www.youtube.com/watch?v=R74DnYySxv0)\n",
    "\n",
    "------"
   ]
  },
  {
   "cell_type": "markdown",
   "id": "243a9539",
   "metadata": {},
   "source": [
    "## 3. How does DFS and BFS work ?\n",
    "### Graph traversal algorithms are **DFS** and **BFS**.\n",
    "\n",
    "**Breadth-First Search:**\n",
    "\n",
    "**BFS, Breadth-First Search,** is a vertex-based technique for finding the shortest path in the graph. It uses a [Queue data structure](https://www.geeksforgeeks.org/queue-data-structure/) that follows first in first out. \n",
    "\n",
    "**Example**:\n",
    "\n",
    "```\n",
    " Input:\n",
    "        A\n",
    "       / \\\n",
    "      B   C\n",
    "     /   / \\\n",
    "    D   E   F\n",
    "```\n",
    "\n",
    "**Output:** \n",
    "\n",
    "```\n",
    "A, B, C, D, E, F\n",
    "```\n",
    "\n",
    "\n",
    "\n",
    "**Depth First Search:**\n",
    "**DFS,** [**Depth First Search**], is an edge-based technique. It uses the [Stack data structure](https://www.geeksforgeeks.org/stack-data-structure/) and performs two stages.\n",
    "\n",
    "- First visited vertices are pushed into the stack.\n",
    "\n",
    "- Second if there are no vertices then visited vertices are popped. \n",
    "\n",
    "**Example:** \n",
    "\n",
    "```\n",
    "  Input:\n",
    "        A\n",
    "       / \\\n",
    "      B   D\n",
    "     /   / \\\n",
    "    C   E   F\n",
    "```\n",
    "\n",
    "**Output:** \n",
    "\n",
    "```\n",
    "A, B, D, C, E, F\n",
    "```\n",
    "\n",
    "\n",
    "\n",
    "| S. No. |           Parameters           |                             BFS                              |                             DFS                              |\n",
    "| :----- | :----------------------------: | :----------------------------------------------------------: | :----------------------------------------------------------: |\n",
    "| 1.     |           Stands for           |             BFS stands for Breadth First Search.             |              DFS stands for Depth First Search.              |\n",
    "| 2.     |         Data Structure         | BFS(Breadth First Search) uses **Queue data structure** for finding the shortest path. |    DFS(Depth First Search) uses **Stack data structure**.    |\n",
    "| 3.     |           Definition           | BFS is a traversal approach in which we first walk through all nodes on the same level before moving on to the next level. | DFS is also a traversal approach in which the traverse begins at the root node and proceeds through the nodes as far as possible until we reach the node with no unvisited nearby nodes. |\n",
    "| 4.     |           Technique            | BFS can be used to find a single source shortest path in an unweighted graph because, in BFS, we reach a vertex with a minimum number of edges from a source vertex. | In DFS, we might traverse through more edges to reach a destination vertex from a source. |\n",
    "| 5.     |     Conceptual Difference      |             BFS builds the tree level by level.              |          DFS builds the tree sub-tree by sub-tree.           |\n",
    "| 6.     |         Approach used          |    It works on the concept of FIFO (First In First Out).     |     It works on the concept of LIFO (Last In First Out).     |\n",
    "| 7.     |          Suitable for          | BFS is more suitable for searching vertices closer to the given source. | DFS is more suitable when there are solutions away from source. |\n",
    "| 8.     | Visiting of Siblings/ Children |       Here, siblings are visited before the children.        |       Here, children are visited before the siblings.        |\n",
    "| 9.     |          Applications          | BFS is used in various applications such as bipartite graphs, shortest paths, etc. | DFS is used in various applications such as acyclic graphs and topological order etc. |\n",
    "| 10.    |             Memory             |                  BFS requires more memory.                   |                  DFS requires less memory.                   |\n",
    "| 11.    |             Speed              |               BFS is slow as compared to DFS.                |               DFS is fast as compared to BFS.                |\n",
    "| 12.    |          When to use?          | When the target is close to the source, BFS performs better. |  When the target is far from the source, DFS is preferable.  |\n",
    "\n",
    "#### Arabic resources :\n",
    "\n",
    "1. [Introduction To Graph,Types Of Graph and Representation](https://www.youtube.com/watch?v=R74DnYySxv0)\n",
    "2. [Breadth First Search Algorithm (BFS)](https://www.youtube.com/watch?v=pNWCCHFw7og)\n",
    "3. [Depth First Search Algorithm (DFS)](https://www.youtube.com/watch?v=vAvPkrLbczg)\n",
    "\n"
   ]
  },
  {
   "cell_type": "code",
   "execution_count": 3,
   "id": "917611c8",
   "metadata": {
    "ExecuteTime": {
     "end_time": "2022-08-23T21:15:49.776166Z",
     "start_time": "2022-08-23T21:15:49.762576Z"
    }
   },
   "outputs": [
    {
     "name": "stdout",
     "output_type": "stream",
     "text": [
      "Ahmed Mohamed Zaki\n",
      "Ahmed Mohamed Zaki\n",
      "Ahmed Mohamed Zaki\n"
     ]
    }
   ],
   "source": [
    "# 4.Create your own library and use it.\n",
    "import myLibirary as MyLib \n",
    "MyLib.PrintMyName(3)"
   ]
  },
  {
   "cell_type": "code",
   "execution_count": 4,
   "id": "d9e481b5",
   "metadata": {
    "ExecuteTime": {
     "end_time": "2022-08-23T21:15:56.200284Z",
     "start_time": "2022-08-23T21:15:49.777159Z"
    }
   },
   "outputs": [
    {
     "name": "stdout",
     "output_type": "stream",
     "text": [
      "4\n",
      "3\n",
      "2\n",
      "1\n",
      "0\n"
     ]
    }
   ],
   "source": [
    "# 5. Create a function receives stack elements as inputs from user while not equal to zero.\n",
    "from queue import LifoQueue as Stack\n",
    "\n",
    "stack = Stack()\n",
    "while True:\n",
    "    user_input = input()\n",
    "    if user_input != '0':\n",
    "        stack.put(user_input)\n",
    "    else:\n",
    "        break    \n"
   ]
  },
  {
   "cell_type": "code",
   "execution_count": 5,
   "id": "532ffed6",
   "metadata": {
    "ExecuteTime": {
     "end_time": "2022-08-23T21:15:56.215361Z",
     "start_time": "2022-08-23T21:15:56.200985Z"
    }
   },
   "outputs": [],
   "source": [
    "# 6. Implement Unordered/Multi set in Python.\n",
    "\n",
    "## Set (Remove Duplecated and Sort Numbers )\n",
    "def SET(A):\n",
    "#Remove Duplecated Numbers    \n",
    "    output=[]\n",
    "    for i in A:\n",
    "        if i not in output:\n",
    "            output.append(i)\n",
    "\n",
    "    #Sort Numbers \n",
    "    new=[]\n",
    "    while output :      \n",
    "        minimum =output[0]\n",
    "        for i in output:\n",
    "            if minimum>i:\n",
    "                minimum=i  \n",
    "\n",
    "        new.append(minimum)\n",
    "        output.remove(minimum)\n",
    "\n",
    "    print ('Set is ' , end=\"\" )\n",
    "    return new\n",
    "    \n",
    "## Unordered Set (Remove Duplecated only )\n",
    "\n",
    "\n",
    "def Unordered_SET(A):\n",
    "    Unordered_output=[]\n",
    "    for i in A:\n",
    "        if i not in Unordered_output:\n",
    "            Unordered_output.append(i)\n",
    "    print ('Unordered Set is ' , end=\"\" )        \n",
    "    return Unordered_output\n",
    "  \n",
    "## Multi Set (Sort only)\n",
    "\n",
    "\n",
    "def Multi_Set(A):    \n",
    "    new=[]\n",
    "    while A :      \n",
    "        minimum =A[0]\n",
    "        for i in A:\n",
    "            if minimum>i:\n",
    "                minimum=i  \n",
    "\n",
    "        new.append(minimum)\n",
    "        A.remove(minimum)\n",
    "    print ('MultiSet is ' , end=\"\" ) \n",
    "    return new\n",
    "\n",
    "            \n"
   ]
  },
  {
   "cell_type": "code",
   "execution_count": 6,
   "id": "54ee45d5",
   "metadata": {
    "ExecuteTime": {
     "end_time": "2022-08-23T21:15:56.231058Z",
     "start_time": "2022-08-23T21:15:56.216076Z"
    }
   },
   "outputs": [
    {
     "name": "stdout",
     "output_type": "stream",
     "text": [
      "Set is [1, 2, 3, 4, 5, 6, 7, 9]\n",
      "Unordered Set is [7, 6, 5, 4, 3, 9, 2, 1]\n",
      "MultiSet is [1, 2, 2, 2, 3, 4, 5, 5, 5, 6, 7, 9]\n"
     ]
    }
   ],
   "source": [
    "A=[7,6,5,5,5,4,3,9,2,2,2,1]\n",
    "\n",
    "print(SET(A))             ## Set (Remove Duplecated and Sort Numbers )\n",
    "print(Unordered_SET(A) )  ## Unordered Set (Remove Duplecated only )\n",
    "print(Multi_Set(A))       ## Multi Set (Sort only)"
   ]
  }
 ],
 "metadata": {
  "kernelspec": {
   "display_name": "Python 3",
   "language": "python",
   "name": "python3"
  },
  "language_info": {
   "codemirror_mode": {
    "name": "ipython",
    "version": 3
   },
   "file_extension": ".py",
   "mimetype": "text/x-python",
   "name": "python",
   "nbconvert_exporter": "python",
   "pygments_lexer": "ipython3",
   "version": "3.8.12"
  }
 },
 "nbformat": 4,
 "nbformat_minor": 5
}
