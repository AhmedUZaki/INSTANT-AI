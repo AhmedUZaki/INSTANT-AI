{
 "cells": [
  {
   "cell_type": "markdown",
   "id": "7753d916",
   "metadata": {},
   "source": [
    "# Session 11 Notebook\n",
    "\n",
    "## Regular expression (regex)"
   ]
  },
  {
   "cell_type": "markdown",
   "id": "eda19d22",
   "metadata": {},
   "source": [
    "---\n",
    "### AI:\n",
    "- 80% Data\n",
    "- 20% Model (Actual AI)\n",
    "    \n",
    "### 80% Data:\n",
    "- 90% Data Cleaning, Filtering\n",
    "- 10% Apply Data Analysis Algorithm (i.e. Understand Data)\n",
    "---"
   ]
  },
  {
   "cell_type": "markdown",
   "id": "4b5185a4",
   "metadata": {},
   "source": [
    "### Why we clean and filter data?\n",
    "#### These are different types of how can we write the data (e.g. date), So we have to handel these data with Data Cleaning, Data Filtering\n",
    "\n",
    "- e.g.:\n",
    "    - 31/3/1998\n",
    "    - 31/03/1998\n",
    "    - 03/31/1998\n",
    "    - 31.3.1998\n",
    "    - 3131998\n",
    "    - 31st Mar. 1998\n",
    "    \n",
    "---"
   ]
  },
  {
   "cell_type": "markdown",
   "id": "f3ca94f9",
   "metadata": {},
   "source": [
    "---\n",
    "\n",
    "\n",
    "\n",
    "\n",
    "---"
   ]
  },
  {
   "cell_type": "code",
   "execution_count": null,
   "id": "dda94fa7",
   "metadata": {},
   "outputs": [],
   "source": []
  },
  {
   "cell_type": "code",
   "execution_count": null,
   "id": "cfc5ecfd",
   "metadata": {},
   "outputs": [],
   "source": []
  },
  {
   "cell_type": "code",
   "execution_count": null,
   "id": "de9b66c6",
   "metadata": {},
   "outputs": [],
   "source": []
  },
  {
   "cell_type": "code",
   "execution_count": null,
   "id": "97f64922",
   "metadata": {},
   "outputs": [],
   "source": []
  },
  {
   "cell_type": "code",
   "execution_count": null,
   "id": "f6301c4c",
   "metadata": {},
   "outputs": [],
   "source": []
  },
  {
   "cell_type": "code",
   "execution_count": null,
   "id": "8abbdda1",
   "metadata": {},
   "outputs": [],
   "source": []
  }
 ],
 "metadata": {
  "kernelspec": {
   "display_name": "Python 3",
   "language": "python",
   "name": "python3"
  },
  "language_info": {
   "codemirror_mode": {
    "name": "ipython",
    "version": 3
   },
   "file_extension": ".py",
   "mimetype": "text/x-python",
   "name": "python",
   "nbconvert_exporter": "python",
   "pygments_lexer": "ipython3",
   "version": "3.8.12"
  }
 },
 "nbformat": 4,
 "nbformat_minor": 5
}
