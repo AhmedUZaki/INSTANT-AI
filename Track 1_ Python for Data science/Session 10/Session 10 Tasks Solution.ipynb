{
 "cells": [
  {
   "cell_type": "markdown",
   "id": "de243186",
   "metadata": {},
   "source": [
    "# Session 10 Tasks solution"
   ]
  },
  {
   "cell_type": "markdown",
   "id": "e3cc657f",
   "metadata": {},
   "source": [
    "## Tasks:\n",
    "\n",
    "1. What is ternary search?\n",
    "2. Crash courses about **UML diagrams**\n",
    "3. Learn clean code:\n",
    "    -  Turn Spaghetti code into Clean code.\n",
    "    -  [Clean Code - Uncle Bob](https://www.youtube.com/watch?v=7EmboKQH8lM&list=PLmmYSbUCWJ4x1GO839azG_BBw8rkh-zOj).\n",
    "4. What is the most common design patterns?\n",
    "5. Agile vs DevOps.\n",
    "6. What are used tools in DevOps?"
   ]
  },
  {
   "cell_type": "markdown",
   "id": "e48626c0",
   "metadata": {},
   "source": [
    "### 1. What is ternary search?\n",
    "\n",
    "Ternary search is a decrease(by constant) and conquer algorithm that can be used to find an element in an array. It is similar to binary search where we divide the array into two parts but in this algorithm, we divide the given array into three parts and determine which has the key (searched element). We can divide the array into three parts by taking mid1 and mid2 which can be calculated as shown below. Initially, l and r will be equal to 0 and n-1 respectively, where n is the length of the array. \n",
    "\n",
    "It is same as the binary search. The only difference is that, it reduces the time complexity a bit more. Its time complexity is O(log n base 3) and that of binary search is O(log n base 2).\n",
    "```\n",
    "mid1 = l + (r-l)/3 \n",
    "mid2 = r – (r-l)/3 \n",
    "```\n",
    "Note: Array needs to be sorted to perform ternary search on it.\n",
    "\n",
    "Steps to perform Ternary Search: \n",
    "\n",
    "1. First, we compare the key with the element at mid1. If found equal, we return mid1.\n",
    "1. If not, then we compare the key with the element at mid2. If found equal, we return mid2.\n",
    "1. If not, then we check whether the key is less than the element at mid1. If yes, then recur to the first part.\n",
    "1. If not, then we check whether the key is greater than the element at mid2. If yes, then recur to the third part.\n",
    "1. If not, then we recur to the second (middle) part.\n",
    "\n",
    "<img src='https://media.geeksforgeeks.org/wp-content/uploads/ternaryS-3.png' width=\"600px\"/>\n",
    "\n",
    "[Source](https://www.geeksforgeeks.org/ternary-search/)"
   ]
  },
  {
   "cell_type": "markdown",
   "id": "029059ad",
   "metadata": {
    "ExecuteTime": {
     "end_time": "2022-08-28T16:31:29.534488Z",
     "start_time": "2022-08-28T16:31:29.512544Z"
    }
   },
   "source": [
    "### 4. What is the most common design patterns?\n",
    "\n",
    "Design patterns are design level solutions for recurring problems that we software engineers come across often. It’s not code - I repeat, ❌CODE. It is like a description on how to tackle these problems and design a solution.\n",
    "\n",
    "Using these patterns is considered good practice, as the design of the solution is quite tried and tested, resulting in higher readability of the final code. Design patterns are quite often created for and used by OOP Languages, like Java, in which most of the examples from here on will be written.\n",
    "\n",
    "Types of design patterns\n",
    "There are about 26 Patterns currently discovered (I hardly think I will do them all…).\n",
    "\n",
    "#### These 26 can be classified into 3 types:\n",
    "\n",
    "1. Creational: These patterns are designed for class instantiation. They can be either class-creation patterns or object-creational patterns.\n",
    "\n",
    "2. Structural: These patterns are designed with regard to a class's structure and composition. The main goal of most of these patterns is to increase the functionality of the class(es) involved, without changing much of its composition.\n",
    "\n",
    "3. Behavioral: These patterns are designed depending on how one class communicates with others.\n",
    "\n",
    "[Source](https://www.freecodecamp.org/news/the-basic-design-patterns-all-developers-need-to-know/)"
   ]
  },
  {
   "cell_type": "markdown",
   "id": "30ca4723",
   "metadata": {},
   "source": [
    "### 5. Agile vs DevOps.\n",
    "\n",
    "  - **Agile Model**\n",
    "  \n",
    "    <p align=\"center\">\n",
    "<img src='https://kruschecompany.com/wp-content/uploads/2021/06/AdobeStock_255546088-1280x595.png' width=\"450\"/> </p>\n",
    "    \n",
    "    - They do this by breaking up the traditionally long delivery cycle (typical of the legacy “waterfall methods”) into shorter periods, called sprints or iterations.\n",
    "    - The iteration provides the cadence for delivering a working product to the customer, getting feedback and making changes based on the feedback.\n",
    "  \n",
    "  - **DevOps Model**\n",
    "  \n",
    "    <p align=\"center\">\n",
    "<img src='https://www.hashroot.com/assets/img/services/devops/devops.png' width=\"300\"/> </p>\n",
    "  \n",
    "    - DevOps is about removing the barriers between traditionally siloed teams, development and operations. \n",
    "    - Under a DevOps model, development and operations teams work together across the entire software application life cycle, from development and test through deployment to operations.\n",
    "  "
   ]
  },
  {
   "cell_type": "markdown",
   "id": "a31122ed",
   "metadata": {},
   "source": []
  },
  {
   "cell_type": "code",
   "execution_count": null,
   "id": "bc109ce0",
   "metadata": {},
   "outputs": [],
   "source": []
  },
  {
   "cell_type": "code",
   "execution_count": null,
   "id": "e6d8405e",
   "metadata": {},
   "outputs": [],
   "source": []
  },
  {
   "cell_type": "code",
   "execution_count": null,
   "id": "57b9c712",
   "metadata": {},
   "outputs": [],
   "source": []
  },
  {
   "cell_type": "code",
   "execution_count": null,
   "id": "f234540c",
   "metadata": {},
   "outputs": [],
   "source": []
  },
  {
   "cell_type": "code",
   "execution_count": null,
   "id": "38822bd1",
   "metadata": {},
   "outputs": [],
   "source": []
  },
  {
   "cell_type": "code",
   "execution_count": null,
   "id": "b1c65b31",
   "metadata": {},
   "outputs": [],
   "source": []
  },
  {
   "cell_type": "code",
   "execution_count": null,
   "id": "3b2235c0",
   "metadata": {},
   "outputs": [],
   "source": []
  },
  {
   "cell_type": "code",
   "execution_count": null,
   "id": "c14a4be4",
   "metadata": {},
   "outputs": [],
   "source": []
  },
  {
   "cell_type": "code",
   "execution_count": null,
   "id": "eb70dc2e",
   "metadata": {},
   "outputs": [],
   "source": []
  },
  {
   "cell_type": "code",
   "execution_count": null,
   "id": "230348c4",
   "metadata": {},
   "outputs": [],
   "source": []
  },
  {
   "cell_type": "code",
   "execution_count": null,
   "id": "28abc0aa",
   "metadata": {},
   "outputs": [],
   "source": []
  },
  {
   "cell_type": "code",
   "execution_count": null,
   "id": "b2586b1c",
   "metadata": {},
   "outputs": [],
   "source": []
  },
  {
   "cell_type": "code",
   "execution_count": null,
   "id": "bbb4bae5",
   "metadata": {},
   "outputs": [],
   "source": []
  },
  {
   "cell_type": "code",
   "execution_count": null,
   "id": "592e29f6",
   "metadata": {},
   "outputs": [],
   "source": []
  }
 ],
 "metadata": {
  "kernelspec": {
   "display_name": "Python 3",
   "language": "python",
   "name": "python3"
  },
  "language_info": {
   "codemirror_mode": {
    "name": "ipython",
    "version": 3
   },
   "file_extension": ".py",
   "mimetype": "text/x-python",
   "name": "python",
   "nbconvert_exporter": "python",
   "pygments_lexer": "ipython3",
   "version": "3.8.12"
  }
 },
 "nbformat": 4,
 "nbformat_minor": 5
}
