{
 "cells": [
  {
   "cell_type": "markdown",
   "id": "de243186",
   "metadata": {},
   "source": [
    "# Session 10 Tasks solution"
   ]
  },
  {
   "cell_type": "markdown",
   "id": "e3cc657f",
   "metadata": {},
   "source": [
    "## Tasks:\n",
    "\n",
    "1. What is ternary search?\n",
    "2. Crash courses about **UML diagrams**.\n",
    "3. Learn clean code:\n",
    "    -  Turn Spaghetti code into Clean code.\n",
    "    -  [Clean Code - Uncle Bob](https://www.youtube.com/watch?v=7EmboKQH8lM&list=PLmmYSbUCWJ4x1GO839azG_BBw8rkh-zOj).\n",
    "4. What is the most common design patterns?\n",
    "5. Agile vs DevOps.\n",
    "6. What are used tools in DevOps?\n",
    "---"
   ]
  },
  {
   "cell_type": "markdown",
   "id": "e48626c0",
   "metadata": {},
   "source": [
    "### 1. What is ternary search?\n",
    "\n",
    "- Ternary search is a decrease(by constant) and conquer algorithm that can be used to find an element in an array.\n",
    "- It is similar to binary search where we divide the array into two parts but in this algorithm.\n",
    "- We divide the given array into three parts.\n",
    "<img src='https://media.geeksforgeeks.org/wp-content/uploads/ternaryS-3.png' width=\"600px\"/>\n",
    "\n",
    "#### Sourses:\n",
    "[Source](https://www.geeksforgeeks.org/ternary-search/)\n",
    "\n",
    "---"
   ]
  },
  {
   "cell_type": "markdown",
   "id": "319dfcb1",
   "metadata": {},
   "source": [
    "### 2. Crash courses about UML diagrams\n",
    "\n",
    "#### Sourses:\n",
    "\n",
    "[![IMAGE ALT TEXT HERE](https://img.youtube.com/vi/WnMQ8HlmeXc/0.jpg)](https://www.youtube.com/watch?v=WnMQ8HlmeXc)\n",
    "\n",
    "---\n"
   ]
  },
  {
   "cell_type": "markdown",
   "id": "95d1bb11",
   "metadata": {},
   "source": [
    "### 3. Learn clean code:\n",
    "   - Turn Spaghetti code into Clean code.\n",
    "   -  [Clean Code - Uncle Bob](https://www.youtube.com/watch?v=7EmboKQH8lM&list=PLmmYSbUCWJ4x1GO839azG_BBw8rkh-zOj).\n",
    "   \n",
    "   \n",
    "---   "
   ]
  },
  {
   "cell_type": "markdown",
   "id": "029059ad",
   "metadata": {
    "ExecuteTime": {
     "end_time": "2022-08-28T16:31:29.534488Z",
     "start_time": "2022-08-28T16:31:29.512544Z"
    }
   },
   "source": [
    "### 4. What is the most common design patterns?\n",
    "\n",
    "- Design patterns are design level solutions for recurring problems that we software engineers come across often. It’s not code.\n",
    "\n",
    "- It is like a description on how to tackle these problems and design a solution.\n",
    "\n",
    "### Types of design patterns\n",
    "\n",
    "#### Creational design patterns\n",
    "- Singleton\n",
    "- Observer\n",
    "- Factory\n",
    "- Builder, Prototype, Multiton and more..\n",
    "\n",
    "#### Structural design patterns\n",
    "- Decorator\n",
    "- Adapter, Proxy, Composite, Bridge and more..\n",
    "\n",
    "#### Behavioral design patterns\n",
    "- Blackboard, Command, Iterator, State and more..\n",
    "\n",
    "#### Sourses:\n",
    "- [Source 1](https://www.freecodecamp.org/news/the-basic-design-patterns-all-developers-need-to-know/)\n",
    "- [Source 2](https://stackoverflow.com/questions/1247803/design-patterns-that-every-developer-must-know)\n",
    "\n",
    "---"
   ]
  },
  {
   "cell_type": "markdown",
   "id": "30ca4723",
   "metadata": {},
   "source": [
    "### 5. Agile vs DevOps.\n",
    "\n",
    "  - **Agile Model**\n",
    "  \n",
    "    <p align=\"center\">\n",
    "<img src='https://kruschecompany.com/wp-content/uploads/2021/06/AdobeStock_255546088-1280x595.png' width=\"450\"/> </p>\n",
    "    \n",
    "    - They do this by breaking up the traditionally long delivery cycle (typical of the legacy “waterfall methods”) into shorter periods, called sprints or iterations.\n",
    "    - The iteration provides the cadence for delivering a working product to the customer, getting feedback and making changes based on the feedback.\n",
    "  \n",
    "  \n",
    "  \n",
    "  - **DevOps Model**\n",
    "  \n",
    "    <p align=\"center\">\n",
    "<img src='https://www.hashroot.com/assets/img/services/devops/devops.png' width=\"300\"/> </p>\n",
    "  \n",
    "    - DevOps is about removing the barriers between traditionally siloed teams, development and operations. \n",
    "    - Under a DevOps model, development and operations teams work together across the entire software application life cycle, from development and test through deployment to operations.\n",
    "  \n",
    "  \n",
    "  ---"
   ]
  },
  {
   "cell_type": "markdown",
   "id": "a31122ed",
   "metadata": {},
   "source": [
    "### 6. What are used tools in DevOps?\n",
    "\n",
    "<p align=\"center\">\n",
    "<img src='https://www.provartesting.com/wp-content/webp-express/webp-images/doc-root/wp-content/uploads/2020/09/DevOps-Diagram-with-Text-7.png.webp' width=\"800\"/>\n",
    "\n",
    "#### Sourses:\n",
    "[Source 1](https://www.provartesting.com/documentation/devops/version-control/version-control-and-devops/)\n",
    "    \n",
    "---"
   ]
  }
 ],
 "metadata": {
  "kernelspec": {
   "display_name": "Python 3",
   "language": "python",
   "name": "python3"
  },
  "language_info": {
   "codemirror_mode": {
    "name": "ipython",
    "version": 3
   },
   "file_extension": ".py",
   "mimetype": "text/x-python",
   "name": "python",
   "nbconvert_exporter": "python",
   "pygments_lexer": "ipython3",
   "version": "3.8.12"
  }
 },
 "nbformat": 4,
 "nbformat_minor": 5
}
