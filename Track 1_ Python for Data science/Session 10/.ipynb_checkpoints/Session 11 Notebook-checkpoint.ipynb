{
 "cells": [
  {
   "cell_type": "markdown",
   "id": "abbf9d14",
   "metadata": {},
   "source": [
    "# Session 11 Notebook\n",
    "\n",
    "## Regular expression (regex)"
   ]
  },
  {
   "cell_type": "markdown",
   "id": "16271645",
   "metadata": {},
   "source": [
    "---\n",
    "### AI:\n",
    "- 80% Data\n",
    "- 20% Model (Actual AI)\n",
    "    \n",
    "### 80% Data:\n",
    "- 90% Data Cleaning, Filtering\n",
    "- 10% Apply Data Analysis Algorithm (i.e. Understand Data)\n",
    "---"
   ]
  },
  {
   "cell_type": "markdown",
   "id": "5f0d1c4c",
   "metadata": {},
   "source": [
    "### Why we clean and filter data?\n",
    "#### These are different types of how can we write the data (e.g. date), So we have to handel these data with Data Cleaning, Data Filtering\n",
    "\n",
    "- e.g.:\n",
    "    - 31/3/1998\n",
    "    - 31/03/1998\n",
    "    - 03/31/1998\n",
    "    - 31.3.1998\n",
    "    - 3131998\n",
    "    - 31st Mar. 1998\n",
    "    \n",
    "---"
   ]
  },
  {
   "cell_type": "markdown",
   "id": "f331c6ba",
   "metadata": {},
   "source": [
    "---\n",
    "\n",
    "\n",
    "\n",
    "\n",
    "---"
   ]
  },
  {
   "cell_type": "markdown",
   "id": "34e4544d",
   "metadata": {},
   "source": [
    "---\n",
    "\n",
    "\n",
    "\n",
    "\n",
    "---"
   ]
  },
  {
   "cell_type": "markdown",
   "id": "d5472c29",
   "metadata": {},
   "source": [
    "---\n",
    "\n",
    "\n",
    "\n",
    "\n",
    "---"
   ]
  },
  {
   "cell_type": "markdown",
   "id": "d9475538",
   "metadata": {},
   "source": [
    "---\n",
    "\n",
    "\n",
    "\n",
    "\n",
    "---"
   ]
  },
  {
   "cell_type": "code",
   "execution_count": null,
   "id": "2579021c",
   "metadata": {},
   "outputs": [],
   "source": []
  },
  {
   "cell_type": "code",
   "execution_count": null,
   "id": "8e284437",
   "metadata": {},
   "outputs": [],
   "source": []
  },
  {
   "cell_type": "code",
   "execution_count": null,
   "id": "a7a21873",
   "metadata": {},
   "outputs": [],
   "source": []
  },
  {
   "cell_type": "code",
   "execution_count": null,
   "id": "7b278b35",
   "metadata": {},
   "outputs": [],
   "source": []
  },
  {
   "cell_type": "code",
   "execution_count": null,
   "id": "dc9f6612",
   "metadata": {},
   "outputs": [],
   "source": []
  },
  {
   "cell_type": "code",
   "execution_count": null,
   "id": "f5a8b639",
   "metadata": {},
   "outputs": [],
   "source": []
  }
 ],
 "metadata": {
  "kernelspec": {
   "display_name": "Python 3",
   "language": "python",
   "name": "python3"
  },
  "language_info": {
   "codemirror_mode": {
    "name": "ipython",
    "version": 3
   },
   "file_extension": ".py",
   "mimetype": "text/x-python",
   "name": "python",
   "nbconvert_exporter": "python",
   "pygments_lexer": "ipython3",
   "version": "3.8.12"
  }
 },
 "nbformat": 4,
 "nbformat_minor": 5
}
