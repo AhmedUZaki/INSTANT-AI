{
 "cells": [
  {
   "cell_type": "markdown",
   "id": "0b438bb4",
   "metadata": {},
   "source": [
    "## Mini Project 1: [“Online Library Management System”]"
   ]
  },
  {
   "cell_type": "markdown",
   "id": "10d5b397",
   "metadata": {},
   "source": [
    "### Statement:-\n",
    "The task is to create an **“Online Library Management System.”**\n",
    "\n",
    "For this, you have to create a library class that includes the following methods:\n",
    "\n",
    "- **Displaybook()**: To display the available books\n",
    "- **Addbook(**): To add a book to the library\n",
    "- **Lendbook()**: To lend a book to a user\n",
    "- **Returnbook()**: To return the book to the library."
   ]
  },
  {
   "cell_type": "markdown",
   "id": "1a0afd6d",
   "metadata": {},
   "source": [
    "As you have created a library class, \n",
    "\n",
    "now you will create an object and pass the following parameters in the constructor.\n",
    "**``HarryLibrary=Library(listofbooks, library_name)``**\n",
    "\n",
    "After that, create a main function and run an infinite while loop that asks the users for their input whether they want to display, lend, add or return a book.\n",
    "\n",
    "#### Optional:-\n",
    "Maintain a dictionary for the users who own a book. Dictionary should take book name as a key and name of the person as a value. Whenever you lend a book to a user, you should maintain a dictionary."
   ]
  },
  {
   "cell_type": "code",
   "execution_count": 12,
   "id": "427ca688",
   "metadata": {
    "ExecuteTime": {
     "end_time": "2022-08-26T15:42:13.771822Z",
     "start_time": "2022-08-26T15:42:13.751875Z"
    }
   },
   "outputs": [],
   "source": [
    "class Library ():\n",
    "\n",
    "    def __init__(self):\n",
    "        self.listof_lendbooks=[]\n",
    "        self.listofbooks = []\n",
    "        while True:\n",
    "            book = input(\"Please enter books name, for stop entering type 'nomore': \")        \n",
    "            \n",
    "            if book in self.listofbooks :\n",
    "                print('This book is already in Library, please enter different book: ')\n",
    "                \n",
    "            else:    \n",
    "                self.listofbooks.append(book)\n",
    "            self.listofbooks=list(set(self.listofbooks))\n",
    "            \n",
    "            if book == '0':\n",
    "                self.library_name = input(\"Please enter library name: \")\n",
    "                self.listofbooks.remove('0')\n",
    "                break\n",
    "                \n",
    "                \n",
    "    def Displaybook(self):\n",
    "        print(self.listofbooks) \n",
    "        \n",
    "        \n",
    "    def Addbook(self):\n",
    "        \n",
    "        while True:           \n",
    "            addbook=input(\"Please input new books name, for stop entering type 'nomore': \")\n",
    "            \n",
    "            if addbook in self.listofbooks :\n",
    "                print('This book is already in Library, please enter different book: ')\n",
    "                \n",
    "            else:    \n",
    "                self.listofbooks.append(addbook)\n",
    "                self.listofbooks=list(set(self.listofbooks))\n",
    "                \n",
    "            if addbook == '0':\n",
    "                self.listofbooks.remove('0')\n",
    "                break   \n",
    "                \n",
    "       \n",
    "     \n",
    "    def Lendbook(self):      \n",
    "               \n",
    "        while True:\n",
    "            lendbook=input(\"Please enter your desired book, for stop entering type 'nomore': \")\n",
    "            if lendbook in self.listofbooks:\n",
    "                self.listofbooks.remove(lendbook)\n",
    "                self.listof_lendbooks.append(lendbook)\n",
    "                \n",
    "            elif lendbook not in self.listofbooks and lendbook != '0' :\n",
    "                print(\"This book isn't avelabile now\")    \n",
    "                \n",
    "            elif lendbook == '0':\n",
    "                break                   "
   ]
  },
  {
   "cell_type": "code",
   "execution_count": 13,
   "id": "d73f39d0",
   "metadata": {
    "ExecuteTime": {
     "end_time": "2022-08-26T15:42:19.371510Z",
     "start_time": "2022-08-26T15:42:14.662096Z"
    },
    "scrolled": false
   },
   "outputs": [
    {
     "name": "stdout",
     "output_type": "stream",
     "text": [
      "Please enter books name, for stop entering type 'nomore' a\n",
      "Please enter books name, for stop entering type 'nomore' s\n",
      "Please enter books name, for stop entering type 'nomore' d\n",
      "Please enter books name, for stop entering type 'nomore' f\n",
      "Please enter books name, for stop entering type 'nomore' 0\n",
      "Please enter library name: sa\n"
     ]
    }
   ],
   "source": [
    "y=Library()"
   ]
  },
  {
   "cell_type": "code",
   "execution_count": 14,
   "id": "477f9754",
   "metadata": {
    "ExecuteTime": {
     "end_time": "2022-08-26T15:42:20.774932Z",
     "start_time": "2022-08-26T15:42:20.765957Z"
    }
   },
   "outputs": [
    {
     "data": {
      "text/plain": [
       "['d', 'a', 'f', 's']"
      ]
     },
     "execution_count": 14,
     "metadata": {},
     "output_type": "execute_result"
    }
   ],
   "source": [
    "y.listofbooks"
   ]
  },
  {
   "cell_type": "code",
   "execution_count": 15,
   "id": "8ed6ab97",
   "metadata": {
    "ExecuteTime": {
     "end_time": "2022-08-26T15:42:25.946463Z",
     "start_time": "2022-08-26T15:42:21.877352Z"
    },
    "scrolled": true
   },
   "outputs": [
    {
     "name": "stdout",
     "output_type": "stream",
     "text": [
      "Please input new books name, for stop entering type 'nomore' q\n",
      "Please input new books name, for stop entering type 'nomore' w\n",
      "Please input new books name, for stop entering type 'nomore' e\n",
      "Please input new books name, for stop entering type 'nomore' r0\n",
      "Please input new books name, for stop entering type 'nomore' 0\n"
     ]
    }
   ],
   "source": [
    "y.Addbook()"
   ]
  },
  {
   "cell_type": "code",
   "execution_count": 16,
   "id": "a1f45c65",
   "metadata": {
    "ExecuteTime": {
     "end_time": "2022-08-26T15:42:27.627965Z",
     "start_time": "2022-08-26T15:42:27.623975Z"
    }
   },
   "outputs": [
    {
     "data": {
      "text/plain": [
       "['f', 'r0', 'q', 'd', 'a', 'e', 'w', 's']"
      ]
     },
     "execution_count": 16,
     "metadata": {},
     "output_type": "execute_result"
    }
   ],
   "source": [
    "y.listofbooks"
   ]
  },
  {
   "cell_type": "code",
   "execution_count": 17,
   "id": "e0349234",
   "metadata": {
    "ExecuteTime": {
     "end_time": "2022-08-26T15:42:34.708513Z",
     "start_time": "2022-08-26T15:42:28.343050Z"
    }
   },
   "outputs": [
    {
     "name": "stdout",
     "output_type": "stream",
     "text": [
      "Please enter your desired book, for stop entering type 'nomore' q\n",
      "Please enter your desired book, for stop entering type 'nomore' w\n",
      "Please enter your desired book, for stop entering type 'nomore' e\n",
      "Please enter your desired book, for stop entering type 'nomore' r\n",
      "This book isn't avelabile now\n",
      "Please enter your desired book, for stop entering type 'nomore' t\n",
      "This book isn't avelabile now\n",
      "Please enter your desired book, for stop entering type 'nomore' m\n",
      "This book isn't avelabile now\n",
      "Please enter your desired book, for stop entering type 'nomore' 0\n"
     ]
    }
   ],
   "source": [
    "y.Lendbook()"
   ]
  },
  {
   "cell_type": "code",
   "execution_count": 18,
   "id": "061dac3a",
   "metadata": {
    "ExecuteTime": {
     "end_time": "2022-08-26T15:42:37.120232Z",
     "start_time": "2022-08-26T15:42:37.110258Z"
    }
   },
   "outputs": [
    {
     "data": {
      "text/plain": [
       "['f', 'r0', 'd', 'a', 's']"
      ]
     },
     "execution_count": 18,
     "metadata": {},
     "output_type": "execute_result"
    }
   ],
   "source": [
    "y.listofbooks"
   ]
  },
  {
   "cell_type": "code",
   "execution_count": 19,
   "id": "2ef25ac1",
   "metadata": {
    "ExecuteTime": {
     "end_time": "2022-08-26T15:42:38.900128Z",
     "start_time": "2022-08-26T15:42:38.886444Z"
    },
    "scrolled": true
   },
   "outputs": [
    {
     "data": {
      "text/plain": [
       "['q', 'w', 'e']"
      ]
     },
     "execution_count": 19,
     "metadata": {},
     "output_type": "execute_result"
    }
   ],
   "source": [
    "y.listof_lendbooks"
   ]
  },
  {
   "cell_type": "code",
   "execution_count": null,
   "id": "261ca073",
   "metadata": {},
   "outputs": [],
   "source": []
  }
 ],
 "metadata": {
  "kernelspec": {
   "display_name": "Python 3",
   "language": "python",
   "name": "python3"
  },
  "language_info": {
   "codemirror_mode": {
    "name": "ipython",
    "version": 3
   },
   "file_extension": ".py",
   "mimetype": "text/x-python",
   "name": "python",
   "nbconvert_exporter": "python",
   "pygments_lexer": "ipython3",
   "version": "3.8.12"
  }
 },
 "nbformat": 4,
 "nbformat_minor": 5
}
