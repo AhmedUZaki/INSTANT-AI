{
 "cells": [
  {
   "cell_type": "markdown",
   "id": "0b438bb4",
   "metadata": {},
   "source": [
    "## Mini Project 1: [“Online Library Management System”]"
   ]
  },
  {
   "cell_type": "markdown",
   "id": "10d5b397",
   "metadata": {},
   "source": [
    "### Statement:-\n",
    "The task is to create an **“Online Library Management System.”**\n",
    "\n",
    "For this, you have to create a library class that includes the following methods:\n",
    "\n",
    "- **Displaybook()**: To display the available books\n",
    "- **Addbook(**): To add a book to the library\n",
    "- **Lendbook()**: To lend a book to a user\n",
    "- **Returnbook()**: To return the book to the library."
   ]
  },
  {
   "cell_type": "markdown",
   "id": "1a0afd6d",
   "metadata": {},
   "source": [
    "As you have created a library class, \n",
    "\n",
    "now you will create an object and pass the following parameters in the constructor.\n",
    "**``HarryLibrary=Library(listofbooks, library_name)``**\n",
    "\n",
    "After that, create a main function and run an infinite while loop that asks the users for their input whether they want to display, lend, add or return a book.\n",
    "\n",
    "#### Optional:-\n",
    "Maintain a dictionary for the users who own a book. Dictionary should take book name as a key and name of the person as a value. Whenever you lend a book to a user, you should maintain a dictionary."
   ]
  },
  {
   "cell_type": "code",
   "execution_count": 50,
   "id": "1e9396ef",
   "metadata": {
    "ExecuteTime": {
     "end_time": "2022-08-29T19:20:35.160018Z",
     "start_time": "2022-08-29T19:20:35.145088Z"
    }
   },
   "outputs": [],
   "source": [
    "class Library ():\n",
    "\n",
    "    def __init__(self,listbooks ,Libraryname ):\n",
    "        \n",
    "        self.listofbooks = listbooks     \n",
    "        self.name = Libraryname\n",
    "        self.listof_lendbooks=[]        \n",
    "                \n",
    "                \n",
    "    def Displaybook(self):\n",
    "        print(self.listofbooks) \n",
    "        \n",
    "        \n",
    "    def Addbook(self):\n",
    "        \n",
    "        while True:           \n",
    "            addbook=input(\"Please input new books name, for stop entering type 'nomore': \")\n",
    "            \n",
    "            if addbook in self.listofbooks :\n",
    "                print('This book is already in Library, please enter different book: ')\n",
    "                \n",
    "            else:    \n",
    "                self.listofbooks.append(addbook)\n",
    "                self.listofbooks=list(set(self.listofbooks))\n",
    "                \n",
    "            if addbook == '0':\n",
    "                self.listofbooks.remove('0')\n",
    "                break   \n",
    "                \n",
    "       \n",
    "     \n",
    "    def Lendbook(self):      \n",
    "               \n",
    "        while True:\n",
    "            lendbook=input(\"Please enter your desired book, for stop entering type 'nomore': \")\n",
    "            if lendbook in self.listofbooks:\n",
    "                self.listofbooks.remove(lendbook)\n",
    "                self.listof_lendbooks.append(lendbook)\n",
    "                \n",
    "            elif lendbook not in self.listofbooks and lendbook != '0' :\n",
    "                print(\"This book isn't avelabile now\")    \n",
    "                \n",
    "            elif lendbook == '0':\n",
    "                break    \n",
    "                \n",
    "    def Returnbook(self):\n",
    "        \n",
    "        while True:\n",
    "            Returnbook=input(\"Please enter book name to return , for stop entering type 'nomore': \")\n",
    "            if Returnbook in self.listof_lendbooks:\n",
    "                self.listof_lendbooks.remove(Returnbook)\n",
    "                self.listofbooks.append(Returnbook)\n",
    "                \n",
    "            elif Returnbook not in self.listof_lendbooks and Returnbook != '0' :\n",
    "                print(\"You don't have this book\")    \n",
    "                \n",
    "            elif Returnbook == '0':\n",
    "                break  \n",
    "        \n",
    "        "
   ]
  },
  {
   "cell_type": "code",
   "execution_count": 51,
   "id": "a354a77a",
   "metadata": {
    "ExecuteTime": {
     "end_time": "2022-08-29T19:20:36.549840Z",
     "start_time": "2022-08-29T19:20:36.542858Z"
    }
   },
   "outputs": [],
   "source": [
    "listofbooks = [\"Head First Statistics: A Brain-Friendly Guide\",\n",
    "\"Practical Statistics for Data Scientists\",\n",
    "\"Introduction to Probability\",\n",
    "\"Introduction to Machine Learning with Python\",\n",
    "\"Python Machine Learning By Example\",\n",
    "\"Big Data – A revolution\",\n",
    "\"Practical data science with R\",\n",
    "\"The data science handbook\"]\n",
    "\n",
    "\n",
    "library_name= \"Data science Library\" "
   ]
  },
  {
   "cell_type": "code",
   "execution_count": 53,
   "id": "c3268643",
   "metadata": {
    "ExecuteTime": {
     "end_time": "2022-08-29T19:20:51.607941Z",
     "start_time": "2022-08-29T19:20:51.599962Z"
    }
   },
   "outputs": [],
   "source": [
    "HarryLibrary=Library(listofbooks, library_name)"
   ]
  },
  {
   "cell_type": "code",
   "execution_count": 54,
   "id": "b7098c53",
   "metadata": {
    "ExecuteTime": {
     "end_time": "2022-08-29T19:20:52.854572Z",
     "start_time": "2022-08-29T19:20:52.843600Z"
    }
   },
   "outputs": [
    {
     "name": "stdout",
     "output_type": "stream",
     "text": [
      "['Head First Statistics: A Brain-Friendly Guide', 'Practical Statistics for Data Scientists', 'Introduction to Probability', 'Introduction to Machine Learning with Python', 'Python Machine Learning By Example', 'Big Data – A revolution', 'Practical data science with R', 'The data science handbook']\n"
     ]
    }
   ],
   "source": [
    "HarryLibrary.Displaybook()"
   ]
  },
  {
   "cell_type": "code",
   "execution_count": 55,
   "id": "b8ca77b1",
   "metadata": {
    "ExecuteTime": {
     "end_time": "2022-08-29T19:20:54.531681Z",
     "start_time": "2022-08-29T19:20:54.521708Z"
    }
   },
   "outputs": [
    {
     "data": {
      "text/plain": [
       "'Data science Library'"
      ]
     },
     "execution_count": 55,
     "metadata": {},
     "output_type": "execute_result"
    }
   ],
   "source": [
    "HarryLibrary.name"
   ]
  },
  {
   "cell_type": "code",
   "execution_count": 56,
   "id": "3e3923cc",
   "metadata": {
    "ExecuteTime": {
     "end_time": "2022-08-29T19:21:30.265937Z",
     "start_time": "2022-08-29T19:21:02.023961Z"
    }
   },
   "outputs": [
    {
     "name": "stdout",
     "output_type": "stream",
     "text": [
      "Please enter your desired book, for stop entering type 'nomore': 'Head First Statistics: A Brain-Friendly Guide'\n",
      "This book isn't avelabile now\n",
      "Please enter your desired book, for stop entering type 'nomore': Head First Statistics: A Brain-Friendly Guide\n",
      "Please enter your desired book, for stop entering type 'nomore': The data science handbook\n",
      "Please enter your desired book, for stop entering type 'nomore': 0\n"
     ]
    }
   ],
   "source": [
    "HarryLibrary.Lendbook()"
   ]
  },
  {
   "cell_type": "code",
   "execution_count": 57,
   "id": "e58fa71f",
   "metadata": {
    "ExecuteTime": {
     "end_time": "2022-08-29T19:21:55.833155Z",
     "start_time": "2022-08-29T19:21:43.847427Z"
    }
   },
   "outputs": [
    {
     "name": "stdout",
     "output_type": "stream",
     "text": [
      "Please enter book name to return , for stop entering type 'nomore': The data science handbook\n",
      "Please enter book name to return , for stop entering type 'nomore': 0\n"
     ]
    }
   ],
   "source": [
    "HarryLibrary.Returnbook()"
   ]
  },
  {
   "cell_type": "code",
   "execution_count": 59,
   "id": "1024555a",
   "metadata": {
    "ExecuteTime": {
     "end_time": "2022-08-29T19:22:05.390373Z",
     "start_time": "2022-08-29T19:22:05.385387Z"
    }
   },
   "outputs": [
    {
     "name": "stdout",
     "output_type": "stream",
     "text": [
      "['Practical Statistics for Data Scientists', 'Introduction to Probability', 'Introduction to Machine Learning with Python', 'Python Machine Learning By Example', 'Big Data – A revolution', 'Practical data science with R', 'The data science handbook']\n"
     ]
    }
   ],
   "source": [
    "HarryLibrary.Displaybook()"
   ]
  },
  {
   "cell_type": "code",
   "execution_count": 61,
   "id": "974310d5",
   "metadata": {
    "ExecuteTime": {
     "end_time": "2022-08-29T19:22:24.821098Z",
     "start_time": "2022-08-29T19:22:24.812121Z"
    }
   },
   "outputs": [
    {
     "data": {
      "text/plain": [
       "['Head First Statistics: A Brain-Friendly Guide']"
      ]
     },
     "execution_count": 61,
     "metadata": {},
     "output_type": "execute_result"
    }
   ],
   "source": [
    "HarryLibrary.listof_lendbooks"
   ]
  }
 ],
 "metadata": {
  "kernelspec": {
   "display_name": "Python 3",
   "language": "python",
   "name": "python3"
  },
  "language_info": {
   "codemirror_mode": {
    "name": "ipython",
    "version": 3
   },
   "file_extension": ".py",
   "mimetype": "text/x-python",
   "name": "python",
   "nbconvert_exporter": "python",
   "pygments_lexer": "ipython3",
   "version": "3.8.12"
  }
 },
 "nbformat": 4,
 "nbformat_minor": 5
}
