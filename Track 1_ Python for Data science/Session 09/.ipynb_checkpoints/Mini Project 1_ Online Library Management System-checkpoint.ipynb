{
 "cells": [
  {
   "cell_type": "markdown",
   "id": "0b438bb4",
   "metadata": {},
   "source": [
    "## Mini Project 1: [“Online Library Management System”]"
   ]
  },
  {
   "cell_type": "markdown",
   "id": "10d5b397",
   "metadata": {},
   "source": [
    "### Statement:-\n",
    "The task is to create an **“Online Library Management System.”**\n",
    "\n",
    "For this, you have to create a library class that includes the following methods:\n",
    "\n",
    "- **Displaybook()**: To display the available books\n",
    "- **Addbook(**): To add a book to the library\n",
    "- **Lendbook()**: To lend a book to a user\n",
    "- **Returnbook()**: To return the book to the library."
   ]
  },
  {
   "cell_type": "markdown",
   "id": "1a0afd6d",
   "metadata": {},
   "source": [
    "As you have created a library class, \n",
    "\n",
    "now you will create an object and pass the following parameters in the constructor.\n",
    "**``HarryLibrary=Library(listofbooks, library_name)``**\n",
    "\n",
    "After that, create a main function and run an infinite while loop that asks the users for their input whether they want to display, lend, add or return a book.\n",
    "\n",
    "#### Optional:-\n",
    "Maintain a dictionary for the users who own a book. Dictionary should take book name as a key and name of the person as a value. Whenever you lend a book to a user, you should maintain a dictionary."
   ]
  },
  {
   "cell_type": "code",
   "execution_count": 66,
   "id": "9ec7c7ea",
   "metadata": {
    "ExecuteTime": {
     "end_time": "2022-08-29T21:22:18.126433Z",
     "start_time": "2022-08-29T21:22:18.114466Z"
    }
   },
   "outputs": [],
   "source": [
    "class Library ():\n",
    "\n",
    "    def __init__(self,listbooks ,Libraryname ):\n",
    "        \n",
    "        self.listofbooks = listbooks     \n",
    "        self.name = Libraryname\n",
    "        self.listof_lendbooks=[]      \n",
    "        borrowers=dict()\n",
    "                \n",
    "                \n",
    "    def Displaybook(self):\n",
    "        print(self.listofbooks) \n",
    "        \n",
    "        \n",
    "    def Addbook(self):\n",
    "        \n",
    "        while True:           \n",
    "            addbook=input(\"Please input new books name, for stop entering type 'nomore': \")\n",
    "            \n",
    "            if addbook in self.listofbooks :\n",
    "                print('This book is already in Library, please enter different book: ')\n",
    "                \n",
    "            else:    \n",
    "                self.listofbooks.append(addbook)\n",
    "                self.listofbooks=list(set(self.listofbooks))\n",
    "                \n",
    "            if addbook == '0':\n",
    "                self.listofbooks.remove('0')\n",
    "                break   \n",
    "                \n",
    "       \n",
    "     \n",
    "    def Lendbook(self):      \n",
    "               \n",
    "        while True:\n",
    "            lendbook=input(\"Please enter your desired book, for stop entering type 'nomore': \")\n",
    "            if lendbook in self.listofbooks:\n",
    "                self.listofbooks.remove(lendbook)\n",
    "                self.listof_lendbooks.append(lendbook)\n",
    "                \n",
    "            elif lendbook not in self.listofbooks and lendbook != '0' :\n",
    "                print(\"This book isn't avelabile now\")    \n",
    "                \n",
    "            elif lendbook == '0':\n",
    "                break    \n",
    "                \n",
    "    def Returnbook(self):\n",
    "        \n",
    "        while True:\n",
    "            Returnbook=input(\"Please enter book name to return , for stop entering type 'nomore': \")\n",
    "            if Returnbook in self.listof_lendbooks:\n",
    "                self.listof_lendbooks.remove(Returnbook)\n",
    "                self.listofbooks.append(Returnbook)\n",
    "                \n",
    "            elif Returnbook not in self.listof_lendbooks and Returnbook != '0' :\n",
    "                print(\"You don't have this book\")    \n",
    "                \n",
    "            elif Returnbook == '0':\n",
    "                break  \n",
    "        \n",
    "        "
   ]
  },
  {
   "cell_type": "code",
   "execution_count": 62,
   "id": "26550ec1",
   "metadata": {
    "ExecuteTime": {
     "end_time": "2022-08-29T19:24:43.329521Z",
     "start_time": "2022-08-29T19:24:43.325531Z"
    }
   },
   "outputs": [],
   "source": [
    "listofbooks = [\"Head First Statistics: A Brain-Friendly Guide\",\n",
    "\"Practical Statistics for Data Scientists\",\n",
    "\"Introduction to Probability\",\n",
    "\"Practical data science with R\",\n",
    "\"The data science handbook\"]\n",
    "\n",
    "\n",
    "library_name= \"Data science Library\" "
   ]
  },
  {
   "cell_type": "code",
   "execution_count": 63,
   "id": "1af4557e",
   "metadata": {
    "ExecuteTime": {
     "end_time": "2022-08-29T19:24:51.044056Z",
     "start_time": "2022-08-29T19:24:51.041064Z"
    }
   },
   "outputs": [],
   "source": [
    "HarryLibrary=Library(listofbooks, library_name)"
   ]
  },
  {
   "cell_type": "code",
   "execution_count": 64,
   "id": "c2fc794b",
   "metadata": {
    "ExecuteTime": {
     "end_time": "2022-08-29T19:24:51.653116Z",
     "start_time": "2022-08-29T19:24:51.636161Z"
    }
   },
   "outputs": [
    {
     "name": "stdout",
     "output_type": "stream",
     "text": [
      "['Head First Statistics: A Brain-Friendly Guide', 'Practical Statistics for Data Scientists', 'Introduction to Probability', 'Practical data science with R', 'The data science handbook']\n"
     ]
    }
   ],
   "source": [
    "HarryLibrary.Displaybook()"
   ]
  },
  {
   "cell_type": "code",
   "execution_count": 55,
   "id": "4a2da1f0",
   "metadata": {
    "ExecuteTime": {
     "end_time": "2022-08-29T19:20:54.531681Z",
     "start_time": "2022-08-29T19:20:54.521708Z"
    }
   },
   "outputs": [
    {
     "data": {
      "text/plain": [
       "'Data science Library'"
      ]
     },
     "execution_count": 55,
     "metadata": {},
     "output_type": "execute_result"
    }
   ],
   "source": [
    "HarryLibrary.name"
   ]
  },
  {
   "cell_type": "code",
   "execution_count": 56,
   "id": "3f53d2e2",
   "metadata": {
    "ExecuteTime": {
     "end_time": "2022-08-29T19:21:30.265937Z",
     "start_time": "2022-08-29T19:21:02.023961Z"
    }
   },
   "outputs": [
    {
     "name": "stdout",
     "output_type": "stream",
     "text": [
      "Please enter your desired book, for stop entering type 'nomore': 'Head First Statistics: A Brain-Friendly Guide'\n",
      "This book isn't avelabile now\n",
      "Please enter your desired book, for stop entering type 'nomore': Head First Statistics: A Brain-Friendly Guide\n",
      "Please enter your desired book, for stop entering type 'nomore': The data science handbook\n",
      "Please enter your desired book, for stop entering type 'nomore': 0\n"
     ]
    }
   ],
   "source": [
    "HarryLibrary.Lendbook()"
   ]
  },
  {
   "cell_type": "code",
   "execution_count": 57,
   "id": "dcbe231e",
   "metadata": {
    "ExecuteTime": {
     "end_time": "2022-08-29T19:21:55.833155Z",
     "start_time": "2022-08-29T19:21:43.847427Z"
    }
   },
   "outputs": [
    {
     "name": "stdout",
     "output_type": "stream",
     "text": [
      "Please enter book name to return , for stop entering type 'nomore': The data science handbook\n",
      "Please enter book name to return , for stop entering type 'nomore': 0\n"
     ]
    }
   ],
   "source": [
    "HarryLibrary.Returnbook()"
   ]
  },
  {
   "cell_type": "code",
   "execution_count": 59,
   "id": "5c7d1323",
   "metadata": {
    "ExecuteTime": {
     "end_time": "2022-08-29T19:22:05.390373Z",
     "start_time": "2022-08-29T19:22:05.385387Z"
    }
   },
   "outputs": [
    {
     "name": "stdout",
     "output_type": "stream",
     "text": [
      "['Practical Statistics for Data Scientists', 'Introduction to Probability', 'Introduction to Machine Learning with Python', 'Python Machine Learning By Example', 'Big Data – A revolution', 'Practical data science with R', 'The data science handbook']\n"
     ]
    }
   ],
   "source": [
    "HarryLibrary.Displaybook()"
   ]
  },
  {
   "cell_type": "code",
   "execution_count": 61,
   "id": "e13fe2eb",
   "metadata": {
    "ExecuteTime": {
     "end_time": "2022-08-29T19:22:24.821098Z",
     "start_time": "2022-08-29T19:22:24.812121Z"
    }
   },
   "outputs": [
    {
     "data": {
      "text/plain": [
       "['Head First Statistics: A Brain-Friendly Guide']"
      ]
     },
     "execution_count": 61,
     "metadata": {},
     "output_type": "execute_result"
    }
   ],
   "source": [
    "HarryLibrary.listof_lendbooks"
   ]
  },
  {
   "cell_type": "code",
   "execution_count": 75,
   "id": "aacdc4f1",
   "metadata": {
    "ExecuteTime": {
     "end_time": "2022-08-29T21:28:00.917216Z",
     "start_time": "2022-08-29T21:27:59.950230Z"
    }
   },
   "outputs": [
    {
     "name": "stdout",
     "output_type": "stream",
     "text": [
      "Please type your name: vd\n",
      "{'vd': 'Ford'}\n"
     ]
    }
   ],
   "source": [
    "borrower_names=[]\n",
    "name=input(\"Please type your name: \")\n",
    "names.append(name)\n",
    "\n",
    "\n",
    "\n",
    "for i in names:\n",
    "    tdict = {i: \"Ford\"}\n",
    "\n",
    "print(tdict)"
   ]
  },
  {
   "cell_type": "code",
   "execution_count": 137,
   "id": "d41fd802",
   "metadata": {
    "ExecuteTime": {
     "end_time": "2022-08-29T22:10:37.300708Z",
     "start_time": "2022-08-29T22:10:37.282755Z"
    }
   },
   "outputs": [],
   "source": [
    "class Library ():\n",
    "\n",
    "    def __init__(self,listbooks ,Libraryname ):\n",
    "        \n",
    "        self.listofbooks = listbooks     \n",
    "        self.name = Libraryname\n",
    "        \n",
    "        self.listof_lendbooks=[]      \n",
    "\n",
    "        self.borrower_names=[]\n",
    "        self.borrowers=dict()\n",
    "                \n",
    "                \n",
    "    def Displaybook(self):\n",
    "        print(self.listofbooks) \n",
    "        \n",
    "        \n",
    "    def Addbook(self):\n",
    "        \n",
    "        while True:           \n",
    "            addbook=input(\"Please input new books name, for stop entering type 'nomore': \")\n",
    "            \n",
    "            if addbook in self.listofbooks :\n",
    "                print('This book is already in Library, please enter different book: ')\n",
    "                \n",
    "            else:    \n",
    "                self.listofbooks.append(addbook)\n",
    "                self.listofbooks=list(set(self.listofbooks))\n",
    "                \n",
    "            if addbook == '0':\n",
    "                self.listofbooks.remove('0')\n",
    "                break   \n",
    "                \n",
    "       \n",
    "     \n",
    "    def Lendbook(self):  \n",
    "        \n",
    "        \n",
    "        \n",
    "        name=input(\"Please type your name: \")\n",
    "        self.borrower_names.append(name)\n",
    "        names.append(name)\n",
    "        \n",
    "               \n",
    "        while True:\n",
    "            lendbook=input(\"Please enter your desired book, for stop entering type 'nomore': \")\n",
    "            if lendbook in self.listofbooks:\n",
    "                self.listofbooks.remove(lendbook)\n",
    "                self.listof_lendbooks.append(lendbook)\n",
    "                \n",
    "            elif lendbook not in self.listofbooks and lendbook != '0' :\n",
    "                print(\"This book isn't avelabile now\")    \n",
    "                \n",
    "            elif lendbook == '0':\n",
    "                break    \n",
    "        for i in range(len(names)):        \n",
    "            self.borrowers[names[i]] = self.listof_lendbooks\n",
    "\n",
    "                \n",
    "    def Returnbook(self):\n",
    "        \n",
    "        while True:\n",
    "            Returnbook=input(\"Please enter book name to return , for stop entering type 'nomore': \")\n",
    "            if Returnbook in self.listof_lendbooks:\n",
    "                self.listof_lendbooks.remove(Returnbook)\n",
    "                self.listofbooks.append(Returnbook)\n",
    "                \n",
    "            elif Returnbook not in self.listof_lendbooks and Returnbook != '0' :\n",
    "                print(\"You don't have this book\")    \n",
    "                \n",
    "            elif Returnbook == '0':\n",
    "                break  \n",
    "        \n",
    "                "
   ]
  },
  {
   "cell_type": "code",
   "execution_count": 138,
   "id": "35f78cc0",
   "metadata": {
    "ExecuteTime": {
     "end_time": "2022-08-29T22:10:40.251198Z",
     "start_time": "2022-08-29T22:10:40.240228Z"
    }
   },
   "outputs": [],
   "source": [
    "listofbooks = [\"Head First Statistics: A Brain-Friendly Guide\",\n",
    "\"Practical Statistics for Data Scientists\",\n",
    "\"Introduction to Probability\",\n",
    "\"Practical data science with R\",\n",
    "\"The data science handbook\"]\n",
    "\n",
    "\n",
    "library_name= \"Data science Library\" "
   ]
  },
  {
   "cell_type": "code",
   "execution_count": 135,
   "id": "2065b8b8",
   "metadata": {
    "ExecuteTime": {
     "end_time": "2022-08-29T22:10:00.847074Z",
     "start_time": "2022-08-29T22:10:00.835109Z"
    }
   },
   "outputs": [],
   "source": [
    "t=Library(listofbooks, library_name)\n",
    "#Practical Statistics for Data Scientists\n",
    "#The data science handbook"
   ]
  },
  {
   "cell_type": "code",
   "execution_count": 136,
   "id": "d93c82df",
   "metadata": {
    "ExecuteTime": {
     "end_time": "2022-08-29T22:10:09.741976Z",
     "start_time": "2022-08-29T22:10:01.624521Z"
    },
    "scrolled": false
   },
   "outputs": [
    {
     "name": "stdout",
     "output_type": "stream",
     "text": [
      "Please type your name: Ahmed Mohamed\n",
      "Please enter your desired book, for stop entering type 'nomore': Practical Statistics for Data Scientists\n",
      "Please enter your desired book, for stop entering type 'nomore': 0\n"
     ]
    },
    {
     "ename": "TypeError",
     "evalue": "'list' object cannot be interpreted as an integer",
     "output_type": "error",
     "traceback": [
      "\u001b[1;31m---------------------------------------------------------------------------\u001b[0m",
      "\u001b[1;31mTypeError\u001b[0m                                 Traceback (most recent call last)",
      "\u001b[1;32m~\\AppData\\Local\\Temp/ipykernel_20024/1869717945.py\u001b[0m in \u001b[0;36m<module>\u001b[1;34m\u001b[0m\n\u001b[1;32m----> 1\u001b[1;33m \u001b[0mt\u001b[0m\u001b[1;33m.\u001b[0m\u001b[0mLendbook\u001b[0m\u001b[1;33m(\u001b[0m\u001b[1;33m)\u001b[0m\u001b[1;33m\u001b[0m\u001b[1;33m\u001b[0m\u001b[0m\n\u001b[0m",
      "\u001b[1;32m~\\AppData\\Local\\Temp/ipykernel_20024/3633285621.py\u001b[0m in \u001b[0;36mLendbook\u001b[1;34m(self)\u001b[0m\n\u001b[0;32m     54\u001b[0m             \u001b[1;32melif\u001b[0m \u001b[0mlendbook\u001b[0m \u001b[1;33m==\u001b[0m \u001b[1;34m'0'\u001b[0m\u001b[1;33m:\u001b[0m\u001b[1;33m\u001b[0m\u001b[1;33m\u001b[0m\u001b[0m\n\u001b[0;32m     55\u001b[0m                 \u001b[1;32mbreak\u001b[0m\u001b[1;33m\u001b[0m\u001b[1;33m\u001b[0m\u001b[0m\n\u001b[1;32m---> 56\u001b[1;33m         \u001b[1;32mfor\u001b[0m \u001b[0mi\u001b[0m \u001b[1;32min\u001b[0m \u001b[0mrange\u001b[0m\u001b[1;33m(\u001b[0m\u001b[0mnames\u001b[0m\u001b[1;33m)\u001b[0m\u001b[1;33m:\u001b[0m\u001b[1;33m\u001b[0m\u001b[1;33m\u001b[0m\u001b[0m\n\u001b[0m\u001b[0;32m     57\u001b[0m             \u001b[0mself\u001b[0m\u001b[1;33m.\u001b[0m\u001b[0mborrowers\u001b[0m\u001b[1;33m[\u001b[0m\u001b[0mnames\u001b[0m\u001b[1;33m[\u001b[0m\u001b[0mi\u001b[0m\u001b[1;33m]\u001b[0m\u001b[1;33m]\u001b[0m \u001b[1;33m=\u001b[0m \u001b[0mself\u001b[0m\u001b[1;33m.\u001b[0m\u001b[0mlistof_lendbooks\u001b[0m\u001b[1;33m\u001b[0m\u001b[1;33m\u001b[0m\u001b[0m\n\u001b[0;32m     58\u001b[0m \u001b[1;33m\u001b[0m\u001b[0m\n",
      "\u001b[1;31mTypeError\u001b[0m: 'list' object cannot be interpreted as an integer"
     ]
    }
   ],
   "source": [
    "t.Lendbook()"
   ]
  },
  {
   "cell_type": "code",
   "execution_count": 130,
   "id": "f5eb70e2",
   "metadata": {
    "ExecuteTime": {
     "end_time": "2022-08-29T22:05:58.731934Z",
     "start_time": "2022-08-29T22:05:58.720963Z"
    }
   },
   "outputs": [
    {
     "data": {
      "text/plain": [
       "{'Ahmed Mohamed Zaki': ['Practical Statistics for Data Scientists',\n",
       "  'Practical data science with R']}"
      ]
     },
     "execution_count": 130,
     "metadata": {},
     "output_type": "execute_result"
    }
   ],
   "source": [
    "t.borrowers"
   ]
  },
  {
   "cell_type": "code",
   "execution_count": 131,
   "id": "2bd3b8a4",
   "metadata": {
    "ExecuteTime": {
     "end_time": "2022-08-29T22:06:06.839621Z",
     "start_time": "2022-08-29T22:06:06.833668Z"
    }
   },
   "outputs": [
    {
     "data": {
      "text/plain": [
       "['abdel', 'Ahmed Mohamed Zaki']"
      ]
     },
     "execution_count": 131,
     "metadata": {},
     "output_type": "execute_result"
    }
   ],
   "source": [
    "t.borrower_names"
   ]
  }
 ],
 "metadata": {
  "kernelspec": {
   "display_name": "Python 3",
   "language": "python",
   "name": "python3"
  },
  "language_info": {
   "codemirror_mode": {
    "name": "ipython",
    "version": 3
   },
   "file_extension": ".py",
   "mimetype": "text/x-python",
   "name": "python",
   "nbconvert_exporter": "python",
   "pygments_lexer": "ipython3",
   "version": "3.8.12"
  }
 },
 "nbformat": 4,
 "nbformat_minor": 5
}
