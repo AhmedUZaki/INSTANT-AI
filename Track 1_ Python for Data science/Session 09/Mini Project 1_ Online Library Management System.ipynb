{
 "cells": [
  {
   "cell_type": "markdown",
   "id": "0b438bb4",
   "metadata": {},
   "source": [
    "## Mini Project 1: [“Online Library Management System”]"
   ]
  },
  {
   "cell_type": "markdown",
   "id": "10d5b397",
   "metadata": {},
   "source": [
    "### Statement:-\n",
    "The task is to create an **“Online Library Management System.”**\n",
    "\n",
    "For this, you have to create a library class that includes the following methods:\n",
    "\n",
    "- **Displaybook()**: To display the available books\n",
    "- **Addbook(**): To add a book to the library\n",
    "- **Lendbook()**: To lend a book to a user\n",
    "- **Returnbook()**: To return the book to the library."
   ]
  },
  {
   "cell_type": "markdown",
   "id": "1a0afd6d",
   "metadata": {},
   "source": [
    "As you have created a library class, \n",
    "\n",
    "now you will create an object and pass the following parameters in the constructor.\n",
    "**``HarryLibrary=Library(listofbooks, library_name)``**\n",
    "\n",
    "After that, create a main function and run an infinite while loop that asks the users for their input whether they want to display, lend, add or return a book.\n",
    "\n",
    "#### Optional:-\n",
    "Maintain a dictionary for the users who own a book. Dictionary should take book name as a key and name of the person as a value. Whenever you lend a book to a user, you should maintain a dictionary."
   ]
  },
  {
   "cell_type": "code",
   "execution_count": 12,
   "id": "427ca688",
   "metadata": {
    "ExecuteTime": {
     "end_time": "2022-08-29T18:57:42.221015Z",
     "start_time": "2022-08-29T18:57:42.202073Z"
    }
   },
   "outputs": [],
   "source": [
    "class Library ():\n",
    "\n",
    "    def __init__(self):\n",
    "        \n",
    "        self.listof_lendbooks=[]\n",
    "        self.listofbooks = []\n",
    "        \n",
    "        while True:\n",
    "            book = input(\"Please enter books name, for stop entering type 'nomore': \")        \n",
    "            \n",
    "            if book in self.listofbooks :\n",
    "                print('This book is already in Library, please enter different book: ')\n",
    "                \n",
    "            else:    \n",
    "                self.listofbooks.append(book)\n",
    "            self.listofbooks=list(set(self.listofbooks))\n",
    "            \n",
    "            if book == '0':\n",
    "                self.library_name = input(\"Please enter library name: \")\n",
    "                self.listofbooks.remove('0')\n",
    "                break\n",
    "                \n",
    "                \n",
    "    def Displaybook(self):\n",
    "        print(self.listofbooks) \n",
    "        \n",
    "        \n",
    "    def Addbook(self):\n",
    "        \n",
    "        while True:           \n",
    "            addbook=input(\"Please input new books name, for stop entering type 'nomore': \")\n",
    "            \n",
    "            if addbook in self.listofbooks :\n",
    "                print('This book is already in Library, please enter different book: ')\n",
    "                \n",
    "            else:    \n",
    "                self.listofbooks.append(addbook)\n",
    "                self.listofbooks=list(set(self.listofbooks))\n",
    "                \n",
    "            if addbook == '0':\n",
    "                self.listofbooks.remove('0')\n",
    "                break   \n",
    "                \n",
    "       \n",
    "     \n",
    "    def Lendbook(self):      \n",
    "               \n",
    "        while True:\n",
    "            lendbook=input(\"Please enter your desired book, for stop entering type 'nomore': \")\n",
    "            if lendbook in self.listofbooks:\n",
    "                self.listofbooks.remove(lendbook)\n",
    "                self.listof_lendbooks.append(lendbook)\n",
    "                \n",
    "            elif lendbook not in self.listofbooks and lendbook != '0' :\n",
    "                print(\"This book isn't avelabile now\")    \n",
    "                \n",
    "            elif lendbook == '0':\n",
    "                break    \n",
    "                \n",
    "    def Returnbook(self):\n",
    "        \n",
    "        while True:\n",
    "            Returnbook=input(\"Please enter book name to return , for stop entering type 'nomore': \")\n",
    "            if Returnbook in self.listof_lendbooks:\n",
    "                self.listof_lendbooks.remove(Returnbook)\n",
    "                self.listofbooks.append(Returnbook)\n",
    "                \n",
    "            elif Returnbook not in self.listof_lendbooks and Returnbook != '0' :\n",
    "                print(\"You don't have this book\")    \n",
    "                \n",
    "            elif Returnbook == '0':\n",
    "                break  \n",
    "        \n",
    "        "
   ]
  },
  {
   "cell_type": "code",
   "execution_count": 13,
   "id": "d73f39d0",
   "metadata": {
    "ExecuteTime": {
     "end_time": "2022-08-29T18:58:38.296040Z",
     "start_time": "2022-08-29T18:57:44.570301Z"
    },
    "scrolled": false
   },
   "outputs": [
    {
     "name": "stdout",
     "output_type": "stream",
     "text": [
      "Please enter books name, for stop entering type 'nomore': q\n",
      "Please enter books name, for stop entering type 'nomore': w\n",
      "Please enter books name, for stop entering type 'nomore': e\n",
      "Please enter books name, for stop entering type 'nomore': r\n",
      "Please enter books name, for stop entering type 'nomore': 0\n",
      "Please enter library name: asd\n"
     ]
    }
   ],
   "source": [
    "y=Library()"
   ]
  },
  {
   "cell_type": "code",
   "execution_count": 14,
   "id": "477f9754",
   "metadata": {
    "ExecuteTime": {
     "end_time": "2022-08-29T18:58:51.298183Z",
     "start_time": "2022-08-29T18:58:51.289208Z"
    }
   },
   "outputs": [
    {
     "name": "stdout",
     "output_type": "stream",
     "text": [
      "['w', 'e', 'r', 'q']\n"
     ]
    }
   ],
   "source": [
    "y.Displaybook()"
   ]
  },
  {
   "cell_type": "code",
   "execution_count": 15,
   "id": "8ed6ab97",
   "metadata": {
    "ExecuteTime": {
     "end_time": "2022-08-29T18:58:59.046514Z",
     "start_time": "2022-08-29T18:58:53.871841Z"
    },
    "scrolled": true
   },
   "outputs": [
    {
     "name": "stdout",
     "output_type": "stream",
     "text": [
      "Please input new books name, for stop entering type 'nomore': z\n",
      "Please input new books name, for stop entering type 'nomore': x\n",
      "Please input new books name, for stop entering type 'nomore': c\n",
      "Please input new books name, for stop entering type 'nomore': v\n",
      "Please input new books name, for stop entering type 'nomore': 0\n"
     ]
    }
   ],
   "source": [
    "y.Addbook()"
   ]
  },
  {
   "cell_type": "code",
   "execution_count": 16,
   "id": "a1f45c65",
   "metadata": {
    "ExecuteTime": {
     "end_time": "2022-08-29T18:59:01.455688Z",
     "start_time": "2022-08-29T18:59:01.446712Z"
    }
   },
   "outputs": [
    {
     "data": {
      "text/plain": [
       "['w', 'x', 'z', 'e', 'c', 'v', 'r', 'q']"
      ]
     },
     "execution_count": 16,
     "metadata": {},
     "output_type": "execute_result"
    }
   ],
   "source": [
    "y.listofbooks"
   ]
  },
  {
   "cell_type": "code",
   "execution_count": 17,
   "id": "e0349234",
   "metadata": {
    "ExecuteTime": {
     "end_time": "2022-08-29T18:59:21.625830Z",
     "start_time": "2022-08-29T18:59:03.508253Z"
    }
   },
   "outputs": [
    {
     "name": "stdout",
     "output_type": "stream",
     "text": [
      "Please enter your desired book, for stop entering type 'nomore': q\n",
      "Please enter your desired book, for stop entering type 'nomore': w\n",
      "Please enter your desired book, for stop entering type 'nomore': e\n",
      "Please enter your desired book, for stop entering type 'nomore': 0\n"
     ]
    }
   ],
   "source": [
    "y.Lendbook()"
   ]
  },
  {
   "cell_type": "code",
   "execution_count": 18,
   "id": "061dac3a",
   "metadata": {
    "ExecuteTime": {
     "end_time": "2022-08-29T18:59:23.874211Z",
     "start_time": "2022-08-29T18:59:23.859253Z"
    }
   },
   "outputs": [
    {
     "data": {
      "text/plain": [
       "['x', 'z', 'c', 'v', 'r']"
      ]
     },
     "execution_count": 18,
     "metadata": {},
     "output_type": "execute_result"
    }
   ],
   "source": [
    "y.listofbooks"
   ]
  },
  {
   "cell_type": "code",
   "execution_count": 19,
   "id": "2ef25ac1",
   "metadata": {
    "ExecuteTime": {
     "end_time": "2022-08-29T18:59:25.041810Z",
     "start_time": "2022-08-29T18:59:25.032833Z"
    },
    "scrolled": true
   },
   "outputs": [
    {
     "data": {
      "text/plain": [
       "['q', 'w', 'e']"
      ]
     },
     "execution_count": 19,
     "metadata": {},
     "output_type": "execute_result"
    }
   ],
   "source": [
    "y.listof_lendbooks"
   ]
  },
  {
   "cell_type": "code",
   "execution_count": 20,
   "id": "2b8a9763",
   "metadata": {
    "ExecuteTime": {
     "end_time": "2022-08-29T18:59:49.540676Z",
     "start_time": "2022-08-29T18:59:28.395057Z"
    },
    "scrolled": true
   },
   "outputs": [
    {
     "name": "stdout",
     "output_type": "stream",
     "text": [
      "Please enter book name to return , for stop entering type 'nomore': z\n",
      "You don't have this book\n",
      "Please enter book name to return , for stop entering type 'nomore': w\n",
      "Please enter book name to return , for stop entering type 'nomore': e\n",
      "Please enter book name to return , for stop entering type 'nomore': 0\n"
     ]
    }
   ],
   "source": [
    "y.Returnbook()"
   ]
  },
  {
   "cell_type": "code",
   "execution_count": 21,
   "id": "6fc6f769",
   "metadata": {
    "ExecuteTime": {
     "end_time": "2022-08-29T19:00:01.469984Z",
     "start_time": "2022-08-29T19:00:01.452002Z"
    }
   },
   "outputs": [
    {
     "data": {
      "text/plain": [
       "['x', 'z', 'c', 'v', 'r', 'w', 'e']"
      ]
     },
     "execution_count": 21,
     "metadata": {},
     "output_type": "execute_result"
    }
   ],
   "source": [
    "y.listofbooks"
   ]
  },
  {
   "cell_type": "code",
   "execution_count": 22,
   "id": "5fdef451",
   "metadata": {
    "ExecuteTime": {
     "end_time": "2022-08-29T19:00:06.593689Z",
     "start_time": "2022-08-29T19:00:06.575711Z"
    }
   },
   "outputs": [
    {
     "data": {
      "text/plain": [
       "['q']"
      ]
     },
     "execution_count": 22,
     "metadata": {},
     "output_type": "execute_result"
    }
   ],
   "source": [
    "y.listof_lendbooks"
   ]
  },
  {
   "cell_type": "code",
   "execution_count": null,
   "id": "cd73fd92",
   "metadata": {},
   "outputs": [],
   "source": []
  }
 ],
 "metadata": {
  "kernelspec": {
   "display_name": "Python 3",
   "language": "python",
   "name": "python3"
  },
  "language_info": {
   "codemirror_mode": {
    "name": "ipython",
    "version": 3
   },
   "file_extension": ".py",
   "mimetype": "text/x-python",
   "name": "python",
   "nbconvert_exporter": "python",
   "pygments_lexer": "ipython3",
   "version": "3.8.12"
  }
 },
 "nbformat": 4,
 "nbformat_minor": 5
}
