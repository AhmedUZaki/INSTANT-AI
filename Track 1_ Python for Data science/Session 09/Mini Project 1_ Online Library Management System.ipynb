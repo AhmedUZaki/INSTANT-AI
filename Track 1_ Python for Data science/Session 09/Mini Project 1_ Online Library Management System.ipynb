{
 "cells": [
  {
   "cell_type": "markdown",
   "id": "0b438bb4",
   "metadata": {},
   "source": [
    "## Mini Project 1: [“Online Library Management System”]"
   ]
  },
  {
   "cell_type": "markdown",
   "id": "10d5b397",
   "metadata": {},
   "source": [
    "### Statement:-\n",
    "The task is to create an **“Online Library Management System.”**\n",
    "\n",
    "For this, you have to create a library class that includes the following methods:\n",
    "\n",
    "- **Displaybook()**: To display the available books.\n",
    "- **Addbook(**): To add a book to the library.\n",
    "- **Lendbook()**: To lend a book to a user.\n",
    "- **Returnbook()**: To return the book to the library."
   ]
  },
  {
   "cell_type": "markdown",
   "id": "1a0afd6d",
   "metadata": {},
   "source": [
    "As you have created a library class, \n",
    "\n",
    "now you will create an object and pass the following parameters in the constructor.\n",
    "**``HarryLibrary=Library(listofbooks, library_name)``**\n",
    "\n",
    "After that, create a main function and run an infinite while loop that asks the users for their input whether they want to display, lend, add or return a book.\n",
    "\n",
    "#### Optional:-\n",
    "Maintain a dictionary for the users who own a book. Dictionary should take book name as a key and name of the person as a value. Whenever you lend a book to a user, you should maintain a dictionary."
   ]
  },
  {
   "cell_type": "code",
   "execution_count": 1,
   "id": "54468ef2",
   "metadata": {
    "ExecuteTime": {
     "end_time": "2022-08-29T23:28:50.909289Z",
     "start_time": "2022-08-29T23:28:50.891337Z"
    }
   },
   "outputs": [],
   "source": [
    "class Library ():\n",
    "\n",
    "    def __init__(self,listbooks ,Libraryusername ):\n",
    "        \n",
    "        #Get \"listofbooks\", \"username\" from user as an input.\n",
    "        self.listofbooks = listbooks     \n",
    "        self.username = Libraryusername\n",
    "        \n",
    "        #Make initial List/Dict for \"borrowers\"/\"borrower_usernames\".\n",
    "        self.borrower_usernames=[]\n",
    "        self.borrowers=dict()\n",
    "              \n",
    "    \n",
    "    #To display the available books.\n",
    "    def Displaybook(self):\n",
    "        print(self.listofbooks) \n",
    "        \n",
    "    #To add a book to the library.   \n",
    "    def Addbook(self):\n",
    "        \n",
    "        while True:           \n",
    "            addbook=input(\"Please input new books username, for stop entering type 'nomore': \")\n",
    "            \n",
    "            if addbook in self.listofbooks :\n",
    "                print('This book is already in Library, please enter different book: ')\n",
    "                \n",
    "            else:    \n",
    "                self.listofbooks.append(addbook)\n",
    "                self.listofbooks=list(set(self.listofbooks))\n",
    "                \n",
    "            if addbook == 'nomore':\n",
    "                self.listofbooks.remove('nomore')\n",
    "                break   \n",
    "                \n",
    "       \n",
    "    #To lend a book to a user. \n",
    "    def Lendbook(self): \n",
    "        \n",
    "        #Make initial Lists for \"usernames\"/\"listof_lendbooks\".\n",
    "        usernames=[]\n",
    "        self.listof_lendbooks=[]  \n",
    "        \n",
    "        #Take username from user and add it to \"borrower_usernames\" list.\n",
    "        username=input(\"Please type your username: \")\n",
    "        usernames.append(username)\n",
    "        self.borrower_usernames.append(username)\n",
    "        \n",
    "               \n",
    "        while True:\n",
    "            \n",
    "            lendbook=input(\"Please enter your desired book, for stop entering type 'nomore': \")\n",
    "            \n",
    "            #Make user borrow book if it's avelabile.\n",
    "            if lendbook in self.listofbooks:\n",
    "\n",
    "                self.listofbooks.remove(lendbook)\n",
    "                self.listof_lendbooks.append(lendbook)\n",
    "                \n",
    "                #Make dictionary for the users who own a book.\n",
    "                for i in range(len(usernames)):        \n",
    "                    self.borrowers[usernames[i]] = self.listof_lendbooks\n",
    "                \n",
    "            elif lendbook not in self.listofbooks and lendbook != 'nomore' :\n",
    "                print(\"This book isn't avelabile now\")    \n",
    "                \n",
    "            elif lendbook == 'nomore':\n",
    "                break    \n",
    "                \n",
    "    #To print dictionary for the users who own a book.\n",
    "    def Print_borrowers(self):\n",
    "        print(self.borrowers)\n",
    "    \n",
    "    #To print usernames\n",
    "    def Print_borrower_usernames(self):\n",
    "        print(self.borrower_usernames)        \n",
    "                        \n",
    "                \n",
    "    #To return the book to the library.      \n",
    "    def Returnbook(self):\n",
    "        \n",
    "        #Take username to access user's book\n",
    "        username=input(\"Please enter your username: \")    \n",
    "        if username in self.borrower_usernames:\n",
    "            while True:      \n",
    "                #Take book name from user.\n",
    "                Returnbook=input(\"Please enter book name to return , for stop entering type 'nomore': \")\n",
    "            \n",
    "                #Check if user have the book or not\n",
    "                \n",
    "                if Returnbook in self.borrowers[username]:\n",
    "                    self.borrowers[username].remove(Returnbook)\n",
    "                    self.listofbooks.append(Returnbook)\n",
    "\n",
    "                elif Returnbook not in self.borrowers[username] and Returnbook != 'nomore' :\n",
    "                    print(\"You don't have this book\")    \n",
    "\n",
    "                elif Returnbook == 'nomore':\n",
    "                    break  \n",
    "        else:\n",
    "            print(\"You don't borrow books yet, Borrow some books now \")    "
   ]
  },
  {
   "cell_type": "code",
   "execution_count": 2,
   "id": "c543050c",
   "metadata": {
    "ExecuteTime": {
     "end_time": "2022-08-29T23:28:51.687186Z",
     "start_time": "2022-08-29T23:28:51.672199Z"
    }
   },
   "outputs": [],
   "source": [
    "listofbooks = [\"Head First Statistics: A Brain-Friendly Guide\",\n",
    "\"Practical Statistics for Data Scientists\",\n",
    "\"Introduction to Probability\",\n",
    "\"Practical data science with R\",\n",
    "\"The data science handbook\"]\n",
    "\n",
    "\n",
    "library_name= \"Data science Library\" "
   ]
  },
  {
   "cell_type": "code",
   "execution_count": 3,
   "id": "8a000c00",
   "metadata": {
    "ExecuteTime": {
     "end_time": "2022-08-29T23:28:53.122733Z",
     "start_time": "2022-08-29T23:28:53.112756Z"
    }
   },
   "outputs": [],
   "source": [
    "HarryLibrary=Library(listofbooks, library_name)"
   ]
  },
  {
   "cell_type": "code",
   "execution_count": 4,
   "id": "749894f0",
   "metadata": {
    "ExecuteTime": {
     "end_time": "2022-08-29T23:20:56.589185Z",
     "start_time": "2022-08-29T23:20:56.580210Z"
    }
   },
   "outputs": [
    {
     "name": "stdout",
     "output_type": "stream",
     "text": [
      "['Head First Statistics: A Brain-Friendly Guide', 'Practical Statistics for Data Scientists', 'Introduction to Probability', 'Practical data science with R', 'The data science handbook']\n"
     ]
    }
   ],
   "source": [
    "HarryLibrary.Displaybook()"
   ]
  },
  {
   "cell_type": "code",
   "execution_count": 5,
   "id": "1fffd1f9",
   "metadata": {
    "ExecuteTime": {
     "end_time": "2022-08-29T23:21:04.483304Z",
     "start_time": "2022-08-29T23:20:57.789410Z"
    }
   },
   "outputs": [
    {
     "name": "stdout",
     "output_type": "stream",
     "text": [
      "Please input new books username, for stop entering type 'nomore': Pattern recognition and machine learning\n",
      "Please input new books username, for stop entering type 'nomore': nomore\n"
     ]
    }
   ],
   "source": [
    "HarryLibrary.Addbook()\n",
    "\n",
    "#add this book \"Pattern recognition and machine learning\""
   ]
  },
  {
   "cell_type": "code",
   "execution_count": 6,
   "id": "391dd507",
   "metadata": {
    "ExecuteTime": {
     "end_time": "2022-08-29T23:21:20.586955Z",
     "start_time": "2022-08-29T23:21:06.147275Z"
    },
    "scrolled": true
   },
   "outputs": [
    {
     "name": "stdout",
     "output_type": "stream",
     "text": [
      "Please type your username: Ahmed\n",
      "Please enter your desired book, for stop entering type 'nomore': Practical data science with R\n",
      "Please enter your desired book, for stop entering type 'nomore': The data science handbook\n",
      "Please enter your desired book, for stop entering type 'nomore': nomore\n"
     ]
    }
   ],
   "source": [
    "HarryLibrary.Lendbook()\n",
    "\n",
    "#lend those books for user #1: \"Practical data science with R\" , \"The data science handbook\""
   ]
  },
  {
   "cell_type": "code",
   "execution_count": 7,
   "id": "a09f0147",
   "metadata": {
    "ExecuteTime": {
     "end_time": "2022-08-29T23:21:35.411557Z",
     "start_time": "2022-08-29T23:21:22.571646Z"
    },
    "scrolled": false
   },
   "outputs": [
    {
     "name": "stdout",
     "output_type": "stream",
     "text": [
      "Please type your username: Mohamed\n",
      "Please enter your desired book, for stop entering type 'nomore': Practical Statistics for Data Scientists\n",
      "Please enter your desired book, for stop entering type 'nomore': nomore\n"
     ]
    }
   ],
   "source": [
    "HarryLibrary.Lendbook()\n",
    "#lend those books for user #2:\"Practical Statistics for Data Scientists\""
   ]
  },
  {
   "cell_type": "code",
   "execution_count": 8,
   "id": "7b0b5d41",
   "metadata": {
    "ExecuteTime": {
     "end_time": "2022-08-29T23:21:39.036662Z",
     "start_time": "2022-08-29T23:21:39.031675Z"
    }
   },
   "outputs": [
    {
     "name": "stdout",
     "output_type": "stream",
     "text": [
      "{'Ahmed': ['Practical data science with R', 'The data science handbook'], 'Mohamed': ['Practical Statistics for Data Scientists']}\n"
     ]
    }
   ],
   "source": [
    "#print dictionary for the users who books \"borrowers\"\n",
    "HarryLibrary.Print_borrowers()"
   ]
  },
  {
   "cell_type": "code",
   "execution_count": 9,
   "id": "8045a639",
   "metadata": {
    "ExecuteTime": {
     "end_time": "2022-08-29T23:21:45.673094Z",
     "start_time": "2022-08-29T23:21:45.663119Z"
    }
   },
   "outputs": [
    {
     "name": "stdout",
     "output_type": "stream",
     "text": [
      "['Ahmed', 'Mohamed']\n"
     ]
    }
   ],
   "source": [
    "#print users names\n",
    "HarryLibrary.Print_borrower_usernames()"
   ]
  },
  {
   "cell_type": "code",
   "execution_count": 11,
   "id": "e664625e",
   "metadata": {
    "ExecuteTime": {
     "end_time": "2022-08-29T23:22:13.403373Z",
     "start_time": "2022-08-29T23:22:01.816272Z"
    }
   },
   "outputs": [
    {
     "name": "stdout",
     "output_type": "stream",
     "text": [
      "Please enter your username: Ahmed\n",
      "Please enter book name to return , for stop entering type 'nomore': The data science handbook\n",
      "Please enter book name to return , for stop entering type 'nomore': nomore\n"
     ]
    }
   ],
   "source": [
    "HarryLibrary.Returnbook()\n",
    "#Return this book:\"The data science handbook\""
   ]
  },
  {
   "cell_type": "code",
   "execution_count": 12,
   "id": "7309c4f7",
   "metadata": {
    "ExecuteTime": {
     "end_time": "2022-08-29T23:22:15.253425Z",
     "start_time": "2022-08-29T23:22:15.242455Z"
    }
   },
   "outputs": [
    {
     "name": "stdout",
     "output_type": "stream",
     "text": [
      "{'Ahmed': ['Practical data science with R'], 'Mohamed': ['Practical Statistics for Data Scientists']}\n"
     ]
    }
   ],
   "source": [
    "#Print all borrowers again after return book upove.\n",
    "HarryLibrary.Print_borrowers()"
   ]
  },
  {
   "cell_type": "code",
   "execution_count": 14,
   "id": "564e5a10",
   "metadata": {
    "ExecuteTime": {
     "end_time": "2022-08-29T23:30:12.876588Z",
     "start_time": "2022-08-29T23:30:10.712304Z"
    }
   },
   "outputs": [
    {
     "name": "stdout",
     "output_type": "stream",
     "text": [
      "Please enter your username: Zaki\n",
      "You Don't borrow books yet\n"
     ]
    }
   ],
   "source": [
    "#Trying to enter wrong username:\n",
    "HarryLibrary.Returnbook()"
   ]
  }
 ],
 "metadata": {
  "kernelspec": {
   "display_name": "Python 3",
   "language": "python",
   "name": "python3"
  },
  "language_info": {
   "codemirror_mode": {
    "name": "ipython",
    "version": 3
   },
   "file_extension": ".py",
   "mimetype": "text/x-python",
   "name": "python",
   "nbconvert_exporter": "python",
   "pygments_lexer": "ipython3",
   "version": "3.8.12"
  }
 },
 "nbformat": 4,
 "nbformat_minor": 5
}
