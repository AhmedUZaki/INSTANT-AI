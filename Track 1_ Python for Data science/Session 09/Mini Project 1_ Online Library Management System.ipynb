{
 "cells": [
  {
   "cell_type": "markdown",
   "id": "0b438bb4",
   "metadata": {},
   "source": [
    "## Mini Project 1: [“Online Library Management System”]"
   ]
  },
  {
   "cell_type": "markdown",
   "id": "10d5b397",
   "metadata": {},
   "source": [
    "### Statement:-\n",
    "The task is to create an **“Online Library Management System.”**\n",
    "\n",
    "For this, you have to create a library class that includes the following methods:\n",
    "\n",
    "- **Displaybook()**: To display the available books\n",
    "- **Addbook(**): To add a book to the library\n",
    "- **Lendbook()**: To lend a book to a user\n",
    "- **Returnbook()**: To return the book to the library."
   ]
  },
  {
   "cell_type": "markdown",
   "id": "1a0afd6d",
   "metadata": {},
   "source": [
    "As you have created a library class, \n",
    "\n",
    "now you will create an object and pass the following parameters in the constructor.\n",
    "**``HarryLibrary=Library(listofbooks, library_name)``**\n",
    "\n",
    "After that, create a main function and run an infinite while loop that asks the users for their input whether they want to display, lend, add or return a book.\n",
    "\n",
    "#### Optional:-\n",
    "Maintain a dictionary for the users who own a book. Dictionary should take book name as a key and name of the person as a value. Whenever you lend a book to a user, you should maintain a dictionary."
   ]
  },
  {
   "cell_type": "code",
   "execution_count": 1,
   "id": "427ca688",
   "metadata": {
    "ExecuteTime": {
     "end_time": "2022-08-26T15:14:30.007954Z",
     "start_time": "2022-08-26T15:14:29.994970Z"
    }
   },
   "outputs": [],
   "source": [
    "class Library ():\n",
    "\n",
    "    def __init__(self):\n",
    "        self.listof_lendbooks=[]\n",
    "        self.listofbooks = []\n",
    "        while True:\n",
    "            book = input(\"Please enter books name, for stop entering type 'nomore' \")        \n",
    "            \n",
    "            if book in self.listofbooks :\n",
    "                print('This book is already in Library, please enter different book ')\n",
    "                \n",
    "            else:    \n",
    "                self.listofbooks.append(book)\n",
    "            self.listofbooks=list(set(self.listofbooks))\n",
    "            \n",
    "            if book == '0':\n",
    "                self.library_name = input(\"Please enter library name: \")\n",
    "                self.listofbooks.remove('0')\n",
    "                break\n",
    "      \n",
    "    def Addbook(self):\n",
    "        while True:           \n",
    "            addbook=input(\"Please input new books name, for stop entering type 'nomore' \")\n",
    "            \n",
    "            if addbook in self.listofbooks :\n",
    "                print('This book is already in Library, please enter different book ')\n",
    "                \n",
    "            else:    \n",
    "                self.listofbooks.append(addbook)\n",
    "                self.listofbooks=list(set(self.listofbooks))\n",
    "                \n",
    "            if addbook == '0':\n",
    "                self.listofbooks.remove('0')\n",
    "                break   \n",
    "                \n",
    "    def Displaybook(self):\n",
    "        print(self.listofbooks)\n",
    "        \n",
    "     \n",
    "    def Lendbook(self):      \n",
    "               \n",
    "        while True:\n",
    "            lendbook=input(\"Please enter your desired book, for stop entering type 'nomore' \")\n",
    "            if lendbook in self.listofbooks:\n",
    "                self.listofbooks.remove(lendbook)\n",
    "                self.listof_lendbooks.append(lendbook)\n",
    "                \n",
    "            elif lendbook not in self.listofbooks and lendbook != '0' :\n",
    "                print(\"This book isn't avelabile now\")    \n",
    "                \n",
    "            if lendbook == '0':\n",
    "                break                   "
   ]
  },
  {
   "cell_type": "code",
   "execution_count": 2,
   "id": "d73f39d0",
   "metadata": {
    "ExecuteTime": {
     "end_time": "2022-08-26T15:14:44.548681Z",
     "start_time": "2022-08-26T15:14:30.008948Z"
    },
    "scrolled": false
   },
   "outputs": [
    {
     "name": "stdout",
     "output_type": "stream",
     "text": [
      "Please enter books name, for stop entering type 'nomore' 1\n",
      "Please enter books name, for stop entering type 'nomore' a\n",
      "Please enter books name, for stop entering type 'nomore' ss\n",
      "Please enter books name, for stop entering type 'nomore' dd\n",
      "Please enter books name, for stop entering type 'nomore' f\n",
      "Please enter books name, for stop entering type 'nomore' g\n",
      "Please enter books name, for stop entering type 'nomore' h\n",
      "Please enter books name, for stop entering type 'nomore' j\n",
      "Please enter books name, for stop entering type 'nomore' 0\n",
      "Please enter library name: ddwsd\n"
     ]
    }
   ],
   "source": [
    "y=Library()"
   ]
  },
  {
   "cell_type": "code",
   "execution_count": 3,
   "id": "477f9754",
   "metadata": {
    "ExecuteTime": {
     "end_time": "2022-08-26T15:14:44.564699Z",
     "start_time": "2022-08-26T15:14:44.549675Z"
    }
   },
   "outputs": [
    {
     "data": {
      "text/plain": [
       "['h', 'a', 'dd', '1', 'f', 'j', 'g', 'ss']"
      ]
     },
     "execution_count": 3,
     "metadata": {},
     "output_type": "execute_result"
    }
   ],
   "source": [
    "y.listofbooks"
   ]
  },
  {
   "cell_type": "code",
   "execution_count": 4,
   "id": "8ed6ab97",
   "metadata": {
    "ExecuteTime": {
     "end_time": "2022-08-26T15:14:58.318461Z",
     "start_time": "2022-08-26T15:14:44.565693Z"
    },
    "scrolled": true
   },
   "outputs": [
    {
     "name": "stdout",
     "output_type": "stream",
     "text": [
      "Please input new books name, for stop entering type 'nomore' q\n",
      "Please input new books name, for stop entering type 'nomore' w\n",
      "Please input new books name, for stop entering type 'nomore' e\n",
      "Please input new books name, for stop entering type 'nomore' r\n",
      "Please input new books name, for stop entering type 'nomore' 0\n"
     ]
    }
   ],
   "source": [
    "y.Addbook()"
   ]
  },
  {
   "cell_type": "code",
   "execution_count": 5,
   "id": "a1f45c65",
   "metadata": {
    "ExecuteTime": {
     "end_time": "2022-08-26T15:14:58.334406Z",
     "start_time": "2022-08-26T15:14:58.319447Z"
    }
   },
   "outputs": [
    {
     "data": {
      "text/plain": [
       "['h', 'a', 'dd', 'q', 'w', 'e', '1', 'f', 'j', 'r', 'g', 'ss']"
      ]
     },
     "execution_count": 5,
     "metadata": {},
     "output_type": "execute_result"
    }
   ],
   "source": [
    "y.listofbooks"
   ]
  },
  {
   "cell_type": "code",
   "execution_count": 6,
   "id": "e0349234",
   "metadata": {
    "ExecuteTime": {
     "end_time": "2022-08-26T15:15:26.291165Z",
     "start_time": "2022-08-26T15:14:58.335404Z"
    }
   },
   "outputs": [
    {
     "name": "stdout",
     "output_type": "stream",
     "text": [
      "Please enter your desired book, for stop entering type 'nomore' h\n",
      "Please enter your desired book, for stop entering type 'nomore' a\n",
      "Please enter your desired book, for stop entering type 'nomore' dd\n",
      "Please enter your desired book, for stop entering type 'nomore' q\n",
      "Please enter your desired book, for stop entering type 'nomore' w\n",
      "Please enter your desired book, for stop entering type 'nomore' e\n",
      "Please enter your desired book, for stop entering type 'nomore' 0\n"
     ]
    }
   ],
   "source": [
    "y.Lendbook()"
   ]
  },
  {
   "cell_type": "code",
   "execution_count": 7,
   "id": "061dac3a",
   "metadata": {
    "ExecuteTime": {
     "end_time": "2022-08-26T15:15:26.307122Z",
     "start_time": "2022-08-26T15:15:26.292163Z"
    }
   },
   "outputs": [
    {
     "data": {
      "text/plain": [
       "['1', 'f', 'j', 'r', 'g', 'ss']"
      ]
     },
     "execution_count": 7,
     "metadata": {},
     "output_type": "execute_result"
    }
   ],
   "source": [
    "y.listofbooks"
   ]
  },
  {
   "cell_type": "code",
   "execution_count": 8,
   "id": "2ef25ac1",
   "metadata": {
    "ExecuteTime": {
     "end_time": "2022-08-26T15:15:26.323079Z",
     "start_time": "2022-08-26T15:15:26.308121Z"
    },
    "scrolled": true
   },
   "outputs": [
    {
     "data": {
      "text/plain": [
       "['h', 'a', 'dd', 'q', 'w', 'e']"
      ]
     },
     "execution_count": 8,
     "metadata": {},
     "output_type": "execute_result"
    }
   ],
   "source": [
    "y.listof_lendbooks"
   ]
  },
  {
   "cell_type": "code",
   "execution_count": null,
   "id": "261ca073",
   "metadata": {},
   "outputs": [],
   "source": []
  }
 ],
 "metadata": {
  "kernelspec": {
   "display_name": "Python 3",
   "language": "python",
   "name": "python3"
  },
  "language_info": {
   "codemirror_mode": {
    "name": "ipython",
    "version": 3
   },
   "file_extension": ".py",
   "mimetype": "text/x-python",
   "name": "python",
   "nbconvert_exporter": "python",
   "pygments_lexer": "ipython3",
   "version": "3.8.12"
  }
 },
 "nbformat": 4,
 "nbformat_minor": 5
}
