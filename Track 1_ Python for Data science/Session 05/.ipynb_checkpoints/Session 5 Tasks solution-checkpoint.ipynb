{
 "cells": [
  {
   "cell_type": "markdown",
   "id": "f0716315",
   "metadata": {},
   "source": [
    "##  Session 5 Tasks solution"
   ]
  },
  {
   "cell_type": "markdown",
   "id": "2d235cf8",
   "metadata": {},
   "source": [
    "## Tasks:\n",
    "1. Binary Search in Python.\n",
    "2. The factorial function in recursion/iterative way.\n"
   ]
  },
  {
   "cell_type": "code",
   "execution_count": 1,
   "id": "dc0cf15c",
   "metadata": {
    "ExecuteTime": {
     "end_time": "2022-08-17T03:58:44.188615Z",
     "start_time": "2022-08-17T03:58:44.169662Z"
    }
   },
   "outputs": [],
   "source": [
    "#1 Binary Search in Python\n",
    "\n",
    "def binary_search(arr, x):\n",
    "    low = 0\n",
    "    high = len(arr) - 1\n",
    "    mid = 0\n",
    " \n",
    "    while low <= high:\n",
    "        mid = (high + low) // 2\n",
    " \n",
    "        # If x is greater, ignore left half\n",
    "        if arr[mid] < x:\n",
    "            low = mid + 1\n",
    " \n",
    "        # If x is smaller, ignore right half\n",
    "        elif arr[mid] > x:\n",
    "            high = mid - 1\n",
    " \n",
    "        # means x is present at mid\n",
    "        else:\n",
    "            return (\"Element is present at index\", str(mid))\n",
    " \n",
    "    # If we reach here, then the element was not present\n",
    "    mid= -1\n",
    "\n",
    "    if x != -1:\n",
    "        return(\"Element is not present in array\")\n",
    "\n",
    "\n",
    "\n"
   ]
  },
  {
   "cell_type": "code",
   "execution_count": 2,
   "id": "75644b2e",
   "metadata": {
    "ExecuteTime": {
     "end_time": "2022-08-17T03:58:44.204572Z",
     "start_time": "2022-08-17T03:58:44.189609Z"
    }
   },
   "outputs": [
    {
     "data": {
      "text/plain": [
       "('Element is present at index', '3')"
      ]
     },
     "execution_count": 2,
     "metadata": {},
     "output_type": "execute_result"
    }
   ],
   "source": [
    "#The list must be sorted\n",
    "list_container = [ 2, 3, 4, 10, 40 ]\n",
    "binary_search(sorted(list_container) , 10)"
   ]
  },
  {
   "cell_type": "code",
   "execution_count": 3,
   "id": "c433e566",
   "metadata": {
    "ExecuteTime": {
     "end_time": "2022-08-17T03:58:44.220557Z",
     "start_time": "2022-08-17T03:58:44.205566Z"
    }
   },
   "outputs": [
    {
     "data": {
      "text/plain": [
       "120"
      ]
     },
     "execution_count": 3,
     "metadata": {},
     "output_type": "execute_result"
    }
   ],
   "source": [
    "# The factorial function in recursion/iterative way\n",
    "\n",
    "\"\"\"\n",
    "Iterative Python function to calculate the factorial of a number. \n",
    "\"\"\"\n",
    "def factorial(num):\n",
    "    fact = 1\n",
    "    for i in range(1,num+1):\n",
    "        fact = i*fact\n",
    "    return fact\n",
    "\n",
    "factorial(5) \n",
    "#factorial(5) = 1*2*3*4*5 (Ascending order)\n",
    "\n",
    "\"\"\"\n",
    "Recursion Python function to calculate the factorial of a number.\n",
    "\"\"\"\n",
    "\n",
    "def factorial(num):\n",
    "    if num ==0:\n",
    "        return 1\n",
    "    else:\n",
    "        return num * factorial(num-1)\n",
    "    \n",
    "factorial(5)\n",
    "#factorial(5) = 5*4*3*2*1 (Dscending order)"
   ]
  }
 ],
 "metadata": {
  "kernelspec": {
   "display_name": "Python 3",
   "language": "python",
   "name": "python3"
  },
  "language_info": {
   "codemirror_mode": {
    "name": "ipython",
    "version": 3
   },
   "file_extension": ".py",
   "mimetype": "text/x-python",
   "name": "python",
   "nbconvert_exporter": "python",
   "pygments_lexer": "ipython3",
   "version": "3.8.12"
  }
 },
 "nbformat": 4,
 "nbformat_minor": 5
}
