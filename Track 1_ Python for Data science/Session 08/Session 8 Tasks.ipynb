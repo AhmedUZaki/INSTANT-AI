{
 "cells": [
  {
   "cell_type": "markdown",
   "id": "de243186",
   "metadata": {},
   "source": [
    "# Session 8 Tasks"
   ]
  },
  {
   "cell_type": "markdown",
   "id": "e3cc657f",
   "metadata": {},
   "source": [
    "## Tasks:\n",
    "1. Why and how to use protected visibility in python. \n",
    "2. How do you access a private member from a super-class in a sub class?"
   ]
  },
  {
   "cell_type": "markdown",
   "id": "6c17fb36",
   "metadata": {},
   "source": [
    "## 1. Why and how to use protected visibility in python. \n",
    "\n",
    "\n",
    "## Protected Keyword\n",
    "#### Protected members of a class can be accessed by other members within the class and are also available to their subclasses.\n",
    "\n",
    "### a) Why and when do we use protected instead of private?\n",
    "- Private data members cannot be accessed outside the class, without workaround.\n",
    "\n",
    "- When a class inherits a base class, all the data members except the private get inherited into it.\n",
    "- So if we want data members to be accessible to only sub classes and not privately or publicly accessible, then we can use protected.\n",
    "\n",
    "- Protected is similar to private, It makes class member inaccessible outside the class, but the members can be accessed by any subclass of that class.\n",
    "\n",
    "\n",
    "###  How in Python?\n",
    "- Python has a unique convention to make a member `protected`: Add a prefix `_` (single underscore), This prevents its usage by outside entities unless it is a subclass.\n",
    "\n",
    "\n",
    "\n",
    "\n",
    "<table><tr>\n",
    "<td><img src='https://www.tutorialcup.com/wp-content/uploads/2020/08/AccessModifiers.png?ezimgfmt=ng:webp/ngcb41' width=\"550\"/>\n",
    "</td>\n",
    "   \n",
    "<td><img src='https://miro.medium.com/max/1400/0*Rv7PKQbRdcEpolHA.png' width=\"400\"/> </td>\n",
    "</tr></table>\n",
    "\n"
   ]
  },
  {
   "cell_type": "markdown",
   "id": "60eebff4",
   "metadata": {},
   "source": [
    "### a) How ? \n"
   ]
  },
  {
   "cell_type": "code",
   "execution_count": 1,
   "id": "80cb0b9f",
   "metadata": {
    "ExecuteTime": {
     "end_time": "2022-08-24T16:11:50.891523Z",
     "start_time": "2022-08-24T16:11:50.876562Z"
    }
   },
   "outputs": [],
   "source": [
    "class SuperClass:\n",
    "    \n",
    "    def __init__(self,name):\n",
    "        self.public_member = name # Public Attribute\n",
    "        self._protected_member = name # Protected Attribute  \n",
    "        self.__private_member = name # Private Attribute  \n",
    "        \n",
    "    def printPrivate_member(self):\n",
    "        print(self.__private_member)"
   ]
  },
  {
   "cell_type": "code",
   "execution_count": 2,
   "id": "e4b8c2c0",
   "metadata": {
    "ExecuteTime": {
     "end_time": "2022-08-24T16:11:50.907144Z",
     "start_time": "2022-08-24T16:11:50.892520Z"
    }
   },
   "outputs": [],
   "source": [
    "a = SuperClass(\"Zaki\")"
   ]
  },
  {
   "cell_type": "markdown",
   "id": "fc54a562",
   "metadata": {
    "ExecuteTime": {
     "end_time": "2022-08-24T15:14:50.805703Z",
     "start_time": "2022-08-24T15:14:50.802712Z"
    }
   },
   "source": [
    "### - Try to access each in same Class"
   ]
  },
  {
   "cell_type": "code",
   "execution_count": 3,
   "id": "350b7dfd",
   "metadata": {
    "ExecuteTime": {
     "end_time": "2022-08-24T16:11:50.923101Z",
     "start_time": "2022-08-24T16:11:50.908136Z"
    }
   },
   "outputs": [
    {
     "data": {
      "text/plain": [
       "'Zaki'"
      ]
     },
     "execution_count": 3,
     "metadata": {},
     "output_type": "execute_result"
    }
   ],
   "source": [
    "a.public_member #Can access public_member directily."
   ]
  },
  {
   "cell_type": "code",
   "execution_count": 4,
   "id": "3147a6dd",
   "metadata": {
    "ExecuteTime": {
     "end_time": "2022-08-24T16:11:50.939054Z",
     "start_time": "2022-08-24T16:11:50.924094Z"
    },
    "scrolled": true
   },
   "outputs": [
    {
     "data": {
      "text/plain": [
       "'Zaki'"
      ]
     },
     "execution_count": 4,
     "metadata": {},
     "output_type": "execute_result"
    }
   ],
   "source": [
    "a._protected_member #Can access protected_member directily."
   ]
  },
  {
   "cell_type": "code",
   "execution_count": 5,
   "id": "a5e90601",
   "metadata": {
    "ExecuteTime": {
     "end_time": "2022-08-24T16:11:51.078681Z",
     "start_time": "2022-08-24T16:11:50.940052Z"
    },
    "scrolled": true
   },
   "outputs": [
    {
     "ename": "AttributeError",
     "evalue": "'SuperClass' object has no attribute '__private_member'",
     "output_type": "error",
     "traceback": [
      "\u001b[1;31m---------------------------------------------------------------------------\u001b[0m",
      "\u001b[1;31mAttributeError\u001b[0m                            Traceback (most recent call last)",
      "\u001b[1;32m~\\AppData\\Local\\Temp/ipykernel_6372/3819683785.py\u001b[0m in \u001b[0;36m<module>\u001b[1;34m\u001b[0m\n\u001b[1;32m----> 1\u001b[1;33m \u001b[0ma\u001b[0m\u001b[1;33m.\u001b[0m\u001b[0m__private_member\u001b[0m  \u001b[1;31m#Can not access private_member directily.\u001b[0m\u001b[1;33m\u001b[0m\u001b[1;33m\u001b[0m\u001b[0m\n\u001b[0m",
      "\u001b[1;31mAttributeError\u001b[0m: 'SuperClass' object has no attribute '__private_member'"
     ]
    }
   ],
   "source": [
    "a.__private_member  #Can not access private_member directily."
   ]
  },
  {
   "cell_type": "markdown",
   "id": "20cebef0",
   "metadata": {},
   "source": [
    "### Can access '__Private_member' when using a function in the same class or sub class."
   ]
  },
  {
   "cell_type": "code",
   "execution_count": 6,
   "id": "dc01f50f",
   "metadata": {
    "ExecuteTime": {
     "end_time": "2022-08-24T16:11:59.106016Z",
     "start_time": "2022-08-24T16:11:59.099052Z"
    }
   },
   "outputs": [
    {
     "name": "stdout",
     "output_type": "stream",
     "text": [
      "Zaki\n"
     ]
    }
   ],
   "source": [
    "a.printPrivate_member()  "
   ]
  },
  {
   "cell_type": "markdown",
   "id": "560883d1",
   "metadata": {
    "ExecuteTime": {
     "end_time": "2022-08-24T15:41:17.571118Z",
     "start_time": "2022-08-24T15:41:17.565133Z"
    }
   },
   "source": [
    "### also can access by adding `_Parent (SuperClass)`  before `attribute or method name (__private_member)`  in the same class only"
   ]
  },
  {
   "cell_type": "code",
   "execution_count": 7,
   "id": "6efda401",
   "metadata": {
    "ExecuteTime": {
     "end_time": "2022-08-24T16:12:00.572961Z",
     "start_time": "2022-08-24T16:12:00.567975Z"
    }
   },
   "outputs": [
    {
     "data": {
      "text/plain": [
       "'Zaki'"
      ]
     },
     "execution_count": 7,
     "metadata": {},
     "output_type": "execute_result"
    }
   ],
   "source": [
    "# a.__private_member \n",
    "a._SuperClass__private_member "
   ]
  },
  {
   "cell_type": "markdown",
   "id": "3098068d",
   "metadata": {},
   "source": [
    "## 2. How do you access a private member from a super-class in a sub class?"
   ]
  },
  {
   "cell_type": "code",
   "execution_count": 8,
   "id": "e1452d51",
   "metadata": {
    "ExecuteTime": {
     "end_time": "2022-08-24T16:12:02.295783Z",
     "start_time": "2022-08-24T16:12:02.280822Z"
    }
   },
   "outputs": [],
   "source": [
    "class subclass (SuperClass):\n",
    "    pass"
   ]
  },
  {
   "cell_type": "code",
   "execution_count": 9,
   "id": "70299517",
   "metadata": {
    "ExecuteTime": {
     "end_time": "2022-08-24T16:12:03.439127Z",
     "start_time": "2022-08-24T16:12:03.425164Z"
    }
   },
   "outputs": [],
   "source": [
    "b= subclass('Zaki') "
   ]
  },
  {
   "cell_type": "code",
   "execution_count": 10,
   "id": "7c338d95",
   "metadata": {
    "ExecuteTime": {
     "end_time": "2022-08-24T16:12:04.810730Z",
     "start_time": "2022-08-24T16:12:04.800755Z"
    }
   },
   "outputs": [
    {
     "data": {
      "text/plain": [
       "'Zaki'"
      ]
     },
     "execution_count": 10,
     "metadata": {},
     "output_type": "execute_result"
    }
   ],
   "source": [
    "b.public_member #Can access public_member directily."
   ]
  },
  {
   "cell_type": "code",
   "execution_count": 11,
   "id": "5607afc6",
   "metadata": {
    "ExecuteTime": {
     "end_time": "2022-08-24T16:12:05.995226Z",
     "start_time": "2022-08-24T16:12:05.985249Z"
    }
   },
   "outputs": [
    {
     "data": {
      "text/plain": [
       "'Zaki'"
      ]
     },
     "execution_count": 11,
     "metadata": {},
     "output_type": "execute_result"
    }
   ],
   "source": [
    "b._protected_member  #Can access protected_member directily."
   ]
  },
  {
   "cell_type": "code",
   "execution_count": 12,
   "id": "3aee62db",
   "metadata": {
    "ExecuteTime": {
     "end_time": "2022-08-24T16:12:07.221732Z",
     "start_time": "2022-08-24T16:12:07.215748Z"
    },
    "scrolled": true
   },
   "outputs": [
    {
     "ename": "AttributeError",
     "evalue": "'subclass' object has no attribute '__private_member'",
     "output_type": "error",
     "traceback": [
      "\u001b[1;31m---------------------------------------------------------------------------\u001b[0m",
      "\u001b[1;31mAttributeError\u001b[0m                            Traceback (most recent call last)",
      "\u001b[1;32m~\\AppData\\Local\\Temp/ipykernel_6372/862081457.py\u001b[0m in \u001b[0;36m<module>\u001b[1;34m\u001b[0m\n\u001b[1;32m----> 1\u001b[1;33m \u001b[0mb\u001b[0m\u001b[1;33m.\u001b[0m\u001b[0m__private_member\u001b[0m \u001b[1;31m#Can not access private_member directily.\u001b[0m\u001b[1;33m\u001b[0m\u001b[1;33m\u001b[0m\u001b[0m\n\u001b[0m",
      "\u001b[1;31mAttributeError\u001b[0m: 'subclass' object has no attribute '__private_member'"
     ]
    }
   ],
   "source": [
    "b.__private_member #Can not access private_member directily."
   ]
  },
  {
   "cell_type": "markdown",
   "id": "be248529",
   "metadata": {},
   "source": [
    "### Can access  '__Private_member' when using a function in the same class or sub class."
   ]
  },
  {
   "cell_type": "code",
   "execution_count": 13,
   "id": "e804e125",
   "metadata": {
    "ExecuteTime": {
     "end_time": "2022-08-24T16:12:09.000179Z",
     "start_time": "2022-08-24T16:12:08.985217Z"
    }
   },
   "outputs": [
    {
     "name": "stdout",
     "output_type": "stream",
     "text": [
      "Zaki\n"
     ]
    }
   ],
   "source": [
    "b.printPrivate_member() "
   ]
  },
  {
   "cell_type": "markdown",
   "id": "e5726e47",
   "metadata": {},
   "source": [
    "### also can access by adding `_Parent (_SuperClass)`   before `attribute or method name (__private_member)`   in the sub class."
   ]
  },
  {
   "cell_type": "code",
   "execution_count": 14,
   "id": "93649d19",
   "metadata": {
    "ExecuteTime": {
     "end_time": "2022-08-24T16:12:10.248657Z",
     "start_time": "2022-08-24T16:12:10.240679Z"
    }
   },
   "outputs": [
    {
     "data": {
      "text/plain": [
       "'Zaki'"
      ]
     },
     "execution_count": 14,
     "metadata": {},
     "output_type": "execute_result"
    }
   ],
   "source": [
    "# a._SuperClass__private_member\n",
    "# b._subclass__private_member\n",
    "b._SuperClass__private_member"
   ]
  }
 ],
 "metadata": {
  "kernelspec": {
   "display_name": "Python 3",
   "language": "python",
   "name": "python3"
  },
  "language_info": {
   "codemirror_mode": {
    "name": "ipython",
    "version": 3
   },
   "file_extension": ".py",
   "mimetype": "text/x-python",
   "name": "python",
   "nbconvert_exporter": "python",
   "pygments_lexer": "ipython3",
   "version": "3.8.12"
  }
 },
 "nbformat": 4,
 "nbformat_minor": 5
}
