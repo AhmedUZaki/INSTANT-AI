{
 "cells": [
  {
   "cell_type": "markdown",
   "id": "03bc1e5f",
   "metadata": {},
   "source": [
    "# Session 8 Notebook\n",
    "\n",
    "## Object-Oriented Programming (OOP)"
   ]
  },
  {
   "cell_type": "markdown",
   "id": "23dc1f1c",
   "metadata": {},
   "source": [
    "#### OOP Basic Concepts:\n",
    "\n",
    "1. Abstraction\n",
    "2. Encapsulation\n",
    "3. **Inheritance**\n",
    "4. **Polymorphism**\n",
    "5. **Composition**"
   ]
  },
  {
   "cell_type": "markdown",
   "id": "37b95926",
   "metadata": {
    "ExecuteTime": {
     "end_time": "2022-08-20T16:42:30.272794Z",
     "start_time": "2022-08-20T16:42:30.265811Z"
    }
   },
   "source": [
    "## Applying Inheritance \n",
    "### Same example from session 7 but:\n",
    "- add a new privite function called `__magicAtt`."
   ]
  },
  {
   "cell_type": "code",
   "execution_count": 1,
   "id": "be18a1d5",
   "metadata": {
    "ExecuteTime": {
     "end_time": "2022-08-22T06:26:30.571888Z",
     "start_time": "2022-08-22T06:26:30.554933Z"
    }
   },
   "outputs": [],
   "source": [
    "class BankAccount:\n",
    "\n",
    "    # Constructor\n",
    "    def __init__(self):\n",
    "        print(\"Welcome to our bank\")\n",
    "        # attributes\n",
    "        self.name = input(\"please enter your name: \")\n",
    "        self.__nationalid = int(input(\"please enter your national id: \"))\n",
    "        self.__password = int(input(\"please enter your password: \"))\n",
    "        self.phone = input(\"please enter your phone number: \")\n",
    "        self.__credit = 0\n",
    "\n",
    "    def deposit(self):\n",
    "        amount = float(input(\"please enter how much: \"))\n",
    "        self.__credit = self.__credit + amount\n",
    "\n",
    "    def directDeposit(self, amount):\n",
    "        self.__credit += self.__credit + amount\n",
    "        print(\"Done, your cridit is:\", self.__credit)\n",
    "\n",
    "    def showcredit(self):\n",
    "        userpassword = int(input(\"please enter your new password: \"))\n",
    "        if userpassword == self.__password:\n",
    "            print(\"Your cridit is:\", self.__credit)\n",
    "\n",
    "    def withdraw(self):\n",
    "        amount = float(input(\"please enter how much: \"))\n",
    "        if self.__credit-amount < 0:\n",
    "            print(\"You don't have enough money\")\n",
    "        else:\n",
    "            self.__credit = self.__credit - amount\n",
    "            print(\"Successful operation, your credit now is \", self.__credit)\n",
    "\n",
    "    def changepassword(self):\n",
    "        nid = int(input(\"please enter your national id: \"))\n",
    "        if nid == self.nationalid:\n",
    "            self.password = int(input(\"please enter your new password: \"))\n",
    "\n",
    "    def __magicAtt(self):\n",
    "        self.__magic = 0"
   ]
  },
  {
   "cell_type": "markdown",
   "id": "8022074e",
   "metadata": {},
   "source": [
    "### Define a new Class and inherit all public att./funcs. from Bank Account class."
   ]
  },
  {
   "cell_type": "code",
   "execution_count": 2,
   "id": "af4b11ad",
   "metadata": {
    "ExecuteTime": {
     "end_time": "2022-08-22T06:26:33.188765Z",
     "start_time": "2022-08-22T06:26:33.177794Z"
    }
   },
   "outputs": [],
   "source": [
    "class ALahlyBank(BankAccount):\n",
    "    pass"
   ]
  },
  {
   "cell_type": "code",
   "execution_count": 3,
   "id": "0b4df7c3",
   "metadata": {
    "ExecuteTime": {
     "end_time": "2022-08-22T06:26:40.139410Z",
     "start_time": "2022-08-22T06:26:34.137709Z"
    },
    "scrolled": true
   },
   "outputs": [
    {
     "name": "stdout",
     "output_type": "stream",
     "text": [
      "Welcome to our bank\n",
      "please enter your name: ahmed\n",
      "please enter your national id: 123\n",
      "please enter your password: 123\n",
      "please enter your phone number: 123\n"
     ]
    }
   ],
   "source": [
    "a = ALahlyBank()"
   ]
  },
  {
   "cell_type": "code",
   "execution_count": 4,
   "id": "ba337a1f",
   "metadata": {
    "ExecuteTime": {
     "end_time": "2022-08-22T06:26:43.657052Z",
     "start_time": "2022-08-22T06:26:41.930020Z"
    },
    "scrolled": true
   },
   "outputs": [
    {
     "name": "stdout",
     "output_type": "stream",
     "text": [
      "please enter your new password: 123\n",
      "Your cridit is: 0\n"
     ]
    }
   ],
   "source": [
    "a.showcredit()"
   ]
  },
  {
   "cell_type": "code",
   "execution_count": 5,
   "id": "539a5f8e",
   "metadata": {
    "ExecuteTime": {
     "end_time": "2022-08-22T06:26:46.119490Z",
     "start_time": "2022-08-22T06:26:45.961875Z"
    },
    "scrolled": false
   },
   "outputs": [
    {
     "ename": "AttributeError",
     "evalue": "'ALahlyBank' object has no attribute '__magicAtt'",
     "output_type": "error",
     "traceback": [
      "\u001b[1;31m---------------------------------------------------------------------------\u001b[0m",
      "\u001b[1;31mAttributeError\u001b[0m                            Traceback (most recent call last)",
      "\u001b[1;32m~\\AppData\\Local\\Temp/ipykernel_10824/2400574700.py\u001b[0m in \u001b[0;36m<module>\u001b[1;34m\u001b[0m\n\u001b[1;32m----> 1\u001b[1;33m \u001b[0ma\u001b[0m\u001b[1;33m.\u001b[0m\u001b[0m__magicAtt\u001b[0m\u001b[1;33m(\u001b[0m\u001b[1;33m)\u001b[0m\u001b[1;33m\u001b[0m\u001b[1;33m\u001b[0m\u001b[0m\n\u001b[0m",
      "\u001b[1;31mAttributeError\u001b[0m: 'ALahlyBank' object has no attribute '__magicAtt'"
     ]
    }
   ],
   "source": [
    "a.__magicAtt()"
   ]
  },
  {
   "cell_type": "markdown",
   "id": "4985adc8",
   "metadata": {},
   "source": [
    "### Add some functions to the new Class "
   ]
  },
  {
   "cell_type": "code",
   "execution_count": 6,
   "id": "ceff4120",
   "metadata": {
    "ExecuteTime": {
     "end_time": "2022-08-22T06:26:49.229740Z",
     "start_time": "2022-08-22T06:26:49.217765Z"
    }
   },
   "outputs": [],
   "source": [
    "class ALahlyBank(BankAccount):\n",
    "\n",
    "    def DigitalWallet(self):\n",
    "        print('Your Digital Wallet has been created, please enter its password ')\n",
    "        self.__walletpassword = int(\n",
    "            input(\"please enter your wallet password: \"))\n",
    "        self.__walletCredit = 0\n",
    "\n",
    "    def addtowallet(self):\n",
    "        wpassword = int(input(\"please enter your wallet password: \"))\n",
    "        if wpassword == self.__walletpassword:\n",
    "            amount = float(input(\"please enter how much: \"))\n",
    "            self.__walletCredit += amount\n",
    "            print(\"your wallet credit has been created, your wallet credit now is \",\n",
    "                  self.__walletCredit)"
   ]
  },
  {
   "cell_type": "code",
   "execution_count": 7,
   "id": "3eac3299",
   "metadata": {
    "ExecuteTime": {
     "end_time": "2022-08-22T06:26:55.993689Z",
     "start_time": "2022-08-22T06:26:50.994036Z"
    },
    "scrolled": true
   },
   "outputs": [
    {
     "name": "stdout",
     "output_type": "stream",
     "text": [
      "Welcome to our bank\n",
      "please enter your name: ahmed\n",
      "please enter your national id: 123\n",
      "please enter your password: 123\n",
      "please enter your phone number: 123\n"
     ]
    }
   ],
   "source": [
    "b = ALahlyBank()"
   ]
  },
  {
   "cell_type": "code",
   "execution_count": 8,
   "id": "f1dcf255",
   "metadata": {
    "ExecuteTime": {
     "end_time": "2022-08-22T06:27:00.245587Z",
     "start_time": "2022-08-22T06:26:58.586001Z"
    },
    "scrolled": true
   },
   "outputs": [
    {
     "name": "stdout",
     "output_type": "stream",
     "text": [
      "Your Digital Wallet has been created, please enter its password \n",
      "please enter your wallet password: 123\n"
     ]
    }
   ],
   "source": [
    "b.DigitalWallet()"
   ]
  },
  {
   "cell_type": "code",
   "execution_count": 9,
   "id": "31d1ae53",
   "metadata": {
    "ExecuteTime": {
     "end_time": "2022-08-22T06:27:10.160740Z",
     "start_time": "2022-08-22T06:27:02.249953Z"
    },
    "scrolled": false
   },
   "outputs": [
    {
     "name": "stdout",
     "output_type": "stream",
     "text": [
      "please enter your wallet password: 123\n",
      "please enter how much: 2000\n",
      "your wallet credit has been created, your wallet credit now is  2000.0\n"
     ]
    }
   ],
   "source": [
    "b.addtowallet()  # Digital Wallet credit"
   ]
  },
  {
   "cell_type": "code",
   "execution_count": 10,
   "id": "50eca8d8",
   "metadata": {
    "ExecuteTime": {
     "end_time": "2022-08-22T06:27:14.073937Z",
     "start_time": "2022-08-22T06:27:12.113919Z"
    }
   },
   "outputs": [
    {
     "name": "stdout",
     "output_type": "stream",
     "text": [
      "please enter your new password: 123\n",
      "Your cridit is: 0\n"
     ]
    }
   ],
   "source": [
    "b.showcredit()  # Account credit"
   ]
  },
  {
   "cell_type": "markdown",
   "id": "d201ba04",
   "metadata": {},
   "source": [
    "### Trying to access  a privete attribute (`self.__credit`) from BankAccount Class"
   ]
  },
  {
   "cell_type": "code",
   "execution_count": 15,
   "id": "85f3156c",
   "metadata": {
    "ExecuteTime": {
     "end_time": "2022-08-22T06:27:58.926823Z",
     "start_time": "2022-08-22T06:27:58.913857Z"
    }
   },
   "outputs": [],
   "source": [
    "class ALahlyBank(BankAccount):\n",
    "\n",
    "    def ALahlyBank(self):\n",
    "        print('Your Digital Wallet has been created, please enter its password ')\n",
    "        self.__walletpassword = int(\n",
    "            input(\"please enter your wallet password: \"))\n",
    "        self.__walletCredit = 0\n",
    "\n",
    "    def DigitalWallet(self):\n",
    "        print('Your Digital Wallet has been created, please enter its password ')\n",
    "        self.__walletpassword = int(\n",
    "            input(\"please enter your wallet password: \"))\n",
    "        self.__walletCredit = 0\n",
    "\n",
    "    def addtowallet(self):\n",
    "        wpassword = int(input(\"please enter your wallet password: \"))\n",
    "        if wpassword == self.__walletpassword:\n",
    "            amount = float(input(\"please enter how much: \"))\n",
    "            self.__walletCredit += amount\n",
    "            print(\"your wallet credit has been created, your wallet credit now is \",\n",
    "                  self.__walletCredit)\n",
    "\n",
    "    def showallcredit(self):\n",
    "        print(self.__walletCredit + self.__credit)"
   ]
  },
  {
   "cell_type": "code",
   "execution_count": 16,
   "id": "df33af90",
   "metadata": {
    "ExecuteTime": {
     "end_time": "2022-08-22T06:28:05.110061Z",
     "start_time": "2022-08-22T06:28:00.432934Z"
    }
   },
   "outputs": [
    {
     "name": "stdout",
     "output_type": "stream",
     "text": [
      "Welcome to our bank\n",
      "please enter your name: ahmed\n",
      "please enter your national id: 123\n",
      "please enter your password: 123\n",
      "please enter your phone number: 123\n"
     ]
    }
   ],
   "source": [
    "c = ALahlyBank()"
   ]
  },
  {
   "cell_type": "code",
   "execution_count": 17,
   "id": "0557114c",
   "metadata": {
    "ExecuteTime": {
     "end_time": "2022-08-22T06:28:09.654370Z",
     "start_time": "2022-08-22T06:28:07.185145Z"
    },
    "scrolled": true
   },
   "outputs": [
    {
     "name": "stdout",
     "output_type": "stream",
     "text": [
      "Your Digital Wallet has been created, please enter its password \n",
      "please enter your wallet password: 123\n"
     ]
    }
   ],
   "source": [
    "c.DigitalWallet()"
   ]
  },
  {
   "cell_type": "code",
   "execution_count": 18,
   "id": "e4b0dc5c",
   "metadata": {
    "ExecuteTime": {
     "end_time": "2022-08-22T06:28:11.978685Z",
     "start_time": "2022-08-22T06:28:11.961731Z"
    },
    "scrolled": false
   },
   "outputs": [
    {
     "ename": "AttributeError",
     "evalue": "'ALahlyBank' object has no attribute '_ALahlyBank__credit'",
     "output_type": "error",
     "traceback": [
      "\u001b[1;31m---------------------------------------------------------------------------\u001b[0m",
      "\u001b[1;31mAttributeError\u001b[0m                            Traceback (most recent call last)",
      "\u001b[1;32m~\\AppData\\Local\\Temp/ipykernel_10824/384019155.py\u001b[0m in \u001b[0;36m<module>\u001b[1;34m\u001b[0m\n\u001b[1;32m----> 1\u001b[1;33m \u001b[0mc\u001b[0m\u001b[1;33m.\u001b[0m\u001b[0mshowallcredit\u001b[0m\u001b[1;33m(\u001b[0m\u001b[1;33m)\u001b[0m  \u001b[1;31m# can't access privete attribute (self.__credit) from BankAccount Class\u001b[0m\u001b[1;33m\u001b[0m\u001b[1;33m\u001b[0m\u001b[0m\n\u001b[0m\u001b[0;32m      2\u001b[0m \u001b[1;31m# Task 2: How do you access a private member from a super class in a sub class?\u001b[0m\u001b[1;33m\u001b[0m\u001b[1;33m\u001b[0m\u001b[1;33m\u001b[0m\u001b[0m\n",
      "\u001b[1;32m~\\AppData\\Local\\Temp/ipykernel_10824/2876411437.py\u001b[0m in \u001b[0;36mshowallcredit\u001b[1;34m(self)\u001b[0m\n\u001b[0;32m     22\u001b[0m \u001b[1;33m\u001b[0m\u001b[0m\n\u001b[0;32m     23\u001b[0m     \u001b[1;32mdef\u001b[0m \u001b[0mshowallcredit\u001b[0m\u001b[1;33m(\u001b[0m\u001b[0mself\u001b[0m\u001b[1;33m)\u001b[0m\u001b[1;33m:\u001b[0m\u001b[1;33m\u001b[0m\u001b[1;33m\u001b[0m\u001b[0m\n\u001b[1;32m---> 24\u001b[1;33m         \u001b[0mprint\u001b[0m\u001b[1;33m(\u001b[0m\u001b[0mself\u001b[0m\u001b[1;33m.\u001b[0m\u001b[0m__walletCredit\u001b[0m \u001b[1;33m+\u001b[0m \u001b[0mself\u001b[0m\u001b[1;33m.\u001b[0m\u001b[0m__credit\u001b[0m\u001b[1;33m)\u001b[0m\u001b[1;33m\u001b[0m\u001b[1;33m\u001b[0m\u001b[0m\n\u001b[0m",
      "\u001b[1;31mAttributeError\u001b[0m: 'ALahlyBank' object has no attribute '_ALahlyBank__credit'"
     ]
    }
   ],
   "source": [
    "c.showallcredit()  # can't access privete attribute (self.__credit) from BankAccount Class\n",
    "# Task 2: How do you access a private member from a super class in a sub class?"
   ]
  },
  {
   "cell_type": "markdown",
   "id": "a3c2c01c",
   "metadata": {},
   "source": [
    "### Make a Constructor in subclass"
   ]
  },
  {
   "cell_type": "code",
   "execution_count": 19,
   "id": "0c0a60d7",
   "metadata": {
    "ExecuteTime": {
     "end_time": "2022-08-22T06:28:20.686134Z",
     "start_time": "2022-08-22T06:28:20.674167Z"
    }
   },
   "outputs": [],
   "source": [
    "class ALahlyBank(BankAccount):\n",
    "\n",
    "    def __init__(self):\n",
    "        print(\"Your Ahly bank account has  been created\")\n",
    "\n",
    "    def ALahlyBank(self):\n",
    "        print('Your Digital Wallet has been created, please enter its password ')\n",
    "        self.__walletpassword = int(\n",
    "            input(\"please enter your wallet password: \"))\n",
    "        self.__walletCredit = 0\n",
    "\n",
    "    def addtowallet(self):\n",
    "        wpassword = int(input(\"please enter your wallet password: \"))\n",
    "        if wpassword == self.__walletpassword:\n",
    "            amount = float(input(\"please enter how much: \"))\n",
    "            self.__walletCredit += amount\n",
    "            print(\"your wallet credit has been created, your wallet credit now is \",\n",
    "                  self.__walletCredit)"
   ]
  },
  {
   "cell_type": "code",
   "execution_count": 20,
   "id": "1d8122f0",
   "metadata": {
    "ExecuteTime": {
     "end_time": "2022-08-22T06:28:22.307570Z",
     "start_time": "2022-08-22T06:28:22.289619Z"
    }
   },
   "outputs": [
    {
     "name": "stdout",
     "output_type": "stream",
     "text": [
      "Your Ahly bank account has  been created\n"
     ]
    }
   ],
   "source": [
    "d = ALahlyBank()"
   ]
  },
  {
   "cell_type": "code",
   "execution_count": 21,
   "id": "fe08afd0",
   "metadata": {
    "ExecuteTime": {
     "end_time": "2022-08-22T06:28:25.741176Z",
     "start_time": "2022-08-22T06:28:23.721553Z"
    }
   },
   "outputs": [
    {
     "name": "stdout",
     "output_type": "stream",
     "text": [
      "please enter your new password: 123\n"
     ]
    },
    {
     "ename": "AttributeError",
     "evalue": "'ALahlyBank' object has no attribute '_BankAccount__password'",
     "output_type": "error",
     "traceback": [
      "\u001b[1;31m---------------------------------------------------------------------------\u001b[0m",
      "\u001b[1;31mAttributeError\u001b[0m                            Traceback (most recent call last)",
      "\u001b[1;32m~\\AppData\\Local\\Temp/ipykernel_10824/2438387065.py\u001b[0m in \u001b[0;36m<module>\u001b[1;34m\u001b[0m\n\u001b[1;32m----> 1\u001b[1;33m \u001b[0md\u001b[0m\u001b[1;33m.\u001b[0m\u001b[0mshowcredit\u001b[0m\u001b[1;33m(\u001b[0m\u001b[1;33m)\u001b[0m\u001b[1;33m\u001b[0m\u001b[1;33m\u001b[0m\u001b[0m\n\u001b[0m\u001b[0;32m      2\u001b[0m \u001b[1;31m# If you make a constructor in a subclass it **eliminates** the super-class constructor\u001b[0m\u001b[1;33m\u001b[0m\u001b[1;33m\u001b[0m\u001b[1;33m\u001b[0m\u001b[0m\n",
      "\u001b[1;32m~\\AppData\\Local\\Temp/ipykernel_10824/1271303233.py\u001b[0m in \u001b[0;36mshowcredit\u001b[1;34m(self)\u001b[0m\n\u001b[0;32m     21\u001b[0m     \u001b[1;32mdef\u001b[0m \u001b[0mshowcredit\u001b[0m\u001b[1;33m(\u001b[0m\u001b[0mself\u001b[0m\u001b[1;33m)\u001b[0m\u001b[1;33m:\u001b[0m\u001b[1;33m\u001b[0m\u001b[1;33m\u001b[0m\u001b[0m\n\u001b[0;32m     22\u001b[0m         \u001b[0muserpassword\u001b[0m \u001b[1;33m=\u001b[0m \u001b[0mint\u001b[0m\u001b[1;33m(\u001b[0m\u001b[0minput\u001b[0m\u001b[1;33m(\u001b[0m\u001b[1;34m\"please enter your new password: \"\u001b[0m\u001b[1;33m)\u001b[0m\u001b[1;33m)\u001b[0m\u001b[1;33m\u001b[0m\u001b[1;33m\u001b[0m\u001b[0m\n\u001b[1;32m---> 23\u001b[1;33m         \u001b[1;32mif\u001b[0m \u001b[0muserpassword\u001b[0m \u001b[1;33m==\u001b[0m \u001b[0mself\u001b[0m\u001b[1;33m.\u001b[0m\u001b[0m__password\u001b[0m\u001b[1;33m:\u001b[0m\u001b[1;33m\u001b[0m\u001b[1;33m\u001b[0m\u001b[0m\n\u001b[0m\u001b[0;32m     24\u001b[0m             \u001b[0mprint\u001b[0m\u001b[1;33m(\u001b[0m\u001b[1;34m\"Your cridit is:\"\u001b[0m\u001b[1;33m,\u001b[0m \u001b[0mself\u001b[0m\u001b[1;33m.\u001b[0m\u001b[0m__credit\u001b[0m\u001b[1;33m)\u001b[0m\u001b[1;33m\u001b[0m\u001b[1;33m\u001b[0m\u001b[0m\n\u001b[0;32m     25\u001b[0m \u001b[1;33m\u001b[0m\u001b[0m\n",
      "\u001b[1;31mAttributeError\u001b[0m: 'ALahlyBank' object has no attribute '_BankAccount__password'"
     ]
    }
   ],
   "source": [
    "d.showcredit()\n",
    "# If you make a constructor in a subclass it **eliminates** the super-class constructor"
   ]
  },
  {
   "cell_type": "markdown",
   "id": "2c271a91",
   "metadata": {},
   "source": [
    "### How to invoke the super constructor in Python?"
   ]
  },
  {
   "cell_type": "code",
   "execution_count": 22,
   "id": "6642f75f",
   "metadata": {
    "ExecuteTime": {
     "end_time": "2022-08-22T06:28:33.047387Z",
     "start_time": "2022-08-22T06:28:33.026439Z"
    },
    "scrolled": true
   },
   "outputs": [
    {
     "name": "stdout",
     "output_type": "stream",
     "text": [
      "hello\n",
      "world\n"
     ]
    },
    {
     "data": {
      "text/plain": [
       "<__main__.B at 0x1dd7b21c340>"
      ]
     },
     "execution_count": 22,
     "metadata": {},
     "output_type": "execute_result"
    }
   ],
   "source": [
    "class A(object):\n",
    "    def __init__(self):\n",
    "        print(\"world\")\n",
    "\n",
    "\n",
    "class B(A):\n",
    "    def __init__(self):\n",
    "        print(\"hello\")\n",
    "        super().__init__()\n",
    "\n",
    "\n",
    "B()"
   ]
  },
  {
   "cell_type": "code",
   "execution_count": 23,
   "id": "c5e7f5b5",
   "metadata": {
    "ExecuteTime": {
     "end_time": "2022-08-22T06:28:35.039624Z",
     "start_time": "2022-08-22T06:28:35.025660Z"
    }
   },
   "outputs": [],
   "source": [
    "class ALahlyBank(BankAccount):\n",
    "\n",
    "    def __init__(self):\n",
    "        print(\"Your Ahly bank account has  been created\")\n",
    "        super().__init__()\n",
    "\n",
    "    def ALahlyBank(self):\n",
    "        print('Your Digital Wallet has been created, please enter its password ')\n",
    "        self.__walletpassword = int(\n",
    "            input(\"please enter your wallet password: \"))\n",
    "        self.__walletCredit = 0\n",
    "\n",
    "    def addtowallet(self):\n",
    "        wpassword = int(input(\"please enter your wallet password: \"))\n",
    "        if wpassword == self.__walletpassword:\n",
    "            amount = float(input(\"please enter how much: \"))\n",
    "            self.__walletCredit += amount\n",
    "            print(\"your wallet credit has been created, your wallet credit now is \",\n",
    "                  self.__walletCredit)"
   ]
  },
  {
   "cell_type": "code",
   "execution_count": 25,
   "id": "26d21731",
   "metadata": {
    "ExecuteTime": {
     "end_time": "2022-08-22T06:28:53.490807Z",
     "start_time": "2022-08-22T06:28:48.177867Z"
    },
    "scrolled": true
   },
   "outputs": [
    {
     "name": "stdout",
     "output_type": "stream",
     "text": [
      "Your Ahly bank account has  been created\n",
      "Welcome to our bank\n",
      "please enter your name: ahmed\n",
      "please enter your national id: 123\n",
      "please enter your password: 123\n",
      "please enter your phone number: 123\n"
     ]
    }
   ],
   "source": [
    "e = ALahlyBank()"
   ]
  },
  {
   "cell_type": "code",
   "execution_count": 26,
   "id": "aeaaa3ee",
   "metadata": {
    "ExecuteTime": {
     "end_time": "2022-08-22T06:28:57.858120Z",
     "start_time": "2022-08-22T06:28:56.913754Z"
    },
    "scrolled": false
   },
   "outputs": [
    {
     "name": "stdout",
     "output_type": "stream",
     "text": [
      "please enter your new password: 123\n",
      "Your cridit is: 0\n"
     ]
    }
   ],
   "source": [
    "e.showcredit()"
   ]
  },
  {
   "cell_type": "markdown",
   "id": "2a393dbe",
   "metadata": {},
   "source": [
    "## Applying Polymorphism "
   ]
  },
  {
   "cell_type": "code",
   "execution_count": 27,
   "id": "330cea54",
   "metadata": {
    "ExecuteTime": {
     "end_time": "2022-08-22T06:29:08.808846Z",
     "start_time": "2022-08-22T06:29:08.793886Z"
    }
   },
   "outputs": [],
   "source": [
    "class D:\n",
    "\n",
    "    def play(self):\n",
    "        print(\"I'm playing\")"
   ]
  },
  {
   "cell_type": "code",
   "execution_count": 28,
   "id": "ab83c3d5",
   "metadata": {
    "ExecuteTime": {
     "end_time": "2022-08-22T06:29:11.131565Z",
     "start_time": "2022-08-22T06:29:11.121591Z"
    }
   },
   "outputs": [],
   "source": [
    "class C(D):\n",
    "    # override.\n",
    "    def play(self):\n",
    "        print(\"I'm from class B\")\n",
    "\n",
    "\n",
    "c = C()"
   ]
  },
  {
   "cell_type": "code",
   "execution_count": 29,
   "id": "52b8c84b",
   "metadata": {
    "ExecuteTime": {
     "end_time": "2022-08-22T06:29:12.533812Z",
     "start_time": "2022-08-22T06:29:12.528825Z"
    }
   },
   "outputs": [
    {
     "name": "stdout",
     "output_type": "stream",
     "text": [
      "I'm from class B\n"
     ]
    }
   ],
   "source": [
    "c.play()"
   ]
  },
  {
   "cell_type": "code",
   "execution_count": 30,
   "id": "afaea2b7",
   "metadata": {
    "ExecuteTime": {
     "end_time": "2022-08-22T06:29:13.922097Z",
     "start_time": "2022-08-22T06:29:13.913120Z"
    }
   },
   "outputs": [],
   "source": [
    "class C(D):\n",
    "\n",
    "    # override.\n",
    "    def play(self):\n",
    "        pass\n",
    "\n",
    "\n",
    "c = C()"
   ]
  },
  {
   "cell_type": "code",
   "execution_count": 36,
   "id": "5b85e254",
   "metadata": {
    "ExecuteTime": {
     "end_time": "2022-08-22T06:29:49.291378Z",
     "start_time": "2022-08-22T06:29:49.281405Z"
    }
   },
   "outputs": [],
   "source": [
    "c.play()  # no output"
   ]
  },
  {
   "cell_type": "markdown",
   "id": "b4aa7de6",
   "metadata": {},
   "source": [
    "#### Trying to overload in Python"
   ]
  },
  {
   "cell_type": "code",
   "execution_count": 32,
   "id": "02f835bd",
   "metadata": {
    "ExecuteTime": {
     "end_time": "2022-08-22T06:29:22.660606Z",
     "start_time": "2022-08-22T06:29:22.657608Z"
    }
   },
   "outputs": [],
   "source": [
    "class D:\n",
    "\n",
    "    def play(self):\n",
    "        print(\"I'm playing\")\n",
    "\n",
    "    def tax(self):\n",
    "        print(\"this is tax\")"
   ]
  },
  {
   "cell_type": "code",
   "execution_count": 33,
   "id": "8093acbc",
   "metadata": {
    "ExecuteTime": {
     "end_time": "2022-08-22T06:29:23.926494Z",
     "start_time": "2022-08-22T06:29:23.922506Z"
    }
   },
   "outputs": [],
   "source": [
    "class D:\n",
    "\n",
    "    def play(self):\n",
    "        print(\"I'm playing\")\n",
    "\n",
    "    def tax(self, parameter):\n",
    "        print(\"this is tax 2 \")"
   ]
  },
  {
   "cell_type": "code",
   "execution_count": 34,
   "id": "6782fa7d",
   "metadata": {
    "ExecuteTime": {
     "end_time": "2022-08-22T06:29:24.810597Z",
     "start_time": "2022-08-22T06:29:24.793639Z"
    }
   },
   "outputs": [],
   "source": [
    "d = D()"
   ]
  },
  {
   "cell_type": "code",
   "execution_count": 35,
   "id": "f01ed2cd",
   "metadata": {
    "ExecuteTime": {
     "end_time": "2022-08-22T06:29:26.691910Z",
     "start_time": "2022-08-22T06:29:26.680941Z"
    }
   },
   "outputs": [
    {
     "ename": "TypeError",
     "evalue": "tax() missing 1 required positional argument: 'parameter'",
     "output_type": "error",
     "traceback": [
      "\u001b[1;31m---------------------------------------------------------------------------\u001b[0m",
      "\u001b[1;31mTypeError\u001b[0m                                 Traceback (most recent call last)",
      "\u001b[1;32m~\\AppData\\Local\\Temp/ipykernel_10824/1837442146.py\u001b[0m in \u001b[0;36m<module>\u001b[1;34m\u001b[0m\n\u001b[1;32m----> 1\u001b[1;33m \u001b[0md\u001b[0m\u001b[1;33m.\u001b[0m\u001b[0mtax\u001b[0m\u001b[1;33m(\u001b[0m\u001b[1;33m)\u001b[0m\u001b[1;33m\u001b[0m\u001b[1;33m\u001b[0m\u001b[0m\n\u001b[0m\u001b[0;32m      2\u001b[0m '''\n\u001b[0;32m      3\u001b[0m \u001b[0mThe\u001b[0m \u001b[0mfirst\u001b[0m \u001b[0mfunction\u001b[0m \u001b[1;32mis\u001b[0m \u001b[0mcanceled\u001b[0m \u001b[0mbecause\u001b[0m \u001b[0mwe\u001b[0m \u001b[0mmake\u001b[0m \u001b[0ma\u001b[0m \u001b[0mnew\u001b[0m \u001b[0mfunction\u001b[0m \u001b[1;32mwith\u001b[0m \u001b[0mthe\u001b[0m \u001b[0msame\u001b[0m \u001b[0mname\u001b[0m\u001b[1;33m,\u001b[0m\u001b[1;33m\u001b[0m\u001b[1;33m\u001b[0m\u001b[0m\n\u001b[0;32m      4\u001b[0m \u001b[0malthough\u001b[0m \u001b[0mthere\u001b[0m \u001b[0mare\u001b[0m \u001b[0mdifferent\u001b[0m \u001b[0mparameters\u001b[0m\u001b[1;33m.\u001b[0m\u001b[1;33m\u001b[0m\u001b[1;33m\u001b[0m\u001b[0m\n\u001b[0;32m      5\u001b[0m '''\n",
      "\u001b[1;31mTypeError\u001b[0m: tax() missing 1 required positional argument: 'parameter'"
     ]
    }
   ],
   "source": [
    "d.tax()\n",
    "'''\n",
    "The first function is canceled because we make a new function with the same name, \n",
    "although there are different parameters.\n",
    "'''\n",
    "# There is no overloading in Python"
   ]
  },
  {
   "cell_type": "markdown",
   "id": "c5b34d33",
   "metadata": {},
   "source": [
    "## Applying Composition "
   ]
  },
  {
   "cell_type": "code",
   "execution_count": 48,
   "id": "fb10d92c",
   "metadata": {
    "ExecuteTime": {
     "end_time": "2022-08-23T16:59:19.847803Z",
     "start_time": "2022-08-23T16:59:19.833840Z"
    }
   },
   "outputs": [],
   "source": [
    "class composition:\n",
    "\n",
    "    def __init__(self):\n",
    "        self.__att = dict()\n",
    "        self.__methods = dict()\n",
    "\n",
    "    def addatt(self, attname, attvalue):\n",
    "        self.__att[attname] = attvalue\n",
    "\n",
    "    def removeatt(self, attname):\n",
    "        del self.__att[attname]\n",
    "\n",
    "    def printatt(self, attname):\n",
    "        print(self.__att[attname])\n",
    "\n",
    "    def printallatt(self):\n",
    "        for i in self.__att:\n",
    "            print(i)\n",
    "\n",
    "    def addmethod(self, methname, method):\n",
    "        self.__methods[methname] = method\n",
    "\n",
    "    def removemethod(self, methodname):\n",
    "        del self.__methods[methodname]\n",
    "\n",
    "    def callmethod(self, methname):\n",
    "        self.__methods[methname]()  # () to make the function callable\n",
    "\n",
    "    def printallmethods(self):\n",
    "        for i in self.__methods:\n",
    "            print(i)"
   ]
  },
  {
   "cell_type": "code",
   "execution_count": 49,
   "id": "4006d95d",
   "metadata": {
    "ExecuteTime": {
     "end_time": "2022-08-23T16:59:22.071571Z",
     "start_time": "2022-08-23T16:59:22.065586Z"
    }
   },
   "outputs": [],
   "source": [
    "a = composition()"
   ]
  },
  {
   "cell_type": "code",
   "execution_count": 50,
   "id": "d8f77e88",
   "metadata": {
    "ExecuteTime": {
     "end_time": "2022-08-23T16:59:22.795912Z",
     "start_time": "2022-08-23T16:59:22.777956Z"
    }
   },
   "outputs": [],
   "source": [
    "a.addatt(\"name\", \"Ahmed\")\n",
    "a.addatt(\"age\", \"23\")\n",
    "a.addatt(\"phone\", \"1234\")"
   ]
  },
  {
   "cell_type": "code",
   "execution_count": 51,
   "id": "a6c5e165",
   "metadata": {
    "ExecuteTime": {
     "end_time": "2022-08-23T16:59:24.417642Z",
     "start_time": "2022-08-23T16:59:24.411659Z"
    },
    "scrolled": false
   },
   "outputs": [
    {
     "name": "stdout",
     "output_type": "stream",
     "text": [
      "Ahmed\n"
     ]
    }
   ],
   "source": [
    "a.printatt(\"name\")"
   ]
  },
  {
   "cell_type": "code",
   "execution_count": 52,
   "id": "87592359",
   "metadata": {
    "ExecuteTime": {
     "end_time": "2022-08-23T16:59:25.988563Z",
     "start_time": "2022-08-23T16:59:25.978590Z"
    },
    "scrolled": true
   },
   "outputs": [
    {
     "name": "stdout",
     "output_type": "stream",
     "text": [
      "name\n",
      "age\n",
      "phone\n"
     ]
    }
   ],
   "source": [
    "a.printallatt()"
   ]
  },
  {
   "cell_type": "code",
   "execution_count": 53,
   "id": "d0516e5a",
   "metadata": {
    "ExecuteTime": {
     "end_time": "2022-08-23T16:59:40.658118Z",
     "start_time": "2022-08-23T16:59:40.647148Z"
    }
   },
   "outputs": [],
   "source": [
    "a.removeatt(\"name\")"
   ]
  },
  {
   "cell_type": "code",
   "execution_count": 54,
   "id": "9f5e697b",
   "metadata": {
    "ExecuteTime": {
     "end_time": "2022-08-23T16:59:46.608300Z",
     "start_time": "2022-08-23T16:59:46.599323Z"
    },
    "scrolled": true
   },
   "outputs": [
    {
     "name": "stdout",
     "output_type": "stream",
     "text": [
      "age\n",
      "phone\n"
     ]
    }
   ],
   "source": [
    "a.printallatt()"
   ]
  },
  {
   "cell_type": "markdown",
   "id": "662ed0af",
   "metadata": {},
   "source": [
    "#### To add new functions:\n",
    "1. Define the function.\n",
    "2. Add it by `addmethod()` function."
   ]
  },
  {
   "cell_type": "code",
   "execution_count": 56,
   "id": "987779e3",
   "metadata": {
    "ExecuteTime": {
     "end_time": "2022-08-23T19:19:17.015878Z",
     "start_time": "2022-08-23T19:19:17.000917Z"
    }
   },
   "outputs": [],
   "source": [
    "def printsquare():\n",
    "    x = int(input())\n",
    "    print(x*x)"
   ]
  },
  {
   "cell_type": "code",
   "execution_count": 57,
   "id": "3e2e0091",
   "metadata": {
    "ExecuteTime": {
     "end_time": "2022-08-23T19:20:16.159016Z",
     "start_time": "2022-08-23T19:20:16.143058Z"
    }
   },
   "outputs": [],
   "source": [
    "a.addmethod('square', printsquare)"
   ]
  },
  {
   "cell_type": "code",
   "execution_count": 58,
   "id": "cca717b4",
   "metadata": {
    "ExecuteTime": {
     "end_time": "2022-08-23T19:20:36.528006Z",
     "start_time": "2022-08-23T19:20:34.895030Z"
    },
    "scrolled": true
   },
   "outputs": [
    {
     "name": "stdout",
     "output_type": "stream",
     "text": [
      "4\n",
      "16\n"
     ]
    }
   ],
   "source": [
    "a.callmethod('square')"
   ]
  },
  {
   "cell_type": "code",
   "execution_count": 59,
   "id": "8edfc8e3",
   "metadata": {
    "ExecuteTime": {
     "end_time": "2022-08-23T19:20:46.451277Z",
     "start_time": "2022-08-23T19:20:46.447288Z"
    },
    "scrolled": true
   },
   "outputs": [
    {
     "name": "stdout",
     "output_type": "stream",
     "text": [
      "square\n"
     ]
    }
   ],
   "source": [
    "a.printallmethods()"
   ]
  },
  {
   "cell_type": "markdown",
   "id": "ae0de0f8",
   "metadata": {},
   "source": [
    "#### All Attributes, Methods are into the object only, But the Class itself is empty."
   ]
  },
  {
   "cell_type": "code",
   "execution_count": 60,
   "id": "0bf288a7",
   "metadata": {
    "ExecuteTime": {
     "end_time": "2022-08-23T19:22:18.403323Z",
     "start_time": "2022-08-23T19:22:18.399334Z"
    }
   },
   "outputs": [],
   "source": [
    "b = composition()"
   ]
  },
  {
   "cell_type": "code",
   "execution_count": 61,
   "id": "35dd9045",
   "metadata": {
    "ExecuteTime": {
     "end_time": "2022-08-23T19:22:28.359116Z",
     "start_time": "2022-08-23T19:22:28.344152Z"
    }
   },
   "outputs": [],
   "source": [
    "b.printallatt()"
   ]
  },
  {
   "cell_type": "code",
   "execution_count": 63,
   "id": "8daaee3e",
   "metadata": {
    "ExecuteTime": {
     "end_time": "2022-08-23T19:22:39.672126Z",
     "start_time": "2022-08-23T19:22:39.655139Z"
    }
   },
   "outputs": [],
   "source": [
    "b.printallmethods()"
   ]
  }
 ],
 "metadata": {
  "kernelspec": {
   "display_name": "Python 3",
   "language": "python",
   "name": "python3"
  },
  "language_info": {
   "codemirror_mode": {
    "name": "ipython",
    "version": 3
   },
   "file_extension": ".py",
   "mimetype": "text/x-python",
   "name": "python",
   "nbconvert_exporter": "python",
   "pygments_lexer": "ipython3",
   "version": "3.8.12"
  }
 },
 "nbformat": 4,
 "nbformat_minor": 5
}
