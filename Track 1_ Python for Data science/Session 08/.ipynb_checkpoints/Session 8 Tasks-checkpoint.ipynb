{
 "cells": [
  {
   "cell_type": "markdown",
   "id": "de243186",
   "metadata": {},
   "source": [
    "# Session 8 Tasks"
   ]
  },
  {
   "cell_type": "markdown",
   "id": "e3cc657f",
   "metadata": {},
   "source": [
    "## Tasks:\n",
    "1. Why and how to use protected visibility in python. \n",
    "2. How do you access a private member from a super-class in a sub class?"
   ]
  },
  {
   "cell_type": "markdown",
   "id": "74561dcf",
   "metadata": {},
   "source": [
    "## 1. Why and how to use protected visibility in python. \n",
    "\n",
    "### a) Why ? \n",
    "\n",
    "<table><tr>\n",
    "<td><img src='https://www.tutorialcup.com/wp-content/uploads/2020/08/AccessModifiers.png?ezimgfmt=ng:webp/ngcb41' width=\"550\"/>\n",
    "</td>\n",
    "   \n",
    "<td><img src='https://miro.medium.com/max/1400/0*Rv7PKQbRdcEpolHA.png' width=\"400\"/> </td>\n",
    "</tr></table>\n",
    "\n"
   ]
  },
  {
   "cell_type": "markdown",
   "id": "df021cef",
   "metadata": {},
   "source": [
    "### Protected Keyword\n",
    "#### protected members of a class can be accessed by other members within the class and are also available to their subclasses.\n",
    "\n",
    "No other entity can access these members. In order to do so, they can inherit the parent class. \n",
    "\n",
    "Python has a unique convention to make a member `protected`:\n",
    "Add a prefix `_` (single underscore).\n",
    "\n",
    "This prevents its usage by outside entities unless it is a subclass."
   ]
  },
  {
   "cell_type": "markdown",
   "id": "3d8d1e59",
   "metadata": {},
   "source": []
  },
  {
   "cell_type": "code",
   "execution_count": null,
   "id": "e5ccd8ca",
   "metadata": {},
   "outputs": [],
   "source": []
  }
 ],
 "metadata": {
  "kernelspec": {
   "display_name": "Python 3",
   "language": "python",
   "name": "python3"
  },
  "language_info": {
   "codemirror_mode": {
    "name": "ipython",
    "version": 3
   },
   "file_extension": ".py",
   "mimetype": "text/x-python",
   "name": "python",
   "nbconvert_exporter": "python",
   "pygments_lexer": "ipython3",
   "version": "3.8.12"
  }
 },
 "nbformat": 4,
 "nbformat_minor": 5
}
