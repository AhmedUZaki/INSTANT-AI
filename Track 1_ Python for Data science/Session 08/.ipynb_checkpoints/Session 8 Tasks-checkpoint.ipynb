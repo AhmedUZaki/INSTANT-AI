{
 "cells": [
  {
   "cell_type": "markdown",
   "id": "de243186",
   "metadata": {},
   "source": [
    "# Session 8 Tasks"
   ]
  },
  {
   "cell_type": "markdown",
   "id": "e3cc657f",
   "metadata": {},
   "source": [
    "## Tasks:\n",
    "1. Why and how to use protected visibility in python. \n",
    "2. How do you access a private member from a super-class in a sub class?"
   ]
  },
  {
   "cell_type": "markdown",
   "id": "923ef825",
   "metadata": {},
   "source": [
    "## 1. Why and how to use protected visibility in python. \n",
    "\n",
    "### a) Why ? \n",
    "\n",
    "\n",
    "## Protected Keyword\n",
    "#### Protected members of a class can be accessed by other members within the class and are also available to their subclasses.\n",
    "\n",
    "- No other entity can access these members. In order to do so, they can inherit the parent class. \n",
    "\n",
    "- Python has a unique convention to make a member `protected`: Add a prefix `_` (single underscore).\n",
    "\n",
    "This prevents its usage by outside entities unless it is a subclass.\n",
    "\n",
    "### Explain why and when do we use protected instead of private.\n",
    "- Private data members cannot be accessed outside the class.\n",
    "\n",
    "- When a class inherits a base class, all the data members except the private get inherited into it.\n",
    "- So if we want data members to be accessible to only sub classes and not privately or publicly accessible, then we can use protected.\n",
    "\n",
    "- Protected is similar to private, It makes class member inaccessible outside the class, but the members can be accessed by any subclass of that class.\n",
    "\n",
    "\n",
    "<table><tr>\n",
    "<td><img src='https://www.tutorialcup.com/wp-content/uploads/2020/08/AccessModifiers.png?ezimgfmt=ng:webp/ngcb41' width=\"550\"/>\n",
    "</td>\n",
    "   \n",
    "<td><img src='https://miro.medium.com/max/1400/0*Rv7PKQbRdcEpolHA.png' width=\"400\"/> </td>\n",
    "</tr></table>\n",
    "\n"
   ]
  },
  {
   "cell_type": "markdown",
   "id": "ad2abe02",
   "metadata": {},
   "source": [
    "### a) How ? \n"
   ]
  },
  {
   "cell_type": "code",
   "execution_count": 1,
   "id": "3b7db403",
   "metadata": {
    "ExecuteTime": {
     "end_time": "2022-08-24T15:56:18.026849Z",
     "start_time": "2022-08-24T15:56:18.012895Z"
    }
   },
   "outputs": [],
   "source": [
    "class Modifiers:\n",
    "    \n",
    "    def __init__(self,name):\n",
    "        self.public_member = name # Public Attribute\n",
    "        self._protected_member = name # Protected Attribute  \n",
    "        self.__private_member = name # Private Attribute  \n",
    "        \n",
    "    def printPrivate_member(self):\n",
    "        print(self.__private_member)"
   ]
  },
  {
   "cell_type": "code",
   "execution_count": 2,
   "id": "8610351b",
   "metadata": {
    "ExecuteTime": {
     "end_time": "2022-08-24T15:56:18.042810Z",
     "start_time": "2022-08-24T15:56:18.027846Z"
    }
   },
   "outputs": [],
   "source": [
    "a = Modifiers(\"Zaki\")"
   ]
  },
  {
   "cell_type": "markdown",
   "id": "df3ed225",
   "metadata": {
    "ExecuteTime": {
     "end_time": "2022-08-24T15:14:50.805703Z",
     "start_time": "2022-08-24T15:14:50.802712Z"
    }
   },
   "source": [
    "### - Try to access each in same Class"
   ]
  },
  {
   "cell_type": "code",
   "execution_count": 3,
   "id": "0076adce",
   "metadata": {
    "ExecuteTime": {
     "end_time": "2022-08-24T15:56:18.058763Z",
     "start_time": "2022-08-24T15:56:18.043803Z"
    }
   },
   "outputs": [
    {
     "data": {
      "text/plain": [
       "'Zaki'"
      ]
     },
     "execution_count": 3,
     "metadata": {},
     "output_type": "execute_result"
    }
   ],
   "source": [
    "a.public_member #Can access public_member directily."
   ]
  },
  {
   "cell_type": "code",
   "execution_count": 4,
   "id": "14f829a8",
   "metadata": {
    "ExecuteTime": {
     "end_time": "2022-08-24T15:56:18.073723Z",
     "start_time": "2022-08-24T15:56:18.059760Z"
    },
    "scrolled": true
   },
   "outputs": [
    {
     "data": {
      "text/plain": [
       "'Zaki'"
      ]
     },
     "execution_count": 4,
     "metadata": {},
     "output_type": "execute_result"
    }
   ],
   "source": [
    "a._protected_member #Can access protected_member directily."
   ]
  },
  {
   "cell_type": "code",
   "execution_count": 5,
   "id": "d59f00be",
   "metadata": {
    "ExecuteTime": {
     "end_time": "2022-08-24T15:56:18.213349Z",
     "start_time": "2022-08-24T15:56:18.074721Z"
    },
    "scrolled": true
   },
   "outputs": [
    {
     "ename": "AttributeError",
     "evalue": "'Modifiers' object has no attribute '__private_member'",
     "output_type": "error",
     "traceback": [
      "\u001b[1;31m---------------------------------------------------------------------------\u001b[0m",
      "\u001b[1;31mAttributeError\u001b[0m                            Traceback (most recent call last)",
      "\u001b[1;32m~\\AppData\\Local\\Temp/ipykernel_23160/3819683785.py\u001b[0m in \u001b[0;36m<module>\u001b[1;34m\u001b[0m\n\u001b[1;32m----> 1\u001b[1;33m \u001b[0ma\u001b[0m\u001b[1;33m.\u001b[0m\u001b[0m__private_member\u001b[0m  \u001b[1;31m#Can not access private_member directily.\u001b[0m\u001b[1;33m\u001b[0m\u001b[1;33m\u001b[0m\u001b[0m\n\u001b[0m",
      "\u001b[1;31mAttributeError\u001b[0m: 'Modifiers' object has no attribute '__private_member'"
     ]
    }
   ],
   "source": [
    "a.__private_member  #Can not access private_member directily."
   ]
  },
  {
   "cell_type": "markdown",
   "id": "c4fb50e5",
   "metadata": {},
   "source": [
    "### Can access '__Private_member' when using a function in the same class or sub class."
   ]
  },
  {
   "cell_type": "code",
   "execution_count": 6,
   "id": "81ad59aa",
   "metadata": {
    "ExecuteTime": {
     "end_time": "2022-08-24T15:56:24.247197Z",
     "start_time": "2022-08-24T15:56:24.242211Z"
    }
   },
   "outputs": [
    {
     "name": "stdout",
     "output_type": "stream",
     "text": [
      "Zaki\n"
     ]
    }
   ],
   "source": [
    "a.printPrivate_member()  "
   ]
  },
  {
   "cell_type": "markdown",
   "id": "1343d771",
   "metadata": {
    "ExecuteTime": {
     "end_time": "2022-08-24T15:41:17.571118Z",
     "start_time": "2022-08-24T15:41:17.565133Z"
    }
   },
   "source": [
    "### also can access by adding `_Parent (_Modifiers)`  before `attribute or method name (__private_member)`  in the same class only"
   ]
  },
  {
   "cell_type": "code",
   "execution_count": 7,
   "id": "265feb2d",
   "metadata": {
    "ExecuteTime": {
     "end_time": "2022-08-24T15:56:25.917349Z",
     "start_time": "2022-08-24T15:56:25.906375Z"
    }
   },
   "outputs": [
    {
     "data": {
      "text/plain": [
       "'Zaki'"
      ]
     },
     "execution_count": 7,
     "metadata": {},
     "output_type": "execute_result"
    }
   ],
   "source": [
    "# a.__private_member \n",
    "a._Modifiers__private_member "
   ]
  },
  {
   "cell_type": "markdown",
   "id": "3d122166",
   "metadata": {},
   "source": [
    "## 2. How do you access a private member from a super-class in a sub class?"
   ]
  },
  {
   "cell_type": "code",
   "execution_count": 8,
   "id": "0e967ccf",
   "metadata": {
    "ExecuteTime": {
     "end_time": "2022-08-24T15:56:38.403730Z",
     "start_time": "2022-08-24T15:56:38.386772Z"
    }
   },
   "outputs": [],
   "source": [
    "class subclass (Modifiers):\n",
    "    pass"
   ]
  },
  {
   "cell_type": "code",
   "execution_count": 9,
   "id": "949b3eb4",
   "metadata": {
    "ExecuteTime": {
     "end_time": "2022-08-24T15:56:39.360457Z",
     "start_time": "2022-08-24T15:56:39.355470Z"
    }
   },
   "outputs": [],
   "source": [
    "b= subclass('Zaki') "
   ]
  },
  {
   "cell_type": "code",
   "execution_count": 10,
   "id": "8b9ae079",
   "metadata": {
    "ExecuteTime": {
     "end_time": "2022-08-24T15:56:41.034128Z",
     "start_time": "2022-08-24T15:56:41.026981Z"
    }
   },
   "outputs": [
    {
     "data": {
      "text/plain": [
       "'Zaki'"
      ]
     },
     "execution_count": 10,
     "metadata": {},
     "output_type": "execute_result"
    }
   ],
   "source": [
    "b.public_member #Can access public_member directily."
   ]
  },
  {
   "cell_type": "code",
   "execution_count": 11,
   "id": "21d7e0a5",
   "metadata": {
    "ExecuteTime": {
     "end_time": "2022-08-24T15:56:42.378713Z",
     "start_time": "2022-08-24T15:56:42.370721Z"
    }
   },
   "outputs": [
    {
     "data": {
      "text/plain": [
       "'Zaki'"
      ]
     },
     "execution_count": 11,
     "metadata": {},
     "output_type": "execute_result"
    }
   ],
   "source": [
    "b._protected_member  #Can access protected_member directily."
   ]
  },
  {
   "cell_type": "code",
   "execution_count": 12,
   "id": "1415ee34",
   "metadata": {
    "ExecuteTime": {
     "end_time": "2022-08-24T15:56:43.961048Z",
     "start_time": "2022-08-24T15:56:43.954066Z"
    },
    "scrolled": true
   },
   "outputs": [
    {
     "ename": "AttributeError",
     "evalue": "'subclass' object has no attribute '__private_member'",
     "output_type": "error",
     "traceback": [
      "\u001b[1;31m---------------------------------------------------------------------------\u001b[0m",
      "\u001b[1;31mAttributeError\u001b[0m                            Traceback (most recent call last)",
      "\u001b[1;32m~\\AppData\\Local\\Temp/ipykernel_23160/862081457.py\u001b[0m in \u001b[0;36m<module>\u001b[1;34m\u001b[0m\n\u001b[1;32m----> 1\u001b[1;33m \u001b[0mb\u001b[0m\u001b[1;33m.\u001b[0m\u001b[0m__private_member\u001b[0m \u001b[1;31m#Can not access private_member directily.\u001b[0m\u001b[1;33m\u001b[0m\u001b[1;33m\u001b[0m\u001b[0m\n\u001b[0m",
      "\u001b[1;31mAttributeError\u001b[0m: 'subclass' object has no attribute '__private_member'"
     ]
    }
   ],
   "source": [
    "b.__private_member #Can not access private_member directily."
   ]
  },
  {
   "cell_type": "markdown",
   "id": "48b61cb1",
   "metadata": {},
   "source": [
    "### Can access  '__Private_member' when using a function in the same class or sub class."
   ]
  },
  {
   "cell_type": "code",
   "execution_count": 13,
   "id": "6f19e4a5",
   "metadata": {
    "ExecuteTime": {
     "end_time": "2022-08-24T15:56:46.710583Z",
     "start_time": "2022-08-24T15:56:46.700604Z"
    }
   },
   "outputs": [
    {
     "name": "stdout",
     "output_type": "stream",
     "text": [
      "Zaki\n"
     ]
    }
   ],
   "source": [
    "b.printPrivate_member() "
   ]
  },
  {
   "cell_type": "markdown",
   "id": "c66168ac",
   "metadata": {},
   "source": [
    "### also can access by adding `_Parent (_Modifiers)`   before `attribute or method name (__private_member)`   in the sub class."
   ]
  },
  {
   "cell_type": "code",
   "execution_count": 14,
   "id": "339c694b",
   "metadata": {
    "ExecuteTime": {
     "end_time": "2022-08-24T15:56:48.416460Z",
     "start_time": "2022-08-24T15:56:48.411473Z"
    }
   },
   "outputs": [
    {
     "data": {
      "text/plain": [
       "'Zaki'"
      ]
     },
     "execution_count": 14,
     "metadata": {},
     "output_type": "execute_result"
    }
   ],
   "source": [
    "# b._subclass__private_member\n",
    "b._Modifiers__private_member"
   ]
  }
 ],
 "metadata": {
  "kernelspec": {
   "display_name": "Python 3",
   "language": "python",
   "name": "python3"
  },
  "language_info": {
   "codemirror_mode": {
    "name": "ipython",
    "version": 3
   },
   "file_extension": ".py",
   "mimetype": "text/x-python",
   "name": "python",
   "nbconvert_exporter": "python",
   "pygments_lexer": "ipython3",
   "version": "3.8.12"
  }
 },
 "nbformat": 4,
 "nbformat_minor": 5
}
