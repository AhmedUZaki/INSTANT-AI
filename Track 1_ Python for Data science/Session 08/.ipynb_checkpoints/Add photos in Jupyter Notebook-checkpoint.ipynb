{
 "cells": [
  {
   "cell_type": "markdown",
   "id": "6a4d813a",
   "metadata": {},
   "source": [
    "## Add photos in Jupyter Notebook"
   ]
  },
  {
   "cell_type": "markdown",
   "id": "25f0e11f",
   "metadata": {},
   "source": [
    "<div>\n",
    "<img src='https://www.tutorialcup.com/wp-content/uploads/2020/08/AccessModifiers.png?ezimgfmt=ng:webp/ngcb41' width=\"500\"/>\n",
    "<img src='https://miro.medium.com/max/1400/0*Rv7PKQbRdcEpolHA.png'\" width=\"300\"/>\n",
    "</div>"
   ]
  },
  {
   "cell_type": "markdown",
   "id": "25f6f1aa",
   "metadata": {
    "ExecuteTime": {
     "end_time": "2022-08-24T14:59:27.598181Z",
     "start_time": "2022-08-24T14:59:27.588208Z"
    }
   },
   "source": [
    "<table><tr>\n",
    "<td> <img src=\"https://www.tutorialcup.com/wp-content/uploads/2020/08/AccessModifiers.png?ezimgfmt=ng:webp/ngcb41\" alt=\"Drawing\" style=\"width: 250px;\"/> </td>\n",
    "<td> <img src=\"https://miro.medium.com/max/1400/0*Rv7PKQbRdcEpolHA.png\" alt=\"Drawing\" style=\"width: 250px;\"/> </td>\n",
    "</tr></table>"
   ]
  },
  {
   "cell_type": "markdown",
   "id": "5b37adfd",
   "metadata": {
    "ExecuteTime": {
     "end_time": "2022-08-24T15:02:16.693673Z",
     "start_time": "2022-08-24T15:02:16.685694Z"
    }
   },
   "source": [
    "<table><tr>\n",
    "<td><img src='https://www.tutorialcup.com/wp-content/uploads/2020/08/AccessModifiers.png?ezimgfmt=ng:webp/ngcb41' width=\"500\"/>\n",
    "</td>\n",
    "   \n",
    "<td><img src='https://miro.medium.com/max/1400/0*Rv7PKQbRdcEpolHA.png' width=\"400\"/> </td>\n",
    "</tr></table>\n"
   ]
  }
 ],
 "metadata": {
  "kernelspec": {
   "display_name": "Python 3",
   "language": "python",
   "name": "python3"
  },
  "language_info": {
   "codemirror_mode": {
    "name": "ipython",
    "version": 3
   },
   "file_extension": ".py",
   "mimetype": "text/x-python",
   "name": "python",
   "nbconvert_exporter": "python",
   "pygments_lexer": "ipython3",
   "version": "3.8.12"
  }
 },
 "nbformat": 4,
 "nbformat_minor": 5
}
